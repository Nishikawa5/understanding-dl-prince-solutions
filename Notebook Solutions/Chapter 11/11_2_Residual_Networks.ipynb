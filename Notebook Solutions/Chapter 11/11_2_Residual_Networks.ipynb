{
  "cells": [
    {
      "cell_type": "markdown",
      "metadata": {
        "colab_type": "text",
        "id": "view-in-github"
      },
      "source": [
        "<a href=\"https://colab.research.google.com/github/udlbook/udlbook/blob/main/Notebooks/Chap11/11_2_Residual_Networks.ipynb\" target=\"_parent\"><img src=\"https://colab.research.google.com/assets/colab-badge.svg\" alt=\"Open In Colab\"/></a>"
      ]
    },
    {
      "cell_type": "markdown",
      "metadata": {
        "id": "t9vk9Elugvmi"
      },
      "source": [
        "# **Notebook 11.2: Residual Networks**\n",
        "\n",
        "This notebook adapts the networks for MNIST1D to use residual connections.\n",
        "\n",
        "Work through the cells below, running each cell in turn. In various places you will see the words \"TODO\". Follow the instructions at these places and make predictions about what is going to happen or write code to complete the functions.\n",
        "\n",
        "Contact me at udlbookmail@gmail.com if you find any mistakes or have any suggestions.\n",
        "\n"
      ]
    },
    {
      "cell_type": "code",
      "execution_count": 1,
      "metadata": {
        "id": "D5yLObtZCi9J"
      },
      "outputs": [
        {
          "name": "stderr",
          "output_type": "stream",
          "text": [
            "  Running command git clone --filter=blob:none --quiet https://github.com/greydanus/mnist1d 'C:\\Users\\pichau\\AppData\\Local\\Temp\\pip-req-build-2oc8z9fd'\n"
          ]
        },
        {
          "name": "stdout",
          "output_type": "stream",
          "text": [
            "Collecting git+https://github.com/greydanus/mnist1d\n",
            "  Cloning https://github.com/greydanus/mnist1d to c:\\users\\pichau\\appdata\\local\\temp\\pip-req-build-2oc8z9fd\n",
            "  Resolved https://github.com/greydanus/mnist1d to commit 7878d96082abd200c546a07a4101fa90b30fdf7e\n",
            "  Installing build dependencies: started\n",
            "  Installing build dependencies: finished with status 'done'\n",
            "  Getting requirements to build wheel: started\n",
            "  Getting requirements to build wheel: finished with status 'done'\n",
            "  Preparing metadata (pyproject.toml): started\n",
            "  Preparing metadata (pyproject.toml): finished with status 'done'\n",
            "Requirement already satisfied: requests in c:\\users\\pichau\\anaconda3\\envs\\cuda_2025\\lib\\site-packages (from mnist1d==0.0.2.post16) (2.32.3)\n",
            "Requirement already satisfied: numpy in c:\\users\\pichau\\anaconda3\\envs\\cuda_2025\\lib\\site-packages (from mnist1d==0.0.2.post16) (2.0.1)\n",
            "Requirement already satisfied: matplotlib in c:\\users\\pichau\\anaconda3\\envs\\cuda_2025\\lib\\site-packages (from mnist1d==0.0.2.post16) (3.9.4)\n",
            "Requirement already satisfied: scipy in c:\\users\\pichau\\anaconda3\\envs\\cuda_2025\\lib\\site-packages (from mnist1d==0.0.2.post16) (1.13.1)\n",
            "Requirement already satisfied: contourpy>=1.0.1 in c:\\users\\pichau\\anaconda3\\envs\\cuda_2025\\lib\\site-packages (from matplotlib->mnist1d==0.0.2.post16) (1.3.0)\n",
            "Requirement already satisfied: cycler>=0.10 in c:\\users\\pichau\\anaconda3\\envs\\cuda_2025\\lib\\site-packages (from matplotlib->mnist1d==0.0.2.post16) (0.12.1)\n",
            "Requirement already satisfied: fonttools>=4.22.0 in c:\\users\\pichau\\anaconda3\\envs\\cuda_2025\\lib\\site-packages (from matplotlib->mnist1d==0.0.2.post16) (4.55.3)\n",
            "Requirement already satisfied: kiwisolver>=1.3.1 in c:\\users\\pichau\\anaconda3\\envs\\cuda_2025\\lib\\site-packages (from matplotlib->mnist1d==0.0.2.post16) (1.4.7)\n",
            "Requirement already satisfied: packaging>=20.0 in c:\\users\\pichau\\anaconda3\\envs\\cuda_2025\\lib\\site-packages (from matplotlib->mnist1d==0.0.2.post16) (24.2)\n",
            "Requirement already satisfied: pillow>=8 in c:\\users\\pichau\\anaconda3\\envs\\cuda_2025\\lib\\site-packages (from matplotlib->mnist1d==0.0.2.post16) (11.0.0)\n",
            "Requirement already satisfied: pyparsing>=2.3.1 in c:\\users\\pichau\\anaconda3\\envs\\cuda_2025\\lib\\site-packages (from matplotlib->mnist1d==0.0.2.post16) (3.2.1)\n",
            "Requirement already satisfied: python-dateutil>=2.7 in c:\\users\\pichau\\anaconda3\\envs\\cuda_2025\\lib\\site-packages (from matplotlib->mnist1d==0.0.2.post16) (2.9.0.post0)\n",
            "Requirement already satisfied: importlib-resources>=3.2.0 in c:\\users\\pichau\\anaconda3\\envs\\cuda_2025\\lib\\site-packages (from matplotlib->mnist1d==0.0.2.post16) (6.5.2)\n",
            "Requirement already satisfied: charset-normalizer<4,>=2 in c:\\users\\pichau\\anaconda3\\envs\\cuda_2025\\lib\\site-packages (from requests->mnist1d==0.0.2.post16) (3.3.2)\n",
            "Requirement already satisfied: idna<4,>=2.5 in c:\\users\\pichau\\anaconda3\\envs\\cuda_2025\\lib\\site-packages (from requests->mnist1d==0.0.2.post16) (3.7)\n",
            "Requirement already satisfied: urllib3<3,>=1.21.1 in c:\\users\\pichau\\anaconda3\\envs\\cuda_2025\\lib\\site-packages (from requests->mnist1d==0.0.2.post16) (2.2.3)\n",
            "Requirement already satisfied: certifi>=2017.4.17 in c:\\users\\pichau\\anaconda3\\envs\\cuda_2025\\lib\\site-packages (from requests->mnist1d==0.0.2.post16) (2024.12.14)\n",
            "Requirement already satisfied: zipp>=3.1.0 in c:\\users\\pichau\\anaconda3\\envs\\cuda_2025\\lib\\site-packages (from importlib-resources>=3.2.0->matplotlib->mnist1d==0.0.2.post16) (3.21.0)\n",
            "Requirement already satisfied: six>=1.5 in c:\\users\\pichau\\anaconda3\\envs\\cuda_2025\\lib\\site-packages (from python-dateutil>=2.7->matplotlib->mnist1d==0.0.2.post16) (1.16.0)\n"
          ]
        }
      ],
      "source": [
        "# Run this if you're in a Colab to install MNIST 1D repository\n",
        "!pip install git+https://github.com/greydanus/mnist1d"
      ]
    },
    {
      "cell_type": "code",
      "execution_count": 2,
      "metadata": {
        "id": "YrXWAH7sUWvU"
      },
      "outputs": [],
      "source": [
        "import numpy as np\n",
        "import os\n",
        "import torch, torch.nn as nn\n",
        "from torch.utils.data import TensorDataset, DataLoader\n",
        "from torch.optim.lr_scheduler import StepLR\n",
        "import matplotlib.pyplot as plt\n",
        "import mnist1d\n",
        "import random"
      ]
    },
    {
      "cell_type": "code",
      "execution_count": 3,
      "metadata": {
        "id": "twI72ZCrCt5z"
      },
      "outputs": [
        {
          "name": "stdout",
          "output_type": "stream",
          "text": [
            "Did or could not load data from ./mnist1d_data.pkl. Rebuilding dataset...\n",
            "Examples in training set: 4000\n",
            "Examples in test set: 1000\n",
            "Length of each example: 40\n"
          ]
        }
      ],
      "source": [
        "args = mnist1d.data.get_dataset_args()\n",
        "data = mnist1d.data.get_dataset(args, path='./mnist1d_data.pkl', download=False, regenerate=False)\n",
        "\n",
        "# The training and test input and outputs are in\n",
        "# data['x'], data['y'], data['x_test'], and data['y_test']\n",
        "print(\"Examples in training set: {}\".format(len(data['y'])))\n",
        "print(\"Examples in test set: {}\".format(len(data['y_test'])))\n",
        "print(\"Length of each example: {}\".format(data['x'].shape[-1]))"
      ]
    },
    {
      "cell_type": "code",
      "execution_count": 4,
      "metadata": {
        "id": "8bKADvLHbiV5"
      },
      "outputs": [
        {
          "name": "stdout",
          "output_type": "stream",
          "text": [
            "Train data: 4000 examples (columns), each of which has 40 dimensions (rows)\n",
            "Validation data: 1000 examples (columns), each of which has 40 dimensions (rows)\n"
          ]
        }
      ],
      "source": [
        "# Load in the data\n",
        "train_data_x = data['x'].transpose()\n",
        "train_data_y = data['y']\n",
        "val_data_x = data['x_test'].transpose()\n",
        "val_data_y = data['y_test']\n",
        "# Print out sizes\n",
        "print(\"Train data: %d examples (columns), each of which has %d dimensions (rows)\"%((train_data_x.shape[1],train_data_x.shape[0])))\n",
        "print(\"Validation data: %d examples (columns), each of which has %d dimensions (rows)\"%((val_data_x.shape[1],val_data_x.shape[0])))"
      ]
    },
    {
      "cell_type": "markdown",
      "metadata": {
        "id": "_sFvRDGrl4qe"
      },
      "source": [
        "Define the network"
      ]
    },
    {
      "cell_type": "code",
      "execution_count": 50,
      "metadata": {
        "id": "FslroPJJffrh"
      },
      "outputs": [],
      "source": [
        "# There are 40 input dimensions and 10 output dimensions for this data\n",
        "# The inputs correspond to the 40 offsets in the MNIST1D template.\n",
        "D_i = 40\n",
        "# The outputs correspond to the 10 digits\n",
        "D_o = 10\n",
        "\n",
        "\n",
        "# We will adapt this model to have residual connections around the linear layers\n",
        "# This is the same model we used in practical 8.1, but we can't use the sequential\n",
        "# class for residual networks (which aren't strictly sequential).  Hence, I've rewritten\n",
        "# it as a model that inherits from a base class\n",
        "\n",
        "class ResidualNetwork(torch.nn.Module):\n",
        "  def __init__(self, input_size, output_size, hidden_size=100):\n",
        "    super(ResidualNetwork, self).__init__()\n",
        "    self.linear1 = nn.Linear(input_size, hidden_size)\n",
        "    self.linear2 = nn.Linear(hidden_size, hidden_size)\n",
        "    self.linear3 = nn.Linear(hidden_size, hidden_size)\n",
        "    self.linear4 = nn.Linear(hidden_size, output_size)\n",
        "    print(\"Initialized MLPBase model with {} parameters\".format(self.count_params()))\n",
        "\n",
        "  def count_params(self):\n",
        "    return sum([p.view(-1).shape[0] for p in self.parameters()])\n",
        "\n",
        "# TODO -- Add residual connections to this model\n",
        "# The order of operations within each block should similar to figure 11.5b\n",
        "# ie., linear1 first, ReLU+linear2 in first residual block, ReLU+linear3 in second residual block), linear4 at end\n",
        "# Replace this function\n",
        "  def forward(self, x):\n",
        "    # First linear layer\n",
        "    h1 = self.linear1(x)\n",
        "    \n",
        "    # First residual block\n",
        "    h2 = nn.functional.relu(h1)\n",
        "    h2 = self.linear2(h2)\n",
        "    h2 = h2 + h1\n",
        "    \n",
        "    # Second residual block\n",
        "    h3 = nn.functional.relu(h2)\n",
        "    h3 = self.linear3(h3)\n",
        "    h3 = h3 + h2\n",
        "    \n",
        "    # Final layer\n",
        "    output = self.linear4(h3)\n",
        "    return output\n"
      ]
    },
    {
      "cell_type": "code",
      "execution_count": 51,
      "metadata": {
        "id": "YgLaex1pfhqz"
      },
      "outputs": [],
      "source": [
        "# He initialization of weights\n",
        "def weights_init(layer_in):\n",
        "  if isinstance(layer_in, nn.Linear):\n",
        "    nn.init.kaiming_uniform_(layer_in.weight)\n",
        "    layer_in.bias.data.fill_(0.0)"
      ]
    },
    {
      "cell_type": "code",
      "execution_count": 52,
      "metadata": {
        "id": "NYw8I_3mmX5c"
      },
      "outputs": [
        {
          "name": "stdout",
          "output_type": "stream",
          "text": [
            "Initialized MLPBase model with 25310 parameters\n",
            "Epoch     0, train loss 1.628914, train error 62.45,  val loss 1.745220, percent error 66.90\n",
            "Epoch     1, train loss 1.157793, train error 44.05,  val loss 1.313968, percent error 50.90\n",
            "Epoch     2, train loss 0.990640, train error 36.92,  val loss 1.183906, percent error 45.50\n",
            "Epoch     3, train loss 0.909502, train error 34.43,  val loss 1.169982, percent error 44.20\n",
            "Epoch     4, train loss 0.842930, train error 31.38,  val loss 1.138002, percent error 43.90\n",
            "Epoch     5, train loss 0.788710, train error 30.00,  val loss 1.149046, percent error 42.60\n",
            "Epoch     6, train loss 0.721616, train error 26.72,  val loss 1.214230, percent error 42.80\n",
            "Epoch     7, train loss 0.612535, train error 22.97,  val loss 1.104767, percent error 40.60\n",
            "Epoch     8, train loss 0.597859, train error 22.25,  val loss 1.151206, percent error 40.10\n",
            "Epoch     9, train loss 0.494452, train error 18.75,  val loss 1.143409, percent error 39.80\n",
            "Epoch    10, train loss 0.484867, train error 18.55,  val loss 1.168472, percent error 38.10\n",
            "Epoch    11, train loss 0.490473, train error 17.80,  val loss 1.175356, percent error 38.20\n",
            "Epoch    12, train loss 0.494716, train error 18.40,  val loss 1.276243, percent error 36.10\n",
            "Epoch    13, train loss 0.404470, train error 15.53,  val loss 1.210195, percent error 36.70\n",
            "Epoch    14, train loss 0.355272, train error 13.57,  val loss 1.210433, percent error 38.70\n",
            "Epoch    15, train loss 0.311719, train error 11.38,  val loss 1.183718, percent error 35.50\n",
            "Epoch    16, train loss 0.408295, train error 14.20,  val loss 1.468220, percent error 36.30\n",
            "Epoch    17, train loss 0.427271, train error 15.00,  val loss 1.438884, percent error 36.00\n",
            "Epoch    18, train loss 0.323204, train error 11.97,  val loss 1.282019, percent error 34.30\n",
            "Epoch    19, train loss 0.307263, train error 10.75,  val loss 1.445307, percent error 34.90\n",
            "Epoch    20, train loss 0.084875, train error 2.38,  val loss 1.233053, percent error 30.90\n",
            "Epoch    21, train loss 0.046629, train error 0.90,  val loss 1.203012, percent error 30.40\n",
            "Epoch    22, train loss 0.027233, train error 0.12,  val loss 1.180715, percent error 30.50\n",
            "Epoch    23, train loss 0.019704, train error 0.05,  val loss 1.187618, percent error 29.70\n",
            "Epoch    24, train loss 0.014530, train error 0.00,  val loss 1.220367, percent error 29.50\n",
            "Epoch    25, train loss 0.012027, train error 0.00,  val loss 1.244774, percent error 29.60\n",
            "Epoch    26, train loss 0.010239, train error 0.00,  val loss 1.269511, percent error 29.70\n",
            "Epoch    27, train loss 0.009044, train error 0.00,  val loss 1.281373, percent error 29.80\n",
            "Epoch    28, train loss 0.008095, train error 0.00,  val loss 1.307939, percent error 29.60\n",
            "Epoch    29, train loss 0.007289, train error 0.00,  val loss 1.319483, percent error 30.20\n",
            "Epoch    30, train loss 0.006650, train error 0.00,  val loss 1.337066, percent error 30.00\n",
            "Epoch    31, train loss 0.006136, train error 0.00,  val loss 1.349271, percent error 30.10\n",
            "Epoch    32, train loss 0.005679, train error 0.00,  val loss 1.366114, percent error 30.30\n",
            "Epoch    33, train loss 0.005307, train error 0.00,  val loss 1.378153, percent error 30.30\n",
            "Epoch    34, train loss 0.004950, train error 0.00,  val loss 1.389590, percent error 30.40\n",
            "Epoch    35, train loss 0.004641, train error 0.00,  val loss 1.399440, percent error 30.20\n",
            "Epoch    36, train loss 0.004374, train error 0.00,  val loss 1.412370, percent error 30.40\n",
            "Epoch    37, train loss 0.004133, train error 0.00,  val loss 1.420426, percent error 30.30\n",
            "Epoch    38, train loss 0.003915, train error 0.00,  val loss 1.430793, percent error 30.30\n",
            "Epoch    39, train loss 0.003723, train error 0.00,  val loss 1.442365, percent error 30.30\n",
            "Epoch    40, train loss 0.003619, train error 0.00,  val loss 1.445850, percent error 30.00\n",
            "Epoch    41, train loss 0.003532, train error 0.00,  val loss 1.449723, percent error 30.10\n",
            "Epoch    42, train loss 0.003450, train error 0.00,  val loss 1.452486, percent error 30.20\n",
            "Epoch    43, train loss 0.003373, train error 0.00,  val loss 1.458126, percent error 29.80\n",
            "Epoch    44, train loss 0.003296, train error 0.00,  val loss 1.462444, percent error 30.10\n",
            "Epoch    45, train loss 0.003225, train error 0.00,  val loss 1.465113, percent error 30.10\n",
            "Epoch    46, train loss 0.003156, train error 0.00,  val loss 1.469440, percent error 30.00\n",
            "Epoch    47, train loss 0.003093, train error 0.00,  val loss 1.473292, percent error 30.00\n",
            "Epoch    48, train loss 0.003026, train error 0.00,  val loss 1.476406, percent error 30.20\n",
            "Epoch    49, train loss 0.002965, train error 0.00,  val loss 1.481731, percent error 30.00\n",
            "Epoch    50, train loss 0.002907, train error 0.00,  val loss 1.484913, percent error 30.00\n",
            "Epoch    51, train loss 0.002850, train error 0.00,  val loss 1.488261, percent error 30.10\n",
            "Epoch    52, train loss 0.002796, train error 0.00,  val loss 1.491563, percent error 30.20\n",
            "Epoch    53, train loss 0.002743, train error 0.00,  val loss 1.494806, percent error 29.90\n",
            "Epoch    54, train loss 0.002693, train error 0.00,  val loss 1.498685, percent error 30.10\n",
            "Epoch    55, train loss 0.002643, train error 0.00,  val loss 1.501554, percent error 30.10\n",
            "Epoch    56, train loss 0.002596, train error 0.00,  val loss 1.506052, percent error 29.90\n",
            "Epoch    57, train loss 0.002550, train error 0.00,  val loss 1.510347, percent error 30.10\n",
            "Epoch    58, train loss 0.002506, train error 0.00,  val loss 1.512331, percent error 30.10\n",
            "Epoch    59, train loss 0.002463, train error 0.00,  val loss 1.515567, percent error 30.20\n",
            "Epoch    60, train loss 0.002441, train error 0.00,  val loss 1.517662, percent error 30.20\n",
            "Epoch    61, train loss 0.002421, train error 0.00,  val loss 1.519501, percent error 30.10\n",
            "Epoch    62, train loss 0.002401, train error 0.00,  val loss 1.520705, percent error 30.20\n",
            "Epoch    63, train loss 0.002380, train error 0.00,  val loss 1.522699, percent error 30.10\n",
            "Epoch    64, train loss 0.002361, train error 0.00,  val loss 1.524186, percent error 30.10\n",
            "Epoch    65, train loss 0.002341, train error 0.00,  val loss 1.525779, percent error 30.20\n",
            "Epoch    66, train loss 0.002322, train error 0.00,  val loss 1.526987, percent error 30.20\n",
            "Epoch    67, train loss 0.002304, train error 0.00,  val loss 1.528864, percent error 30.10\n",
            "Epoch    68, train loss 0.002285, train error 0.00,  val loss 1.530472, percent error 30.20\n",
            "Epoch    69, train loss 0.002268, train error 0.00,  val loss 1.531912, percent error 30.30\n",
            "Epoch    70, train loss 0.002250, train error 0.00,  val loss 1.533354, percent error 30.20\n",
            "Epoch    71, train loss 0.002232, train error 0.00,  val loss 1.534843, percent error 30.20\n",
            "Epoch    72, train loss 0.002215, train error 0.00,  val loss 1.536536, percent error 30.20\n",
            "Epoch    73, train loss 0.002197, train error 0.00,  val loss 1.537952, percent error 30.40\n",
            "Epoch    74, train loss 0.002180, train error 0.00,  val loss 1.539629, percent error 30.20\n",
            "Epoch    75, train loss 0.002164, train error 0.00,  val loss 1.541384, percent error 30.40\n",
            "Epoch    76, train loss 0.002148, train error 0.00,  val loss 1.542799, percent error 30.30\n",
            "Epoch    77, train loss 0.002132, train error 0.00,  val loss 1.544600, percent error 30.20\n",
            "Epoch    78, train loss 0.002116, train error 0.00,  val loss 1.545776, percent error 30.30\n",
            "Epoch    79, train loss 0.002100, train error 0.00,  val loss 1.547027, percent error 30.30\n",
            "Epoch    80, train loss 0.002092, train error 0.00,  val loss 1.547782, percent error 30.30\n",
            "Epoch    81, train loss 0.002084, train error 0.00,  val loss 1.548595, percent error 30.30\n",
            "Epoch    82, train loss 0.002077, train error 0.00,  val loss 1.549169, percent error 30.30\n",
            "Epoch    83, train loss 0.002069, train error 0.00,  val loss 1.549919, percent error 30.30\n",
            "Epoch    84, train loss 0.002062, train error 0.00,  val loss 1.550771, percent error 30.30\n",
            "Epoch    85, train loss 0.002054, train error 0.00,  val loss 1.551413, percent error 30.30\n",
            "Epoch    86, train loss 0.002047, train error 0.00,  val loss 1.552090, percent error 30.30\n",
            "Epoch    87, train loss 0.002039, train error 0.00,  val loss 1.552756, percent error 30.30\n",
            "Epoch    88, train loss 0.002032, train error 0.00,  val loss 1.553734, percent error 30.30\n",
            "Epoch    89, train loss 0.002025, train error 0.00,  val loss 1.554154, percent error 30.30\n",
            "Epoch    90, train loss 0.002018, train error 0.00,  val loss 1.554878, percent error 30.30\n",
            "Epoch    91, train loss 0.002010, train error 0.00,  val loss 1.555769, percent error 30.30\n",
            "Epoch    92, train loss 0.002003, train error 0.00,  val loss 1.556584, percent error 30.30\n",
            "Epoch    93, train loss 0.001996, train error 0.00,  val loss 1.557106, percent error 30.30\n",
            "Epoch    94, train loss 0.001989, train error 0.00,  val loss 1.557826, percent error 30.30\n",
            "Epoch    95, train loss 0.001982, train error 0.00,  val loss 1.558721, percent error 30.30\n",
            "Epoch    96, train loss 0.001975, train error 0.00,  val loss 1.559218, percent error 30.30\n",
            "Epoch    97, train loss 0.001968, train error 0.00,  val loss 1.559965, percent error 30.30\n",
            "Epoch    98, train loss 0.001962, train error 0.00,  val loss 1.560792, percent error 30.30\n",
            "Epoch    99, train loss 0.001955, train error 0.00,  val loss 1.561290, percent error 30.30\n"
          ]
        }
      ],
      "source": [
        "#Define the model\n",
        "model = ResidualNetwork(40, 10)\n",
        "\n",
        "# choose cross entropy loss function (equation 5.24 in the loss notes)\n",
        "loss_function = nn.CrossEntropyLoss()\n",
        "# construct SGD optimizer and initialize learning rate and momentum\n",
        "optimizer = torch.optim.SGD(model.parameters(), lr = 0.05, momentum=0.9)\n",
        "# object that decreases learning rate by half every 20 epochs\n",
        "scheduler = StepLR(optimizer, step_size=20, gamma=0.5)\n",
        "# convert data to torch tensors\n",
        "x_train = torch.from_numpy(train_data_x.transpose()).float()\n",
        "y_train = torch.from_numpy(train_data_y).long()\n",
        "x_val = torch.from_numpy(val_data_x.transpose()).float()\n",
        "y_val = torch.from_numpy(val_data_y).long()\n",
        "\n",
        "# load the data into a class that creates the batches\n",
        "data_loader = DataLoader(TensorDataset(x_train,y_train), batch_size=100, shuffle=True, worker_init_fn=np.random.seed(1))\n",
        "\n",
        "# Initialize model weights\n",
        "model.apply(weights_init)\n",
        "\n",
        "# loop over the dataset n_epoch times\n",
        "n_epoch = 100\n",
        "# store the loss and the % correct at each epoch\n",
        "losses_train = np.zeros((n_epoch))\n",
        "errors_train = np.zeros((n_epoch))\n",
        "losses_val = np.zeros((n_epoch))\n",
        "errors_val = np.zeros((n_epoch))\n",
        "\n",
        "for epoch in range(n_epoch):\n",
        "  # loop over batches\n",
        "  for i, data in enumerate(data_loader):\n",
        "    # retrieve inputs and labels for this batch\n",
        "    x_batch, y_batch = data\n",
        "    # zero the parameter gradients\n",
        "    optimizer.zero_grad()\n",
        "    # forward pass -- calculate model output\n",
        "    pred = model(x_batch)\n",
        "    # compute the loss\n",
        "    loss = loss_function(pred, y_batch)\n",
        "    # backward pass\n",
        "    loss.backward()\n",
        "    # SGD update\n",
        "    optimizer.step()\n",
        "\n",
        "  # Run whole dataset to get statistics -- normally wouldn't do this\n",
        "  pred_train = model(x_train)\n",
        "  pred_val = model(x_val)\n",
        "  _, predicted_train_class = torch.max(pred_train.data, 1)\n",
        "  _, predicted_val_class = torch.max(pred_val.data, 1)\n",
        "  errors_train[epoch] = 100 - 100 * (predicted_train_class == y_train).float().sum() / len(y_train)\n",
        "  errors_val[epoch]= 100 - 100 * (predicted_val_class == y_val).float().sum() / len(y_val)\n",
        "  losses_train[epoch] = loss_function(pred_train, y_train).item()\n",
        "  losses_val[epoch]= loss_function(pred_val, y_val).item()\n",
        "  print(f'Epoch {epoch:5d}, train loss {losses_train[epoch]:.6f}, train error {errors_train[epoch]:3.2f},  val loss {losses_val[epoch]:.6f}, percent error {errors_val[epoch]:3.2f}')\n",
        "\n",
        "  # tell scheduler to consider updating learning rate\n",
        "  scheduler.step()"
      ]
    },
    {
      "cell_type": "code",
      "execution_count": 53,
      "metadata": {
        "id": "CcP_VyEmE2sv"
      },
      "outputs": [
        {
          "data": {
            "image/png": "[encoded data removed]",
            "text/plain": [
              "<Figure size 640x480 with 1 Axes>"
            ]
          },
          "metadata": {},
          "output_type": "display_data"
        }
      ],
      "source": [
        "# Plot the results\n",
        "fig, ax = plt.subplots()\n",
        "ax.plot(errors_train,'r-',label='train')\n",
        "ax.plot(errors_val,'b-',label='test')\n",
        "ax.set_ylim(0,100); ax.set_xlim(0,n_epoch)\n",
        "ax.set_xlabel('Epoch'); ax.set_ylabel('Error')\n",
        "ax.set_title('TrainError %3.2f, Val Error %3.2f'%(errors_train[-1],errors_val[-1]))\n",
        "ax.legend()\n",
        "plt.show()"
      ]
    },
    {
      "cell_type": "markdown",
      "metadata": {
        "id": "wMmqhmxuAx0M"
      },
      "source": [
        "The primary motivation of residual networks is to allow training of much deeper networks.   \n",
        "\n",
        "TODO: Try running this network with and without the residual connections.  Does adding the residual connections change the performance?\n",
        "\n",
        "Ans: Yes. It goes from ~29 to ~31 validation error."
      ]
    }
  ],
  "metadata": {
    "colab": {
      "authorship_tag": "ABX9TyNIY8tswL9e48d5D53aSmHO",
      "include_colab_link": true,
      "provenance": []
    },
    "kernelspec": {
      "display_name": "cuda_2025",
      "language": "python",
      "name": "python3"
    },
    "language_info": {
      "codemirror_mode": {
        "name": "ipython",
        "version": 3
      },
      "file_extension": ".py",
      "mimetype": "text/x-python",
      "name": "python",
      "nbconvert_exporter": "python",
      "pygments_lexer": "ipython3",
      "version": "3.9.21"
    }
  },
  "nbformat": 4,
  "nbformat_minor": 0
}
