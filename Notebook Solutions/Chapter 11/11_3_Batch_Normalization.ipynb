{
  "cells": [
    {
      "cell_type": "markdown",
      "metadata": {
        "colab_type": "text",
        "id": "view-in-github"
      },
      "source": [
        "<a href=\"https://colab.research.google.com/github/udlbook/udlbook/blob/main/Notebooks/Chap11/11_3_Batch_Normalization.ipynb\" target=\"_parent\"><img src=\"https://colab.research.google.com/assets/colab-badge.svg\" alt=\"Open In Colab\"/></a>"
      ]
    },
    {
      "cell_type": "markdown",
      "metadata": {
        "id": "t9vk9Elugvmi"
      },
      "source": [
        "# **Notebook 11.3: Batch normalization**\n",
        "\n",
        "This notebook investigates the use of batch normalization in residual networks.\n",
        "\n",
        "Work through the cells below, running each cell in turn. In various places you will see the words \"TODO\". Follow the instructions at these places and make predictions about what is going to happen or write code to complete the functions.\n",
        "\n",
        "Contact me at udlbookmail@gmail.com if you find any mistakes or have any suggestions.\n",
        "\n"
      ]
    },
    {
      "cell_type": "code",
      "execution_count": 1,
      "metadata": {
        "id": "D5yLObtZCi9J"
      },
      "outputs": [
        {
          "name": "stdout",
          "output_type": "stream",
          "text": [
            "Collecting git+https://github.com/greydanus/mnist1d\n",
            "  Cloning https://github.com/greydanus/mnist1d to c:\\users\\pichau\\appdata\\local\\temp\\pip-req-build-yerumv32\n",
            "  Resolved https://github.com/greydanus/mnist1d to commit 7878d96082abd200c546a07a4101fa90b30fdf7e\n",
            "  Installing build dependencies: started\n",
            "  Installing build dependencies: finished with status 'done'\n",
            "  Getting requirements to build wheel: started\n",
            "  Getting requirements to build wheel: finished with status 'done'\n",
            "  Preparing metadata (pyproject.toml): started\n",
            "  Preparing metadata (pyproject.toml): finished with status 'done'\n",
            "Requirement already satisfied: requests in c:\\users\\pichau\\anaconda3\\envs\\cuda_2025\\lib\\site-packages (from mnist1d==0.0.2.post16) (2.32.3)\n",
            "Requirement already satisfied: numpy in c:\\users\\pichau\\anaconda3\\envs\\cuda_2025\\lib\\site-packages (from mnist1d==0.0.2.post16) (2.0.1)\n",
            "Requirement already satisfied: matplotlib in c:\\users\\pichau\\anaconda3\\envs\\cuda_2025\\lib\\site-packages (from mnist1d==0.0.2.post16) (3.9.4)\n",
            "Requirement already satisfied: scipy in c:\\users\\pichau\\anaconda3\\envs\\cuda_2025\\lib\\site-packages (from mnist1d==0.0.2.post16) (1.13.1)\n",
            "Requirement already satisfied: contourpy>=1.0.1 in c:\\users\\pichau\\anaconda3\\envs\\cuda_2025\\lib\\site-packages (from matplotlib->mnist1d==0.0.2.post16) (1.3.0)\n",
            "Requirement already satisfied: cycler>=0.10 in c:\\users\\pichau\\anaconda3\\envs\\cuda_2025\\lib\\site-packages (from matplotlib->mnist1d==0.0.2.post16) (0.12.1)\n",
            "Requirement already satisfied: fonttools>=4.22.0 in c:\\users\\pichau\\anaconda3\\envs\\cuda_2025\\lib\\site-packages (from matplotlib->mnist1d==0.0.2.post16) (4.55.3)\n",
            "Requirement already satisfied: kiwisolver>=1.3.1 in c:\\users\\pichau\\anaconda3\\envs\\cuda_2025\\lib\\site-packages (from matplotlib->mnist1d==0.0.2.post16) (1.4.7)\n",
            "Requirement already satisfied: packaging>=20.0 in c:\\users\\pichau\\anaconda3\\envs\\cuda_2025\\lib\\site-packages (from matplotlib->mnist1d==0.0.2.post16) (24.2)\n",
            "Requirement already satisfied: pillow>=8 in c:\\users\\pichau\\anaconda3\\envs\\cuda_2025\\lib\\site-packages (from matplotlib->mnist1d==0.0.2.post16) (11.0.0)\n",
            "Requirement already satisfied: pyparsing>=2.3.1 in c:\\users\\pichau\\anaconda3\\envs\\cuda_2025\\lib\\site-packages (from matplotlib->mnist1d==0.0.2.post16) (3.2.1)\n",
            "Requirement already satisfied: python-dateutil>=2.7 in c:\\users\\pichau\\anaconda3\\envs\\cuda_2025\\lib\\site-packages (from matplotlib->mnist1d==0.0.2.post16) (2.9.0.post0)\n",
            "Requirement already satisfied: importlib-resources>=3.2.0 in c:\\users\\pichau\\anaconda3\\envs\\cuda_2025\\lib\\site-packages (from matplotlib->mnist1d==0.0.2.post16) (6.5.2)\n",
            "Requirement already satisfied: charset-normalizer<4,>=2 in c:\\users\\pichau\\anaconda3\\envs\\cuda_2025\\lib\\site-packages (from requests->mnist1d==0.0.2.post16) (3.3.2)\n",
            "Requirement already satisfied: idna<4,>=2.5 in c:\\users\\pichau\\anaconda3\\envs\\cuda_2025\\lib\\site-packages (from requests->mnist1d==0.0.2.post16) (3.7)\n",
            "Requirement already satisfied: urllib3<3,>=1.21.1 in c:\\users\\pichau\\anaconda3\\envs\\cuda_2025\\lib\\site-packages (from requests->mnist1d==0.0.2.post16) (2.2.3)\n",
            "Requirement already satisfied: certifi>=2017.4.17 in c:\\users\\pichau\\anaconda3\\envs\\cuda_2025\\lib\\site-packages (from requests->mnist1d==0.0.2.post16) (2024.12.14)\n",
            "Requirement already satisfied: zipp>=3.1.0 in c:\\users\\pichau\\anaconda3\\envs\\cuda_2025\\lib\\site-packages (from importlib-resources>=3.2.0->matplotlib->mnist1d==0.0.2.post16) (3.21.0)\n",
            "Requirement already satisfied: six>=1.5 in c:\\users\\pichau\\anaconda3\\envs\\cuda_2025\\lib\\site-packages (from python-dateutil>=2.7->matplotlib->mnist1d==0.0.2.post16) (1.16.0)\n"
          ]
        },
        {
          "name": "stderr",
          "output_type": "stream",
          "text": [
            "  Running command git clone --filter=blob:none --quiet https://github.com/greydanus/mnist1d 'C:\\Users\\pichau\\AppData\\Local\\Temp\\pip-req-build-yerumv32'\n"
          ]
        }
      ],
      "source": [
        "# Run this if you're in a Colab to install MNIST 1D repository\n",
        "!pip install git+https://github.com/greydanus/mnist1d"
      ]
    },
    {
      "cell_type": "code",
      "execution_count": 2,
      "metadata": {
        "id": "YrXWAH7sUWvU"
      },
      "outputs": [],
      "source": [
        "import numpy as np\n",
        "import os\n",
        "import torch, torch.nn as nn\n",
        "from torch.utils.data import TensorDataset, DataLoader\n",
        "from torch.optim.lr_scheduler import StepLR\n",
        "import matplotlib.pyplot as plt\n",
        "import mnist1d\n",
        "import random"
      ]
    },
    {
      "cell_type": "code",
      "execution_count": 3,
      "metadata": {
        "id": "twI72ZCrCt5z"
      },
      "outputs": [
        {
          "name": "stdout",
          "output_type": "stream",
          "text": [
            "Successfully loaded data from ./mnist1d_data.pkl\n",
            "Examples in training set: 4000\n",
            "Examples in test set: 1000\n",
            "Length of each example: 40\n"
          ]
        }
      ],
      "source": [
        "args = mnist1d.data.get_dataset_args()\n",
        "data = mnist1d.data.get_dataset(args, path='./mnist1d_data.pkl', download=False, regenerate=False)\n",
        "\n",
        "# The training and test input and outputs are in\n",
        "# data['x'], data['y'], data['x_test'], and data['y_test']\n",
        "print(\"Examples in training set: {}\".format(len(data['y'])))\n",
        "print(\"Examples in test set: {}\".format(len(data['y_test'])))\n",
        "print(\"Length of each example: {}\".format(data['x'].shape[-1]))"
      ]
    },
    {
      "cell_type": "code",
      "execution_count": 4,
      "metadata": {
        "id": "8bKADvLHbiV5"
      },
      "outputs": [
        {
          "name": "stdout",
          "output_type": "stream",
          "text": [
            "Train data: 4000 examples (columns), each of which has 40 dimensions (rows)\n",
            "Validation data: 1000 examples (columns), each of which has 40 dimensions (rows)\n"
          ]
        }
      ],
      "source": [
        "# Load in the data\n",
        "train_data_x = data['x'].transpose()\n",
        "train_data_y = data['y']\n",
        "val_data_x = data['x_test'].transpose()\n",
        "val_data_y = data['y_test']\n",
        "# Print out sizes\n",
        "print(\"Train data: %d examples (columns), each of which has %d dimensions (rows)\"%((train_data_x.shape[1],train_data_x.shape[0])))\n",
        "print(\"Validation data: %d examples (columns), each of which has %d dimensions (rows)\"%((val_data_x.shape[1],val_data_x.shape[0])))"
      ]
    },
    {
      "cell_type": "code",
      "execution_count": 5,
      "metadata": {
        "id": "3bBpJIV-N-lt"
      },
      "outputs": [],
      "source": [
        "def print_variance(name, data):\n",
        "  # First dimension(rows) is batch elements\n",
        "  # Second dimension(columns) is neurons.\n",
        "  np_data = data.detach().numpy()\n",
        "  # Compute variance across neurons and average these variances over members of the batch\n",
        "  neuron_variance = np.mean(np.var(np_data, axis=0))\n",
        "  # Print out the name and the variance\n",
        "  print(\"%s variance=%f\"%(name,neuron_variance))"
      ]
    },
    {
      "cell_type": "code",
      "execution_count": 6,
      "metadata": {
        "id": "YgLaex1pfhqz"
      },
      "outputs": [],
      "source": [
        "# He initialization of weights\n",
        "def weights_init(layer_in):\n",
        "  if isinstance(layer_in, nn.Linear):\n",
        "    nn.init.kaiming_uniform_(layer_in.weight)\n",
        "    layer_in.bias.data.fill_(0.0)"
      ]
    },
    {
      "cell_type": "code",
      "execution_count": 7,
      "metadata": {
        "id": "DFlu45pORQEz"
      },
      "outputs": [],
      "source": [
        "def run_one_step_of_model(model, x_train, y_train):\n",
        "  # choose cross entropy loss function (equation 5.24 in the loss notes)\n",
        "  loss_function = nn.CrossEntropyLoss()\n",
        "  # construct SGD optimizer and initialize learning rate and momentum\n",
        "  optimizer = torch.optim.SGD(model.parameters(), lr = 0.05, momentum=0.9)\n",
        "\n",
        "  # load the data into a class that creates the batches\n",
        "  data_loader = DataLoader(TensorDataset(x_train,y_train), batch_size=200, shuffle=True, worker_init_fn=np.random.seed(1))\n",
        "\n",
        "  # Initialize model weights\n",
        "  model.apply(weights_init)\n",
        "\n",
        "  # Get a batch\n",
        "  for i, data in enumerate(data_loader):\n",
        "    # retrieve inputs and labels for this batch\n",
        "    x_batch, y_batch = data\n",
        "    # zero the parameter gradients\n",
        "    optimizer.zero_grad()\n",
        "    # forward pass -- calculate model output\n",
        "    pred = model(x_batch)\n",
        "    # compute the loss\n",
        "    loss = loss_function(pred, y_batch)\n",
        "    # backward pass\n",
        "    loss.backward()\n",
        "    # SGD update\n",
        "    optimizer.step()\n",
        "    # Break out of this loop -- we just want to see the first\n",
        "    # iteration, but usually we would continue\n",
        "    break"
      ]
    },
    {
      "cell_type": "code",
      "execution_count": 11,
      "metadata": {
        "id": "i7Q0ScWgRe4G"
      },
      "outputs": [],
      "source": [
        "# convert training data to torch tensors\n",
        "x_train = torch.tensor(train_data_x.transpose().astype('float32'))\n",
        "y_train = torch.tensor(train_data_y, dtype=torch.long)"
      ]
    },
    {
      "cell_type": "code",
      "execution_count": 12,
      "metadata": {
        "id": "FslroPJJffrh"
      },
      "outputs": [],
      "source": [
        "# This is a simple residual model with 5 residual branches in a row\n",
        "class ResidualNetwork(torch.nn.Module):\n",
        "  def __init__(self, input_size, output_size, hidden_size=100):\n",
        "    super(ResidualNetwork, self).__init__()\n",
        "    self.linear1 = nn.Linear(input_size, hidden_size)\n",
        "    self.linear2 = nn.Linear(hidden_size, hidden_size)\n",
        "    self.linear3 = nn.Linear(hidden_size, hidden_size)\n",
        "    self.linear4 = nn.Linear(hidden_size, hidden_size)\n",
        "    self.linear5 = nn.Linear(hidden_size, hidden_size)\n",
        "    self.linear6 = nn.Linear(hidden_size, hidden_size)\n",
        "    self.linear7 = nn.Linear(hidden_size, output_size)\n",
        "\n",
        "  def count_params(self):\n",
        "    return sum([p.view(-1).shape[0] for p in self.parameters()])\n",
        "\n",
        "  def forward(self, x):\n",
        "    print_variance(\"Input\",x)\n",
        "    f = self.linear1(x)\n",
        "    print_variance(\"First preactivation\",f)\n",
        "    res1 = f+ self.linear2(f.relu())\n",
        "    print_variance(\"After first residual connection\",res1)\n",
        "    res2 = res1 + self.linear3(res1.relu())\n",
        "    print_variance(\"After second residual connection\",res2)\n",
        "    res3 = res2 + self.linear4(res2.relu())\n",
        "    print_variance(\"After third residual connection\",res3)\n",
        "    res4 = res3 + self.linear5(res3.relu())\n",
        "    print_variance(\"After fourth residual connection\",res4)\n",
        "    res5 = res4 + self.linear6(res4.relu())\n",
        "    print_variance(\"After fifth residual connection\",res5)\n",
        "    return self.linear7(res5)"
      ]
    },
    {
      "cell_type": "code",
      "execution_count": 30,
      "metadata": {
        "id": "NYw8I_3mmX5c"
      },
      "outputs": [
        {
          "name": "stdout",
          "output_type": "stream",
          "text": [
            "Input variance=1.062124\n",
            "First preactivation variance=2.074608\n",
            "After first residual connection variance=3.518246\n",
            "After second residual connection variance=6.326108\n",
            "After third residual connection variance=11.329310\n",
            "After fourth residual connection variance=20.535728\n",
            "After fifth residual connection variance=37.882336\n"
          ]
        }
      ],
      "source": [
        "# Define the model and run for one step\n",
        "# Monitoring the variance at each point in the network\n",
        "n_hidden = 100\n",
        "n_input = 40\n",
        "n_output = 10\n",
        "model = ResidualNetwork(n_input, n_output, n_hidden)\n",
        "run_one_step_of_model(model, x_train, y_train)"
      ]
    },
    {
      "cell_type": "markdown",
      "metadata": {
        "id": "0kZUlWkkW8jE"
      },
      "source": [
        "Notice that the variance roughly doubles at each step so it increases exponentially as in figure 11.6b in the book."
      ]
    },
    {
      "cell_type": "code",
      "execution_count": 22,
      "metadata": {
        "id": "5JvMmaRITKGd"
      },
      "outputs": [],
      "source": [
        "# TODO Adapt the residual network below to add a batch norm operation\n",
        "# before the contents of each residual link as in figure 11.6c in the book\n",
        "# Use the torch function nn.BatchNorm1d\n",
        "class ResidualNetworkWithBatchNorm(torch.nn.Module):\n",
        "  def __init__(self, input_size, output_size, hidden_size=100):\n",
        "    super(ResidualNetworkWithBatchNorm, self).__init__()\n",
        "    self.linear1 = nn.Linear(input_size, hidden_size)\n",
        "    self.linear2 = nn.Linear(hidden_size, hidden_size)\n",
        "    self.linear3 = nn.Linear(hidden_size, hidden_size)\n",
        "    self.linear4 = nn.Linear(hidden_size, hidden_size)\n",
        "    self.linear5 = nn.Linear(hidden_size, hidden_size)\n",
        "    self.linear6 = nn.Linear(hidden_size, hidden_size)\n",
        "    self.linear7 = nn.Linear(hidden_size, output_size)\n",
        "    \n",
        "    self.bn = nn.BatchNorm1d(hidden_size)\n",
        "\n",
        "  def count_params(self):\n",
        "    return sum([p.view(-1).shape[0] for p in self.parameters()])\n",
        "\n",
        "  def forward(self, x):\n",
        "    print_variance(\"Input\", x)\n",
        "    \n",
        "    f = self.linear1(x)\n",
        "    print_variance(\"First preactivation\", f)\n",
        "    \n",
        "    h1 = self.bn(f.relu())\n",
        "    res1 = f + self.linear2(h1)\n",
        "    print_variance(\"After first residual connection\", res1)\n",
        "    \n",
        "    h2 = self.bn(res1.relu())\n",
        "    res2 = res1 + self.linear3(h2)\n",
        "    print_variance(\"After second residual connection\", res2)\n",
        "    \n",
        "    h3 = self.bn(res2.relu())\n",
        "    res3 = res2 + self.linear4(h3)\n",
        "    print_variance(\"After third residual connection\", res3)\n",
        "    \n",
        "    h4 = self.bn(res3.relu())\n",
        "    res4 = res3 + self.linear5(h4)\n",
        "    print_variance(\"After fourth residual connection\", res4)\n",
        "    \n",
        "    h5 = self.bn(res4.relu())\n",
        "    res5 = res4 + self.linear6(h5)\n",
        "    print_variance(\"After fifth residual connection\", res5)\n",
        "    \n",
        "    return self.linear7(res5)"
      ]
    },
    {
      "cell_type": "code",
      "execution_count": 41,
      "metadata": {
        "id": "2U3DnlH9Uw6c"
      },
      "outputs": [
        {
          "name": "stdout",
          "output_type": "stream",
          "text": [
            "Input variance=0.961033\n",
            "First preactivation variance=1.993694\n",
            "After first residual connection variance=4.035995\n",
            "After second residual connection variance=6.104025\n",
            "After third residual connection variance=8.220509\n",
            "After fourth residual connection variance=10.204999\n",
            "After fifth residual connection variance=12.239717\n"
          ]
        }
      ],
      "source": [
        "# Define the model\n",
        "n_hidden = 100\n",
        "n_input = 40\n",
        "n_output = 10\n",
        "model = ResidualNetworkWithBatchNorm(n_input, n_output, n_hidden)\n",
        "run_one_step_of_model(model, x_train, y_train)"
      ]
    },
    {
      "cell_type": "markdown",
      "metadata": {
        "id": "R_ucFq9CXq8D"
      },
      "source": [
        "Note that the variance now increases linearly as in figure 11.6c."
      ]
    },
    {
      "cell_type": "markdown",
      "metadata": {},
      "source": []
    }
  ],
  "metadata": {
    "colab": {
      "authorship_tag": "ABX9TyPx2mM2zTHmDJeKeiE1RymT",
      "include_colab_link": true,
      "provenance": []
    },
    "kernelspec": {
      "display_name": "cuda_2025",
      "language": "python",
      "name": "python3"
    },
    "language_info": {
      "codemirror_mode": {
        "name": "ipython",
        "version": 3
      },
      "file_extension": ".py",
      "mimetype": "text/x-python",
      "name": "python",
      "nbconvert_exporter": "python",
      "pygments_lexer": "ipython3",
      "version": "3.9.21"
    }
  },
  "nbformat": 4,
  "nbformat_minor": 0
}
