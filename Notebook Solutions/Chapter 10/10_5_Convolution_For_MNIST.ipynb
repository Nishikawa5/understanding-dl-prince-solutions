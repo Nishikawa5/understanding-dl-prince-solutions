{
  "cells": [
    {
      "cell_type": "markdown",
      "metadata": {
        "colab_type": "text",
        "id": "view-in-github"
      },
      "source": [
        "<a href=\"https://colab.research.google.com/github/udlbook/udlbook/blob/main/Notebooks/Chap10/10_5_Convolution_For_MNIST.ipynb\" target=\"_parent\"><img src=\"https://colab.research.google.com/assets/colab-badge.svg\" alt=\"Open In Colab\"/></a>"
      ]
    },
    {
      "cell_type": "markdown",
      "metadata": {
        "id": "t9vk9Elugvmi"
      },
      "source": [
        "# **Notebook 10.5: Convolution for MNIST**\n",
        "\n",
        "This notebook builds a proper network for 2D convolution.  It works with the MNIST dataset (figure 15.15a), which was the original classic dataset for classifying images.  The network will take a 28x28 grayscale image and classify it into one of 10 classes representing a digit.\n",
        "\n",
        "The code is adapted from https://nextjournal.com/gkoehler/pytorch-mnist\n",
        "\n",
        "Work through the cells below, running each cell in turn. In various places you will see the words \"TODO\". Follow the instructions at these places and make predictions about what is going to happen or write code to complete the functions.\n",
        "\n",
        "Contact me at udlbookmail@gmail.com if you find any mistakes or have any suggestions.\n"
      ]
    },
    {
      "cell_type": "code",
      "execution_count": 1,
      "metadata": {
        "id": "YrXWAH7sUWvU"
      },
      "outputs": [],
      "source": [
        "import torch\n",
        "import torchvision\n",
        "import torch.nn as nn\n",
        "import torch.nn.functional as F\n",
        "import torch.optim as optim\n",
        "import matplotlib.pyplot as plt\n",
        "import random"
      ]
    },
    {
      "cell_type": "code",
      "execution_count": 2,
      "metadata": {
        "id": "wScBGXXFVadm"
      },
      "outputs": [
        {
          "name": "stdout",
          "output_type": "stream",
          "text": [
            "Downloading http://yann.lecun.com/exdb/mnist/train-images-idx3-ubyte.gz\n",
            "Failed to download (trying next):\n",
            "HTTP Error 404: Not Found\n",
            "\n",
            "Downloading https://ossci-datasets.s3.amazonaws.com/mnist/train-images-idx3-ubyte.gz\n",
            "Downloading https://ossci-datasets.s3.amazonaws.com/mnist/train-images-idx3-ubyte.gz to /files/MNIST\\raw\\train-images-idx3-ubyte.gz\n"
          ]
        },
        {
          "name": "stderr",
          "output_type": "stream",
          "text": [
            "100%|██████████| 9.91M/9.91M [00:03<00:00, 2.51MB/s]\n"
          ]
        },
        {
          "name": "stdout",
          "output_type": "stream",
          "text": [
            "Extracting /files/MNIST\\raw\\train-images-idx3-ubyte.gz to /files/MNIST\\raw\n",
            "\n",
            "Downloading http://yann.lecun.com/exdb/mnist/train-labels-idx1-ubyte.gz\n",
            "Failed to download (trying next):\n",
            "HTTP Error 404: Not Found\n",
            "\n",
            "Downloading https://ossci-datasets.s3.amazonaws.com/mnist/train-labels-idx1-ubyte.gz\n",
            "Downloading https://ossci-datasets.s3.amazonaws.com/mnist/train-labels-idx1-ubyte.gz to /files/MNIST\\raw\\train-labels-idx1-ubyte.gz\n"
          ]
        },
        {
          "name": "stderr",
          "output_type": "stream",
          "text": [
            "100%|██████████| 28.9k/28.9k [00:00<00:00, 194kB/s]\n"
          ]
        },
        {
          "name": "stdout",
          "output_type": "stream",
          "text": [
            "Extracting /files/MNIST\\raw\\train-labels-idx1-ubyte.gz to /files/MNIST\\raw\n",
            "\n",
            "Downloading http://yann.lecun.com/exdb/mnist/t10k-images-idx3-ubyte.gz\n",
            "Failed to download (trying next):\n",
            "HTTP Error 404: Not Found\n",
            "\n",
            "Downloading https://ossci-datasets.s3.amazonaws.com/mnist/t10k-images-idx3-ubyte.gz\n",
            "Downloading https://ossci-datasets.s3.amazonaws.com/mnist/t10k-images-idx3-ubyte.gz to /files/MNIST\\raw\\t10k-images-idx3-ubyte.gz\n"
          ]
        },
        {
          "name": "stderr",
          "output_type": "stream",
          "text": [
            "100%|██████████| 1.65M/1.65M [00:00<00:00, 1.69MB/s]\n"
          ]
        },
        {
          "name": "stdout",
          "output_type": "stream",
          "text": [
            "Extracting /files/MNIST\\raw\\t10k-images-idx3-ubyte.gz to /files/MNIST\\raw\n",
            "\n",
            "Downloading http://yann.lecun.com/exdb/mnist/t10k-labels-idx1-ubyte.gz\n",
            "Failed to download (trying next):\n",
            "HTTP Error 404: Not Found\n",
            "\n",
            "Downloading https://ossci-datasets.s3.amazonaws.com/mnist/t10k-labels-idx1-ubyte.gz\n",
            "Downloading https://ossci-datasets.s3.amazonaws.com/mnist/t10k-labels-idx1-ubyte.gz to /files/MNIST\\raw\\t10k-labels-idx1-ubyte.gz\n"
          ]
        },
        {
          "name": "stderr",
          "output_type": "stream",
          "text": [
            "100%|██████████| 4.54k/4.54k [00:00<00:00, 4.55MB/s]"
          ]
        },
        {
          "name": "stdout",
          "output_type": "stream",
          "text": [
            "Extracting /files/MNIST\\raw\\t10k-labels-idx1-ubyte.gz to /files/MNIST\\raw\n",
            "\n"
          ]
        },
        {
          "name": "stderr",
          "output_type": "stream",
          "text": [
            "\n"
          ]
        }
      ],
      "source": [
        "# Run this once to load the train and test data straight into a dataloader class\n",
        "# that will provide the batches\n",
        "\n",
        "# (It may complain that some files are missing because the files seem to have been\n",
        "# reorganized on the underlying website, but it still seems to work). If everything is working\n",
        "# properly, then the whole notebook should run to the end without further problems\n",
        "# even before you make changes.\n",
        "batch_size_train = 64\n",
        "batch_size_test = 1000\n",
        "\n",
        "# TODO Change this directory to point towards an existing directory\n",
        "myDir = '/files/'\n",
        "\n",
        "train_loader = torch.utils.data.DataLoader(\n",
        "  torchvision.datasets.MNIST(myDir, train=True, download=True,\n",
        "                             transform=torchvision.transforms.Compose([\n",
        "                               torchvision.transforms.ToTensor(),\n",
        "                               torchvision.transforms.Normalize(\n",
        "                                 (0.1307,), (0.3081,))\n",
        "                             ])),\n",
        "  batch_size=batch_size_train, shuffle=True)\n",
        "\n",
        "test_loader = torch.utils.data.DataLoader(\n",
        "  torchvision.datasets.MNIST(myDir, train=False, download=True,\n",
        "                             transform=torchvision.transforms.Compose([\n",
        "                               torchvision.transforms.ToTensor(),\n",
        "                               torchvision.transforms.Normalize(\n",
        "                                 (0.1307,), (0.3081,))\n",
        "                             ])),\n",
        "  batch_size=batch_size_test, shuffle=True)"
      ]
    },
    {
      "cell_type": "code",
      "execution_count": 3,
      "metadata": {
        "id": "8bKADvLHbiV5"
      },
      "outputs": [
        {
          "data": {
            "image/png": "[encoded data removed]",
            "text/plain": [
              "<Figure size 640x480 with 6 Axes>"
            ]
          },
          "metadata": {},
          "output_type": "display_data"
        }
      ],
      "source": [
        "# Let's draw some of the training data\n",
        "examples = enumerate(test_loader)\n",
        "batch_idx, (example_data, example_targets) = next(examples)\n",
        "\n",
        "fig = plt.figure()\n",
        "for i in range(6):\n",
        "  plt.subplot(2,3,i+1)\n",
        "  plt.tight_layout()\n",
        "  plt.imshow(example_data[i][0], cmap='gray', interpolation='none')\n",
        "  plt.title(\"Ground Truth: {}\".format(example_targets[i]))\n",
        "  plt.xticks([])\n",
        "  plt.yticks([])\n",
        "plt.show()"
      ]
    },
    {
      "cell_type": "markdown",
      "metadata": {
        "id": "_sFvRDGrl4qe"
      },
      "source": [
        "Define the network.  This is a more typical way to define a network than the sequential structure.  We define a class for the network, and define the parameters in the constructor.  Then we use a function called forward to actually run the network.  It's easy to see how you might use residual connections in this format."
      ]
    },
    {
      "cell_type": "code",
      "execution_count": 18,
      "metadata": {
        "id": "EQkvw2KOPVl7"
      },
      "outputs": [],
      "source": [
        "from os import X_OK\n",
        "# TODO Change this class to implement\n",
        "# 1. A valid convolution with kernel size 5, 1 input channel and 10 output channels\n",
        "# 2. A max pooling operation over a 2x2 area\n",
        "# 3. A Relu\n",
        "# 4. A valid convolution with kernel size 5, 10 input channels and 20 output channels\n",
        "# 5. A 2D Dropout layer\n",
        "# 6. A max pooling operation over a 2x2 area\n",
        "# 7. A relu\n",
        "# 8. A flattening operation\n",
        "# 9. A fully connected layer mapping from (whatever dimensions we are at-- find out using .shape) to 50\n",
        "# 10. A ReLU\n",
        "# 11. A fully connected layer mapping from 50 to 10 dimensions\n",
        "# 12. A softmax function.\n",
        "\n",
        "# Replace this class which implements a minimal network (which still does okay)\n",
        "class Net(nn.Module):\n",
        "    def __init__(self):\n",
        "        super(Net, self).__init__()\n",
        "        \n",
        "        self.conv1 = nn.Conv2d(1, 10, kernel_size=5)\n",
        "        self.maxpool1 = nn.MaxPool2d(kernel_size=2)\n",
        "\n",
        "        self.conv2 = nn.Conv2d(10, 20, kernel_size=5)\n",
        "        self.drop = nn.Dropout2d()\n",
        "        self.maxpool2 = nn.MaxPool2d(kernel_size=2)\n",
        "\n",
        "        # implement that in forward\n",
        "        self.fc1 = None\n",
        "\n",
        "        self.fc2 = nn.Linear(50, 10)\n",
        "        \n",
        "    def forward(self, x):\n",
        "        x = self.conv1(x)\n",
        "        x = self.maxpool1(x)\n",
        "        x = F.relu(x)\n",
        "\n",
        "        x = self.conv2(x)\n",
        "        x = self.drop(x)\n",
        "        x = self.maxpool2(x)\n",
        "        x = F.relu(x)\n",
        "\n",
        "\n",
        "        x = x.flatten(1)\n",
        "        \n",
        "        if self.fc1 == None:\n",
        "            self.fc1 = nn.Linear(x.shape[1], 50).to(x.device)\n",
        "        \n",
        "        x = self.fc1(x)\n",
        "        x = F.relu(x)\n",
        "        \n",
        "        x = self.fc2(x)\n",
        "        x = F.log_softmax(x)\n",
        "\n",
        "        return x"
      ]
    },
    {
      "cell_type": "code",
      "execution_count": 19,
      "metadata": {
        "id": "qWZtkCZcU_dg"
      },
      "outputs": [],
      "source": [
        "# He initialization of weights\n",
        "def weights_init(layer_in):\n",
        "  if isinstance(layer_in, nn.Linear):\n",
        "    nn.init.kaiming_uniform_(layer_in.weight)\n",
        "    layer_in.bias.data.fill_(0.0)"
      ]
    },
    {
      "cell_type": "code",
      "execution_count": 20,
      "metadata": {
        "id": "FslroPJJffrh"
      },
      "outputs": [],
      "source": [
        "# Create network\n",
        "model = Net()\n",
        "# Initialize model weights\n",
        "model.apply(weights_init)\n",
        "# Define optimizer\n",
        "optimizer = optim.SGD(model.parameters(), lr=0.01, momentum=0.5)"
      ]
    },
    {
      "cell_type": "code",
      "execution_count": 21,
      "metadata": {
        "id": "xKQd9PzkQ766"
      },
      "outputs": [],
      "source": [
        "# Main training routine\n",
        "def train(epoch):\n",
        "  model.train()\n",
        "  # Get each\n",
        "  for batch_idx, (data, target) in enumerate(train_loader):\n",
        "    optimizer.zero_grad()\n",
        "    output = model(data)\n",
        "    loss = F.nll_loss(output, target)\n",
        "    loss.backward()\n",
        "    optimizer.step()\n",
        "    # Store results\n",
        "    if batch_idx % 10 == 0:\n",
        "      print('Train Epoch: {} [{}/{}]\\tLoss: {:.6f}'.format(\n",
        "        epoch, batch_idx * len(data), len(train_loader.dataset), loss.item()))"
      ]
    },
    {
      "cell_type": "code",
      "execution_count": 22,
      "metadata": {
        "id": "Byn-f7qWRLxX"
      },
      "outputs": [],
      "source": [
        "# Run on test data\n",
        "def test():\n",
        "  model.eval()\n",
        "  test_loss = 0\n",
        "  correct = 0\n",
        "  with torch.no_grad():\n",
        "    for data, target in test_loader:\n",
        "      output = model(data)\n",
        "      test_loss += F.nll_loss(output, target, size_average=False).item()\n",
        "      pred = output.data.max(1, keepdim=True)[1]\n",
        "      correct += pred.eq(target.data.view_as(pred)).sum()\n",
        "  test_loss /= len(test_loader.dataset)\n",
        "  print('\\nTest set: Avg. loss: {:.4f}, Accuracy: {}/{} ({:.0f}%)\\n'.format(\n",
        "    test_loss, correct, len(test_loader.dataset),\n",
        "    100. * correct / len(test_loader.dataset)))"
      ]
    },
    {
      "cell_type": "code",
      "execution_count": 23,
      "metadata": {
        "id": "YgLaex1pfhqz"
      },
      "outputs": [
        {
          "name": "stderr",
          "output_type": "stream",
          "text": [
            "C:\\Users\\pichau\\AppData\\Local\\Temp\\ipykernel_13424\\1117673906.py:53: UserWarning: Implicit dimension choice for log_softmax has been deprecated. Change the call to include dim=X as an argument.\n",
            "  x = F.log_softmax(x)\n",
            "c:\\Users\\pichau\\anaconda3\\envs\\cuda_2025\\lib\\site-packages\\torch\\nn\\_reduction.py:51: UserWarning: size_average and reduce args will be deprecated, please use reduction='sum' instead.\n",
            "  warnings.warn(warning.format(ret))\n"
          ]
        },
        {
          "name": "stdout",
          "output_type": "stream",
          "text": [
            "\n",
            "Test set: Avg. loss: 2.3333, Accuracy: 884/10000 (9%)\n",
            "\n",
            "Train Epoch: 1 [0/60000]\tLoss: 2.330255\n",
            "Train Epoch: 1 [640/60000]\tLoss: 2.312783\n",
            "Train Epoch: 1 [1280/60000]\tLoss: 2.220390\n",
            "Train Epoch: 1 [1920/60000]\tLoss: 2.203140\n",
            "Train Epoch: 1 [2560/60000]\tLoss: 2.227752\n",
            "Train Epoch: 1 [3200/60000]\tLoss: 2.166976\n",
            "Train Epoch: 1 [3840/60000]\tLoss: 2.042555\n",
            "Train Epoch: 1 [4480/60000]\tLoss: 2.062017\n",
            "Train Epoch: 1 [5120/60000]\tLoss: 2.041371\n",
            "Train Epoch: 1 [5760/60000]\tLoss: 1.876646\n",
            "Train Epoch: 1 [6400/60000]\tLoss: 1.911386\n",
            "Train Epoch: 1 [7040/60000]\tLoss: 1.774874\n",
            "Train Epoch: 1 [7680/60000]\tLoss: 1.782325\n",
            "Train Epoch: 1 [8320/60000]\tLoss: 1.699528\n",
            "Train Epoch: 1 [8960/60000]\tLoss: 1.372885\n",
            "Train Epoch: 1 [9600/60000]\tLoss: 1.644815\n",
            "Train Epoch: 1 [10240/60000]\tLoss: 1.660724\n",
            "Train Epoch: 1 [10880/60000]\tLoss: 1.481826\n",
            "Train Epoch: 1 [11520/60000]\tLoss: 1.559873\n",
            "Train Epoch: 1 [12160/60000]\tLoss: 1.466314\n",
            "Train Epoch: 1 [12800/60000]\tLoss: 1.330424\n",
            "Train Epoch: 1 [13440/60000]\tLoss: 1.267847\n",
            "Train Epoch: 1 [14080/60000]\tLoss: 1.188797\n",
            "Train Epoch: 1 [14720/60000]\tLoss: 1.509146\n",
            "Train Epoch: 1 [15360/60000]\tLoss: 1.306967\n",
            "Train Epoch: 1 [16000/60000]\tLoss: 1.042204\n",
            "Train Epoch: 1 [16640/60000]\tLoss: 1.304313\n",
            "Train Epoch: 1 [17280/60000]\tLoss: 1.020228\n",
            "Train Epoch: 1 [17920/60000]\tLoss: 1.077511\n",
            "Train Epoch: 1 [18560/60000]\tLoss: 1.195253\n",
            "Train Epoch: 1 [19200/60000]\tLoss: 0.865352\n",
            "Train Epoch: 1 [19840/60000]\tLoss: 1.290902\n",
            "Train Epoch: 1 [20480/60000]\tLoss: 0.930255\n",
            "Train Epoch: 1 [21120/60000]\tLoss: 1.080205\n",
            "Train Epoch: 1 [21760/60000]\tLoss: 0.990302\n",
            "Train Epoch: 1 [22400/60000]\tLoss: 0.942794\n",
            "Train Epoch: 1 [23040/60000]\tLoss: 1.040250\n",
            "Train Epoch: 1 [23680/60000]\tLoss: 0.821325\n",
            "Train Epoch: 1 [24320/60000]\tLoss: 0.900839\n",
            "Train Epoch: 1 [24960/60000]\tLoss: 0.969965\n",
            "Train Epoch: 1 [25600/60000]\tLoss: 1.002103\n",
            "Train Epoch: 1 [26240/60000]\tLoss: 0.965720\n",
            "Train Epoch: 1 [26880/60000]\tLoss: 1.083719\n",
            "Train Epoch: 1 [27520/60000]\tLoss: 0.676689\n",
            "Train Epoch: 1 [28160/60000]\tLoss: 1.043396\n",
            "Train Epoch: 1 [28800/60000]\tLoss: 0.693405\n",
            "Train Epoch: 1 [29440/60000]\tLoss: 1.101254\n",
            "Train Epoch: 1 [30080/60000]\tLoss: 0.828185\n",
            "Train Epoch: 1 [30720/60000]\tLoss: 1.026335\n",
            "Train Epoch: 1 [31360/60000]\tLoss: 0.963346\n",
            "Train Epoch: 1 [32000/60000]\tLoss: 0.854736\n",
            "Train Epoch: 1 [32640/60000]\tLoss: 0.705414\n",
            "Train Epoch: 1 [33280/60000]\tLoss: 0.688155\n",
            "Train Epoch: 1 [33920/60000]\tLoss: 0.709091\n",
            "Train Epoch: 1 [34560/60000]\tLoss: 0.898804\n",
            "Train Epoch: 1 [35200/60000]\tLoss: 0.866830\n",
            "Train Epoch: 1 [35840/60000]\tLoss: 0.737423\n",
            "Train Epoch: 1 [36480/60000]\tLoss: 0.503471\n",
            "Train Epoch: 1 [37120/60000]\tLoss: 0.899203\n",
            "Train Epoch: 1 [37760/60000]\tLoss: 0.637931\n",
            "Train Epoch: 1 [38400/60000]\tLoss: 0.781021\n",
            "Train Epoch: 1 [39040/60000]\tLoss: 0.877443\n",
            "Train Epoch: 1 [39680/60000]\tLoss: 0.928055\n",
            "Train Epoch: 1 [40320/60000]\tLoss: 0.834894\n",
            "Train Epoch: 1 [40960/60000]\tLoss: 0.910660\n",
            "Train Epoch: 1 [41600/60000]\tLoss: 0.734276\n",
            "Train Epoch: 1 [42240/60000]\tLoss: 1.044857\n",
            "Train Epoch: 1 [42880/60000]\tLoss: 0.770661\n",
            "Train Epoch: 1 [43520/60000]\tLoss: 0.887173\n",
            "Train Epoch: 1 [44160/60000]\tLoss: 0.629237\n",
            "Train Epoch: 1 [44800/60000]\tLoss: 0.801812\n",
            "Train Epoch: 1 [45440/60000]\tLoss: 0.664181\n",
            "Train Epoch: 1 [46080/60000]\tLoss: 0.612613\n",
            "Train Epoch: 1 [46720/60000]\tLoss: 0.695701\n",
            "Train Epoch: 1 [47360/60000]\tLoss: 0.697735\n",
            "Train Epoch: 1 [48000/60000]\tLoss: 0.657431\n",
            "Train Epoch: 1 [48640/60000]\tLoss: 0.760433\n",
            "Train Epoch: 1 [49280/60000]\tLoss: 0.795610\n",
            "Train Epoch: 1 [49920/60000]\tLoss: 0.767008\n",
            "Train Epoch: 1 [50560/60000]\tLoss: 0.665970\n",
            "Train Epoch: 1 [51200/60000]\tLoss: 0.501667\n",
            "Train Epoch: 1 [51840/60000]\tLoss: 0.588116\n",
            "Train Epoch: 1 [52480/60000]\tLoss: 0.706392\n",
            "Train Epoch: 1 [53120/60000]\tLoss: 0.676487\n",
            "Train Epoch: 1 [53760/60000]\tLoss: 0.615760\n",
            "Train Epoch: 1 [54400/60000]\tLoss: 0.629287\n",
            "Train Epoch: 1 [55040/60000]\tLoss: 0.684603\n",
            "Train Epoch: 1 [55680/60000]\tLoss: 0.693804\n",
            "Train Epoch: 1 [56320/60000]\tLoss: 0.542688\n",
            "Train Epoch: 1 [56960/60000]\tLoss: 0.483144\n",
            "Train Epoch: 1 [57600/60000]\tLoss: 0.649440\n",
            "Train Epoch: 1 [58240/60000]\tLoss: 0.611494\n",
            "Train Epoch: 1 [58880/60000]\tLoss: 0.803114\n",
            "Train Epoch: 1 [59520/60000]\tLoss: 0.777034\n",
            "\n",
            "Test set: Avg. loss: 0.3459, Accuracy: 8997/10000 (90%)\n",
            "\n",
            "Train Epoch: 2 [0/60000]\tLoss: 0.671134\n",
            "Train Epoch: 2 [640/60000]\tLoss: 0.579482\n",
            "Train Epoch: 2 [1280/60000]\tLoss: 0.592140\n",
            "Train Epoch: 2 [1920/60000]\tLoss: 0.675968\n",
            "Train Epoch: 2 [2560/60000]\tLoss: 0.577020\n",
            "Train Epoch: 2 [3200/60000]\tLoss: 0.464546\n",
            "Train Epoch: 2 [3840/60000]\tLoss: 0.576577\n",
            "Train Epoch: 2 [4480/60000]\tLoss: 0.614417\n",
            "Train Epoch: 2 [5120/60000]\tLoss: 0.570250\n",
            "Train Epoch: 2 [5760/60000]\tLoss: 0.462318\n",
            "Train Epoch: 2 [6400/60000]\tLoss: 0.616981\n",
            "Train Epoch: 2 [7040/60000]\tLoss: 0.546473\n",
            "Train Epoch: 2 [7680/60000]\tLoss: 0.476501\n",
            "Train Epoch: 2 [8320/60000]\tLoss: 0.691961\n",
            "Train Epoch: 2 [8960/60000]\tLoss: 0.609601\n",
            "Train Epoch: 2 [9600/60000]\tLoss: 0.589953\n",
            "Train Epoch: 2 [10240/60000]\tLoss: 0.434800\n",
            "Train Epoch: 2 [10880/60000]\tLoss: 0.580702\n",
            "Train Epoch: 2 [11520/60000]\tLoss: 0.456764\n",
            "Train Epoch: 2 [12160/60000]\tLoss: 0.420507\n",
            "Train Epoch: 2 [12800/60000]\tLoss: 0.683925\n",
            "Train Epoch: 2 [13440/60000]\tLoss: 0.577441\n",
            "Train Epoch: 2 [14080/60000]\tLoss: 0.477745\n",
            "Train Epoch: 2 [14720/60000]\tLoss: 0.568694\n",
            "Train Epoch: 2 [15360/60000]\tLoss: 0.603738\n",
            "Train Epoch: 2 [16000/60000]\tLoss: 0.700422\n",
            "Train Epoch: 2 [16640/60000]\tLoss: 0.702089\n",
            "Train Epoch: 2 [17280/60000]\tLoss: 0.557519\n",
            "Train Epoch: 2 [17920/60000]\tLoss: 0.625409\n",
            "Train Epoch: 2 [18560/60000]\tLoss: 0.551694\n",
            "Train Epoch: 2 [19200/60000]\tLoss: 0.470272\n",
            "Train Epoch: 2 [19840/60000]\tLoss: 0.551925\n",
            "Train Epoch: 2 [20480/60000]\tLoss: 0.608500\n",
            "Train Epoch: 2 [21120/60000]\tLoss: 0.774187\n",
            "Train Epoch: 2 [21760/60000]\tLoss: 0.857419\n",
            "Train Epoch: 2 [22400/60000]\tLoss: 0.598865\n",
            "Train Epoch: 2 [23040/60000]\tLoss: 0.391433\n",
            "Train Epoch: 2 [23680/60000]\tLoss: 0.629507\n",
            "Train Epoch: 2 [24320/60000]\tLoss: 0.505788\n",
            "Train Epoch: 2 [24960/60000]\tLoss: 0.522813\n",
            "Train Epoch: 2 [25600/60000]\tLoss: 0.588704\n",
            "Train Epoch: 2 [26240/60000]\tLoss: 0.540479\n",
            "Train Epoch: 2 [26880/60000]\tLoss: 0.690220\n",
            "Train Epoch: 2 [27520/60000]\tLoss: 0.519888\n",
            "Train Epoch: 2 [28160/60000]\tLoss: 0.490468\n",
            "Train Epoch: 2 [28800/60000]\tLoss: 0.375520\n",
            "Train Epoch: 2 [29440/60000]\tLoss: 0.393228\n",
            "Train Epoch: 2 [30080/60000]\tLoss: 0.497575\n",
            "Train Epoch: 2 [30720/60000]\tLoss: 0.380571\n",
            "Train Epoch: 2 [31360/60000]\tLoss: 0.626106\n",
            "Train Epoch: 2 [32000/60000]\tLoss: 0.454838\n",
            "Train Epoch: 2 [32640/60000]\tLoss: 0.395772\n",
            "Train Epoch: 2 [33280/60000]\tLoss: 0.462568\n",
            "Train Epoch: 2 [33920/60000]\tLoss: 0.544489\n",
            "Train Epoch: 2 [34560/60000]\tLoss: 0.423971\n",
            "Train Epoch: 2 [35200/60000]\tLoss: 0.498285\n",
            "Train Epoch: 2 [35840/60000]\tLoss: 0.730821\n",
            "Train Epoch: 2 [36480/60000]\tLoss: 0.307906\n",
            "Train Epoch: 2 [37120/60000]\tLoss: 0.699060\n",
            "Train Epoch: 2 [37760/60000]\tLoss: 0.348759\n",
            "Train Epoch: 2 [38400/60000]\tLoss: 0.623331\n",
            "Train Epoch: 2 [39040/60000]\tLoss: 0.425838\n",
            "Train Epoch: 2 [39680/60000]\tLoss: 0.515447\n",
            "Train Epoch: 2 [40320/60000]\tLoss: 0.279562\n",
            "Train Epoch: 2 [40960/60000]\tLoss: 0.619229\n",
            "Train Epoch: 2 [41600/60000]\tLoss: 0.558357\n",
            "Train Epoch: 2 [42240/60000]\tLoss: 0.388473\n",
            "Train Epoch: 2 [42880/60000]\tLoss: 0.631979\n",
            "Train Epoch: 2 [43520/60000]\tLoss: 0.421606\n",
            "Train Epoch: 2 [44160/60000]\tLoss: 0.554938\n",
            "Train Epoch: 2 [44800/60000]\tLoss: 0.363174\n",
            "Train Epoch: 2 [45440/60000]\tLoss: 0.474188\n",
            "Train Epoch: 2 [46080/60000]\tLoss: 0.657023\n",
            "Train Epoch: 2 [46720/60000]\tLoss: 0.479032\n",
            "Train Epoch: 2 [47360/60000]\tLoss: 0.475307\n",
            "Train Epoch: 2 [48000/60000]\tLoss: 0.503640\n",
            "Train Epoch: 2 [48640/60000]\tLoss: 0.339470\n",
            "Train Epoch: 2 [49280/60000]\tLoss: 0.615724\n",
            "Train Epoch: 2 [49920/60000]\tLoss: 0.270179\n",
            "Train Epoch: 2 [50560/60000]\tLoss: 0.446611\n",
            "Train Epoch: 2 [51200/60000]\tLoss: 0.384680\n",
            "Train Epoch: 2 [51840/60000]\tLoss: 0.564863\n",
            "Train Epoch: 2 [52480/60000]\tLoss: 0.616323\n",
            "Train Epoch: 2 [53120/60000]\tLoss: 0.634489\n",
            "Train Epoch: 2 [53760/60000]\tLoss: 0.413238\n",
            "Train Epoch: 2 [54400/60000]\tLoss: 0.611134\n",
            "Train Epoch: 2 [55040/60000]\tLoss: 0.546300\n",
            "Train Epoch: 2 [55680/60000]\tLoss: 0.450554\n",
            "Train Epoch: 2 [56320/60000]\tLoss: 0.418252\n",
            "Train Epoch: 2 [56960/60000]\tLoss: 0.613973\n",
            "Train Epoch: 2 [57600/60000]\tLoss: 0.321931\n",
            "Train Epoch: 2 [58240/60000]\tLoss: 0.497939\n",
            "Train Epoch: 2 [58880/60000]\tLoss: 0.319405\n",
            "Train Epoch: 2 [59520/60000]\tLoss: 0.393567\n",
            "\n",
            "Test set: Avg. loss: 0.2291, Accuracy: 9313/10000 (93%)\n",
            "\n",
            "Train Epoch: 3 [0/60000]\tLoss: 0.349934\n",
            "Train Epoch: 3 [640/60000]\tLoss: 0.475777\n",
            "Train Epoch: 3 [1280/60000]\tLoss: 0.414706\n",
            "Train Epoch: 3 [1920/60000]\tLoss: 0.450319\n",
            "Train Epoch: 3 [2560/60000]\tLoss: 0.540685\n",
            "Train Epoch: 3 [3200/60000]\tLoss: 0.483204\n",
            "Train Epoch: 3 [3840/60000]\tLoss: 0.434465\n",
            "Train Epoch: 3 [4480/60000]\tLoss: 0.600159\n",
            "Train Epoch: 3 [5120/60000]\tLoss: 0.325595\n",
            "Train Epoch: 3 [5760/60000]\tLoss: 0.463843\n",
            "Train Epoch: 3 [6400/60000]\tLoss: 0.777256\n",
            "Train Epoch: 3 [7040/60000]\tLoss: 0.495506\n",
            "Train Epoch: 3 [7680/60000]\tLoss: 0.765850\n",
            "Train Epoch: 3 [8320/60000]\tLoss: 0.554906\n",
            "Train Epoch: 3 [8960/60000]\tLoss: 0.419903\n",
            "Train Epoch: 3 [9600/60000]\tLoss: 0.263717\n",
            "Train Epoch: 3 [10240/60000]\tLoss: 0.531845\n",
            "Train Epoch: 3 [10880/60000]\tLoss: 0.598953\n",
            "Train Epoch: 3 [11520/60000]\tLoss: 0.579218\n",
            "Train Epoch: 3 [12160/60000]\tLoss: 0.414487\n",
            "Train Epoch: 3 [12800/60000]\tLoss: 0.506444\n",
            "Train Epoch: 3 [13440/60000]\tLoss: 0.311459\n",
            "Train Epoch: 3 [14080/60000]\tLoss: 0.501141\n",
            "Train Epoch: 3 [14720/60000]\tLoss: 0.558179\n",
            "Train Epoch: 3 [15360/60000]\tLoss: 0.427182\n",
            "Train Epoch: 3 [16000/60000]\tLoss: 0.467267\n",
            "Train Epoch: 3 [16640/60000]\tLoss: 0.360769\n",
            "Train Epoch: 3 [17280/60000]\tLoss: 0.518556\n",
            "Train Epoch: 3 [17920/60000]\tLoss: 0.525935\n",
            "Train Epoch: 3 [18560/60000]\tLoss: 0.429175\n",
            "Train Epoch: 3 [19200/60000]\tLoss: 0.376149\n",
            "Train Epoch: 3 [19840/60000]\tLoss: 0.607270\n",
            "Train Epoch: 3 [20480/60000]\tLoss: 0.379391\n",
            "Train Epoch: 3 [21120/60000]\tLoss: 0.447881\n",
            "Train Epoch: 3 [21760/60000]\tLoss: 0.421330\n",
            "Train Epoch: 3 [22400/60000]\tLoss: 0.408198\n",
            "Train Epoch: 3 [23040/60000]\tLoss: 0.441487\n",
            "Train Epoch: 3 [23680/60000]\tLoss: 0.217354\n",
            "Train Epoch: 3 [24320/60000]\tLoss: 0.490588\n",
            "Train Epoch: 3 [24960/60000]\tLoss: 0.381079\n",
            "Train Epoch: 3 [25600/60000]\tLoss: 0.463254\n",
            "Train Epoch: 3 [26240/60000]\tLoss: 0.251134\n",
            "Train Epoch: 3 [26880/60000]\tLoss: 0.206537\n",
            "Train Epoch: 3 [27520/60000]\tLoss: 0.407266\n",
            "Train Epoch: 3 [28160/60000]\tLoss: 0.416315\n",
            "Train Epoch: 3 [28800/60000]\tLoss: 0.474824\n",
            "Train Epoch: 3 [29440/60000]\tLoss: 0.484848\n",
            "Train Epoch: 3 [30080/60000]\tLoss: 0.409999\n",
            "Train Epoch: 3 [30720/60000]\tLoss: 0.408668\n",
            "Train Epoch: 3 [31360/60000]\tLoss: 0.190102\n",
            "Train Epoch: 3 [32000/60000]\tLoss: 0.302071\n",
            "Train Epoch: 3 [32640/60000]\tLoss: 0.307240\n",
            "Train Epoch: 3 [33280/60000]\tLoss: 0.367871\n",
            "Train Epoch: 3 [33920/60000]\tLoss: 0.310911\n",
            "Train Epoch: 3 [34560/60000]\tLoss: 0.392477\n",
            "Train Epoch: 3 [35200/60000]\tLoss: 0.286662\n",
            "Train Epoch: 3 [35840/60000]\tLoss: 0.395436\n",
            "Train Epoch: 3 [36480/60000]\tLoss: 0.492306\n",
            "Train Epoch: 3 [37120/60000]\tLoss: 0.263633\n",
            "Train Epoch: 3 [37760/60000]\tLoss: 0.627328\n",
            "Train Epoch: 3 [38400/60000]\tLoss: 0.627079\n",
            "Train Epoch: 3 [39040/60000]\tLoss: 0.312260\n",
            "Train Epoch: 3 [39680/60000]\tLoss: 0.395443\n",
            "Train Epoch: 3 [40320/60000]\tLoss: 0.329953\n",
            "Train Epoch: 3 [40960/60000]\tLoss: 0.498050\n",
            "Train Epoch: 3 [41600/60000]\tLoss: 0.452440\n",
            "Train Epoch: 3 [42240/60000]\tLoss: 0.343523\n",
            "Train Epoch: 3 [42880/60000]\tLoss: 0.484866\n",
            "Train Epoch: 3 [43520/60000]\tLoss: 0.367741\n",
            "Train Epoch: 3 [44160/60000]\tLoss: 0.362575\n",
            "Train Epoch: 3 [44800/60000]\tLoss: 0.416139\n",
            "Train Epoch: 3 [45440/60000]\tLoss: 0.513639\n",
            "Train Epoch: 3 [46080/60000]\tLoss: 0.381912\n",
            "Train Epoch: 3 [46720/60000]\tLoss: 0.581409\n",
            "Train Epoch: 3 [47360/60000]\tLoss: 0.346750\n",
            "Train Epoch: 3 [48000/60000]\tLoss: 0.341243\n",
            "Train Epoch: 3 [48640/60000]\tLoss: 0.384398\n",
            "Train Epoch: 3 [49280/60000]\tLoss: 0.431797\n",
            "Train Epoch: 3 [49920/60000]\tLoss: 0.460350\n",
            "Train Epoch: 3 [50560/60000]\tLoss: 0.599245\n",
            "Train Epoch: 3 [51200/60000]\tLoss: 0.434092\n",
            "Train Epoch: 3 [51840/60000]\tLoss: 0.383400\n",
            "Train Epoch: 3 [52480/60000]\tLoss: 0.463270\n",
            "Train Epoch: 3 [53120/60000]\tLoss: 0.499925\n",
            "Train Epoch: 3 [53760/60000]\tLoss: 0.268991\n",
            "Train Epoch: 3 [54400/60000]\tLoss: 0.671771\n",
            "Train Epoch: 3 [55040/60000]\tLoss: 0.340728\n",
            "Train Epoch: 3 [55680/60000]\tLoss: 0.317238\n",
            "Train Epoch: 3 [56320/60000]\tLoss: 0.436471\n",
            "Train Epoch: 3 [56960/60000]\tLoss: 0.410083\n",
            "Train Epoch: 3 [57600/60000]\tLoss: 0.346281\n",
            "Train Epoch: 3 [58240/60000]\tLoss: 0.275529\n",
            "Train Epoch: 3 [58880/60000]\tLoss: 0.172002\n",
            "Train Epoch: 3 [59520/60000]\tLoss: 0.304913\n",
            "\n",
            "Test set: Avg. loss: 0.1834, Accuracy: 9431/10000 (94%)\n",
            "\n"
          ]
        }
      ],
      "source": [
        "# Get initial performance\n",
        "test()\n",
        "# Train for three epochs\n",
        "n_epochs = 3\n",
        "for epoch in range(1, n_epochs + 1):\n",
        "  train(epoch)\n",
        "  test()"
      ]
    },
    {
      "cell_type": "code",
      "execution_count": 24,
      "metadata": {
        "id": "o7fRUAy9Se1B"
      },
      "outputs": [
        {
          "name": "stderr",
          "output_type": "stream",
          "text": [
            "C:\\Users\\pichau\\AppData\\Local\\Temp\\ipykernel_13424\\1117673906.py:53: UserWarning: Implicit dimension choice for log_softmax has been deprecated. Change the call to include dim=X as an argument.\n",
            "  x = F.log_softmax(x)\n"
          ]
        },
        {
          "data": {
            "image/png": "[encoded data removed]",
            "text/plain": [
              "<Figure size 640x480 with 10 Axes>"
            ]
          },
          "metadata": {},
          "output_type": "display_data"
        }
      ],
      "source": [
        "# Run network on data we got before and show predictions\n",
        "output = model(example_data)\n",
        "\n",
        "fig = plt.figure()\n",
        "for i in range(10):\n",
        "  plt.subplot(5,5,i+1)\n",
        "  plt.tight_layout()\n",
        "  plt.imshow(example_data[i][0], cmap='gray', interpolation='none')\n",
        "  plt.title(\"Prediction: {}\".format(\n",
        "    output.data.max(1, keepdim=True)[1][i].item()))\n",
        "  plt.xticks([])\n",
        "  plt.yticks([])\n",
        "plt.show()"
      ]
    },
    {
      "cell_type": "code",
      "execution_count": null,
      "metadata": {},
      "outputs": [],
      "source": []
    },
    {
      "cell_type": "code",
      "execution_count": null,
      "metadata": {},
      "outputs": [],
      "source": []
    }
  ],
  "metadata": {
    "colab": {
      "authorship_tag": "ABX9TyORZF8xy4X1yf4oRhRq8Rtm",
      "include_colab_link": true,
      "provenance": []
    },
    "kernelspec": {
      "display_name": "cuda_2025",
      "language": "python",
      "name": "python3"
    },
    "language_info": {
      "codemirror_mode": {
        "name": "ipython",
        "version": 3
      },
      "file_extension": ".py",
      "mimetype": "text/x-python",
      "name": "python",
      "nbconvert_exporter": "python",
      "pygments_lexer": "ipython3",
      "version": "3.9.21"
    }
  },
  "nbformat": 4,
  "nbformat_minor": 0
}
