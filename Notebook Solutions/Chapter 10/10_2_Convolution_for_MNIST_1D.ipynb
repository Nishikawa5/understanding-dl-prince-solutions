{
  "cells": [
    {
      "cell_type": "markdown",
      "metadata": {
        "colab_type": "text",
        "id": "view-in-github"
      },
      "source": [
        "<a href=\"https://colab.research.google.com/github/udlbook/udlbook/blob/main/Notebooks/Chap10/10_2_Convolution_for_MNIST_1D.ipynb\" target=\"_parent\"><img src=\"https://colab.research.google.com/assets/colab-badge.svg\" alt=\"Open In Colab\"/></a>"
      ]
    },
    {
      "cell_type": "markdown",
      "metadata": {
        "id": "t9vk9Elugvmi"
      },
      "source": [
        "# **Notebook 10.2: Convolution for MNIST-1D**\n",
        "\n",
        "This notebook investigates a 1D convolutional network for MNIST-1D as in figure 10.7 and 10.8a.\n",
        "\n",
        "Work through the cells below, running each cell in turn. In various places you will see the words \"TODO\". Follow the instructions at these places and make predictions about what is going to happen or write code to complete the functions.\n",
        "\n",
        "Contact me at udlbookmail@gmail.com if you find any mistakes or have any suggestions.\n",
        "\n"
      ]
    },
    {
      "cell_type": "code",
      "execution_count": 1,
      "metadata": {
        "id": "D5yLObtZCi9J"
      },
      "outputs": [
        {
          "name": "stdout",
          "output_type": "stream",
          "text": [
            "Collecting git+https://github.com/greydanus/mnist1d\n",
            "  Cloning https://github.com/greydanus/mnist1d to c:\\users\\pichau\\appdata\\local\\temp\\pip-req-build-gmy1xje4\n",
            "  Resolved https://github.com/greydanus/mnist1d to commit 7878d96082abd200c546a07a4101fa90b30fdf7e\n",
            "  Installing build dependencies: started\n",
            "  Installing build dependencies: finished with status 'done'\n",
            "  Getting requirements to build wheel: started\n",
            "  Getting requirements to build wheel: finished with status 'done'\n",
            "  Preparing metadata (pyproject.toml): started\n",
            "  Preparing metadata (pyproject.toml): finished with status 'done'\n",
            "Requirement already satisfied: requests in c:\\users\\pichau\\anaconda3\\envs\\cuda_2025\\lib\\site-packages (from mnist1d==0.0.2.post16) (2.32.3)\n",
            "Requirement already satisfied: numpy in c:\\users\\pichau\\anaconda3\\envs\\cuda_2025\\lib\\site-packages (from mnist1d==0.0.2.post16) (2.0.1)\n",
            "Requirement already satisfied: matplotlib in c:\\users\\pichau\\anaconda3\\envs\\cuda_2025\\lib\\site-packages (from mnist1d==0.0.2.post16) (3.9.4)\n",
            "Requirement already satisfied: scipy in c:\\users\\pichau\\anaconda3\\envs\\cuda_2025\\lib\\site-packages (from mnist1d==0.0.2.post16) (1.13.1)\n",
            "Requirement already satisfied: contourpy>=1.0.1 in c:\\users\\pichau\\anaconda3\\envs\\cuda_2025\\lib\\site-packages (from matplotlib->mnist1d==0.0.2.post16) (1.3.0)\n",
            "Requirement already satisfied: cycler>=0.10 in c:\\users\\pichau\\anaconda3\\envs\\cuda_2025\\lib\\site-packages (from matplotlib->mnist1d==0.0.2.post16) (0.12.1)\n",
            "Requirement already satisfied: fonttools>=4.22.0 in c:\\users\\pichau\\anaconda3\\envs\\cuda_2025\\lib\\site-packages (from matplotlib->mnist1d==0.0.2.post16) (4.55.3)\n",
            "Requirement already satisfied: kiwisolver>=1.3.1 in c:\\users\\pichau\\anaconda3\\envs\\cuda_2025\\lib\\site-packages (from matplotlib->mnist1d==0.0.2.post16) (1.4.7)\n",
            "Requirement already satisfied: packaging>=20.0 in c:\\users\\pichau\\anaconda3\\envs\\cuda_2025\\lib\\site-packages (from matplotlib->mnist1d==0.0.2.post16) (24.2)\n",
            "Requirement already satisfied: pillow>=8 in c:\\users\\pichau\\anaconda3\\envs\\cuda_2025\\lib\\site-packages (from matplotlib->mnist1d==0.0.2.post16) (11.0.0)\n",
            "Requirement already satisfied: pyparsing>=2.3.1 in c:\\users\\pichau\\anaconda3\\envs\\cuda_2025\\lib\\site-packages (from matplotlib->mnist1d==0.0.2.post16) (3.2.1)\n",
            "Requirement already satisfied: python-dateutil>=2.7 in c:\\users\\pichau\\anaconda3\\envs\\cuda_2025\\lib\\site-packages (from matplotlib->mnist1d==0.0.2.post16) (2.9.0.post0)\n",
            "Requirement already satisfied: importlib-resources>=3.2.0 in c:\\users\\pichau\\anaconda3\\envs\\cuda_2025\\lib\\site-packages (from matplotlib->mnist1d==0.0.2.post16) (6.5.2)\n",
            "Requirement already satisfied: charset-normalizer<4,>=2 in c:\\users\\pichau\\anaconda3\\envs\\cuda_2025\\lib\\site-packages (from requests->mnist1d==0.0.2.post16) (3.3.2)\n",
            "Requirement already satisfied: idna<4,>=2.5 in c:\\users\\pichau\\anaconda3\\envs\\cuda_2025\\lib\\site-packages (from requests->mnist1d==0.0.2.post16) (3.7)\n",
            "Requirement already satisfied: urllib3<3,>=1.21.1 in c:\\users\\pichau\\anaconda3\\envs\\cuda_2025\\lib\\site-packages (from requests->mnist1d==0.0.2.post16) (2.2.3)\n",
            "Requirement already satisfied: certifi>=2017.4.17 in c:\\users\\pichau\\anaconda3\\envs\\cuda_2025\\lib\\site-packages (from requests->mnist1d==0.0.2.post16) (2024.12.14)\n",
            "Requirement already satisfied: zipp>=3.1.0 in c:\\users\\pichau\\anaconda3\\envs\\cuda_2025\\lib\\site-packages (from importlib-resources>=3.2.0->matplotlib->mnist1d==0.0.2.post16) (3.21.0)\n",
            "Requirement already satisfied: six>=1.5 in c:\\users\\pichau\\anaconda3\\envs\\cuda_2025\\lib\\site-packages (from python-dateutil>=2.7->matplotlib->mnist1d==0.0.2.post16) (1.16.0)\n"
          ]
        },
        {
          "name": "stderr",
          "output_type": "stream",
          "text": [
            "  Running command git clone --filter=blob:none --quiet https://github.com/greydanus/mnist1d 'C:\\Users\\pichau\\AppData\\Local\\Temp\\pip-req-build-gmy1xje4'\n"
          ]
        }
      ],
      "source": [
        "# Run this if you're in a Colab to install MNIST 1D repository\n",
        "!pip install git+https://github.com/greydanus/mnist1d"
      ]
    },
    {
      "cell_type": "code",
      "execution_count": 2,
      "metadata": {
        "id": "YrXWAH7sUWvU"
      },
      "outputs": [],
      "source": [
        "import numpy as np\n",
        "import os\n",
        "import torch, torch.nn as nn\n",
        "from torch.utils.data import TensorDataset, DataLoader\n",
        "from torch.optim.lr_scheduler import StepLR\n",
        "import matplotlib.pyplot as plt\n",
        "import mnist1d\n",
        "import random"
      ]
    },
    {
      "cell_type": "code",
      "execution_count": 3,
      "metadata": {
        "id": "twI72ZCrCt5z"
      },
      "outputs": [
        {
          "name": "stdout",
          "output_type": "stream",
          "text": [
            "Did or could not load data from ./mnist1d_data.pkl. Rebuilding dataset...\n",
            "Examples in training set: 4000\n",
            "Examples in test set: 1000\n",
            "Length of each example: 40\n"
          ]
        }
      ],
      "source": [
        "args = mnist1d.data.get_dataset_args()\n",
        "data = mnist1d.data.get_dataset(args, path='./mnist1d_data.pkl', download=False, regenerate=False)\n",
        "\n",
        "# The training and test input and outputs are in\n",
        "# data['x'], data['y'], data['x_test'], and data['y_test']\n",
        "print(\"Examples in training set: {}\".format(len(data['y'])))\n",
        "print(\"Examples in test set: {}\".format(len(data['y_test'])))\n",
        "print(\"Length of each example: {}\".format(data['x'].shape[-1]))"
      ]
    },
    {
      "cell_type": "code",
      "execution_count": 4,
      "metadata": {
        "id": "8bKADvLHbiV5"
      },
      "outputs": [
        {
          "name": "stdout",
          "output_type": "stream",
          "text": [
            "Train data: 4000 examples (columns), each of which has 40 dimensions (rows)\n",
            "Validation data: 1000 examples (columns), each of which has 40 dimensions (rows)\n"
          ]
        }
      ],
      "source": [
        "# Load in the data\n",
        "train_data_x = data['x'].transpose()\n",
        "train_data_y = data['y']\n",
        "val_data_x = data['x_test'].transpose()\n",
        "val_data_y = data['y_test']\n",
        "# Print out sizes\n",
        "print(\"Train data: %d examples (columns), each of which has %d dimensions (rows)\"%((train_data_x.shape[1],train_data_x.shape[0])))\n",
        "print(\"Validation data: %d examples (columns), each of which has %d dimensions (rows)\"%((val_data_x.shape[1],val_data_x.shape[0])))"
      ]
    },
    {
      "cell_type": "markdown",
      "metadata": {
        "id": "_sFvRDGrl4qe"
      },
      "source": [
        "Define the network"
      ]
    },
    {
      "cell_type": "code",
      "execution_count": 11,
      "metadata": {
        "id": "FslroPJJffrh"
      },
      "outputs": [],
      "source": [
        "# There are 40 input dimensions and 10 output dimensions for this data\n",
        "# The inputs correspond to the 40 offsets in the MNIST1D template.\n",
        "D_i = 40\n",
        "# The outputs correspond to the 10 digits\n",
        "D_o = 10\n",
        "\n",
        "\n",
        "# TODO Create a model with the following layers\n",
        "# 1. Convolutional layer, (input=length 40 and 1 channel, kernel size 3, stride 2, padding=\"valid\", 15 output channels )\n",
        "# 2. ReLU\n",
        "# 3. Convolutional layer, (input=length 19 and 15 channels, kernel size 3, stride 2, padding=\"valid\", 15 output channels )\n",
        "# 4. ReLU\n",
        "# 5. Convolutional layer, (input=length 9 and 15 channels, kernel size 3, stride 2, padding=\"valid\", 15 output channels)\n",
        "# 6. ReLU\n",
        "# 7. Flatten (converts 4x15) to length 60\n",
        "# 8. Linear layer (input size = 60, output size = 10)\n",
        "# References:\n",
        "# https://pytorch.org/docs/1.13/generated/torch.nn.Conv1d.html?highlight=conv1d#torch.nn.Conv1d\n",
        "# https://pytorch.org/docs/stable/generated/torch.nn.Flatten.html\n",
        "# https://pytorch.org/docs/1.13/generated/torch.nn.Linear.html?highlight=linear#torch.nn.Linear\n",
        "\n",
        "# NOTE THAT THE CONVOLUTIONAL LAYERS NEED TO TAKE THE NUMBER OF INPUT CHANNELS AS A PARAMETER\n",
        "# AND NOT THE INPUT SIZE.\n",
        "\n",
        "# Replace the following function:\n",
        "model = nn.Sequential(\n",
        "    nn.Conv1d(in_channels=1, out_channels=15, kernel_size=3, stride=2, padding='valid'),\n",
        "    nn.ReLU(),\n",
        "    nn.Conv1d(15, 15, 3, 2, 0),\n",
        "    nn.ReLU(),\n",
        "    nn.Conv1d(15, 15, 3, 2, 0),\n",
        "    nn.ReLU(),\n",
        "    nn.Flatten(),\n",
        "    nn.Linear(60, 10)\n",
        ")\n",
        "\n"
      ]
    },
    {
      "cell_type": "code",
      "execution_count": 12,
      "metadata": {
        "id": "YgLaex1pfhqz"
      },
      "outputs": [],
      "source": [
        "# He initialization of weights\n",
        "def weights_init(layer_in):\n",
        "  if isinstance(layer_in, nn.Linear):\n",
        "    nn.init.kaiming_uniform_(layer_in.weight)\n",
        "    layer_in.bias.data.fill_(0.0)"
      ]
    },
    {
      "cell_type": "code",
      "execution_count": 13,
      "metadata": {
        "id": "NYw8I_3mmX5c"
      },
      "outputs": [
        {
          "name": "stdout",
          "output_type": "stream",
          "text": [
            "Epoch     0, train loss 2.243790, train error 84.00,  val loss 2.249908, percent error 84.80\n",
            "Epoch     1, train loss 1.643335, train error 66.03,  val loss 1.672791, percent error 71.10\n",
            "Epoch     2, train loss 1.530749, train error 62.25,  val loss 1.560202, percent error 66.60\n",
            "Epoch     3, train loss 1.300985, train error 52.83,  val loss 1.334851, percent error 56.40\n",
            "Epoch     4, train loss 1.256657, train error 51.00,  val loss 1.284765, percent error 54.60\n",
            "Epoch     5, train loss 1.158861, train error 46.97,  val loss 1.182400, percent error 49.30\n",
            "Epoch     6, train loss 1.089490, train error 43.97,  val loss 1.141329, percent error 47.80\n",
            "Epoch     7, train loss 1.000326, train error 40.45,  val loss 1.037121, percent error 43.30\n",
            "Epoch     8, train loss 0.952329, train error 38.80,  val loss 1.004254, percent error 41.20\n",
            "Epoch     9, train loss 0.832726, train error 33.62,  val loss 0.864378, percent error 35.20\n",
            "Epoch    10, train loss 0.828640, train error 32.75,  val loss 0.859961, percent error 36.20\n",
            "Epoch    11, train loss 0.689488, train error 27.18,  val loss 0.737756, percent error 29.80\n",
            "Epoch    12, train loss 0.622330, train error 24.35,  val loss 0.673988, percent error 26.70\n",
            "Epoch    13, train loss 0.592166, train error 23.07,  val loss 0.668744, percent error 26.70\n",
            "Epoch    14, train loss 0.551629, train error 20.45,  val loss 0.622997, percent error 23.00\n",
            "Epoch    15, train loss 0.485549, train error 18.28,  val loss 0.587572, percent error 22.20\n",
            "Epoch    16, train loss 0.484408, train error 18.10,  val loss 0.574050, percent error 20.90\n",
            "Epoch    17, train loss 0.481403, train error 17.93,  val loss 0.584806, percent error 20.30\n",
            "Epoch    18, train loss 0.342098, train error 12.12,  val loss 0.482498, percent error 16.90\n",
            "Epoch    19, train loss 0.313186, train error 11.05,  val loss 0.453255, percent error 15.50\n",
            "Epoch    20, train loss 0.217564, train error 6.62,  val loss 0.353049, percent error 11.30\n",
            "Epoch    21, train loss 0.199907, train error 6.88,  val loss 0.343751, percent error 10.70\n",
            "Epoch    22, train loss 0.198130, train error 6.10,  val loss 0.346597, percent error 11.60\n",
            "Epoch    23, train loss 0.178361, train error 6.15,  val loss 0.326360, percent error 11.00\n",
            "Epoch    24, train loss 0.222315, train error 8.07,  val loss 0.393253, percent error 13.30\n",
            "Epoch    25, train loss 0.177192, train error 5.80,  val loss 0.337296, percent error 11.20\n",
            "Epoch    26, train loss 0.166616, train error 5.70,  val loss 0.341519, percent error 11.80\n",
            "Epoch    27, train loss 0.148467, train error 5.07,  val loss 0.332266, percent error 10.70\n",
            "Epoch    28, train loss 0.138499, train error 4.60,  val loss 0.320084, percent error 11.60\n",
            "Epoch    29, train loss 0.166483, train error 5.88,  val loss 0.336106, percent error 10.70\n",
            "Epoch    30, train loss 0.133343, train error 4.80,  val loss 0.323068, percent error 10.90\n",
            "Epoch    31, train loss 0.125217, train error 4.20,  val loss 0.319676, percent error 11.10\n",
            "Epoch    32, train loss 0.113833, train error 3.72,  val loss 0.317178, percent error 9.90\n",
            "Epoch    33, train loss 0.114803, train error 4.10,  val loss 0.332264, percent error 10.70\n",
            "Epoch    34, train loss 0.106696, train error 3.40,  val loss 0.306846, percent error 8.80\n",
            "Epoch    35, train loss 0.102045, train error 3.43,  val loss 0.318669, percent error 9.90\n",
            "Epoch    36, train loss 0.139938, train error 5.47,  val loss 0.347722, percent error 11.70\n",
            "Epoch    37, train loss 0.114093, train error 4.03,  val loss 0.344623, percent error 9.90\n",
            "Epoch    38, train loss 0.110871, train error 3.80,  val loss 0.331389, percent error 10.30\n",
            "Epoch    39, train loss 0.083912, train error 2.47,  val loss 0.307954, percent error 9.20\n",
            "Epoch    40, train loss 0.077487, train error 2.32,  val loss 0.311194, percent error 9.30\n",
            "Epoch    41, train loss 0.071143, train error 2.03,  val loss 0.305548, percent error 9.10\n",
            "Epoch    42, train loss 0.070307, train error 1.85,  val loss 0.307849, percent error 9.20\n",
            "Epoch    43, train loss 0.068852, train error 2.07,  val loss 0.320435, percent error 9.80\n",
            "Epoch    44, train loss 0.069812, train error 2.12,  val loss 0.314937, percent error 8.80\n",
            "Epoch    45, train loss 0.066675, train error 1.90,  val loss 0.330568, percent error 9.50\n",
            "Epoch    46, train loss 0.065172, train error 1.80,  val loss 0.310180, percent error 9.20\n",
            "Epoch    47, train loss 0.065529, train error 2.00,  val loss 0.322467, percent error 9.40\n",
            "Epoch    48, train loss 0.063924, train error 1.80,  val loss 0.330942, percent error 9.80\n",
            "Epoch    49, train loss 0.060932, train error 1.55,  val loss 0.320560, percent error 9.60\n",
            "Epoch    50, train loss 0.059171, train error 1.75,  val loss 0.324993, percent error 9.10\n",
            "Epoch    51, train loss 0.055199, train error 1.45,  val loss 0.319398, percent error 9.40\n",
            "Epoch    52, train loss 0.062451, train error 1.85,  val loss 0.330747, percent error 9.20\n",
            "Epoch    53, train loss 0.057122, train error 1.57,  val loss 0.349169, percent error 10.30\n",
            "Epoch    54, train loss 0.054976, train error 1.38,  val loss 0.321023, percent error 8.70\n",
            "Epoch    55, train loss 0.050211, train error 1.18,  val loss 0.339382, percent error 9.70\n",
            "Epoch    56, train loss 0.048207, train error 1.07,  val loss 0.329626, percent error 8.90\n",
            "Epoch    57, train loss 0.052134, train error 1.32,  val loss 0.337861, percent error 9.40\n",
            "Epoch    58, train loss 0.057205, train error 1.80,  val loss 0.359120, percent error 9.70\n",
            "Epoch    59, train loss 0.048604, train error 1.07,  val loss 0.341145, percent error 9.10\n",
            "Epoch    60, train loss 0.043878, train error 0.97,  val loss 0.338985, percent error 9.50\n",
            "Epoch    61, train loss 0.044174, train error 0.90,  val loss 0.336382, percent error 9.50\n",
            "Epoch    62, train loss 0.043563, train error 0.82,  val loss 0.342457, percent error 9.30\n",
            "Epoch    63, train loss 0.042431, train error 0.85,  val loss 0.334827, percent error 9.30\n",
            "Epoch    64, train loss 0.041369, train error 0.88,  val loss 0.342305, percent error 9.40\n",
            "Epoch    65, train loss 0.042131, train error 0.97,  val loss 0.346281, percent error 9.30\n",
            "Epoch    66, train loss 0.040830, train error 0.93,  val loss 0.346659, percent error 9.60\n",
            "Epoch    67, train loss 0.043764, train error 1.20,  val loss 0.356300, percent error 9.30\n",
            "Epoch    68, train loss 0.041008, train error 1.00,  val loss 0.348701, percent error 9.30\n",
            "Epoch    69, train loss 0.040193, train error 1.03,  val loss 0.346789, percent error 9.10\n",
            "Epoch    70, train loss 0.042501, train error 0.97,  val loss 0.345532, percent error 9.40\n",
            "Epoch    71, train loss 0.040091, train error 0.93,  val loss 0.353668, percent error 9.40\n",
            "Epoch    72, train loss 0.039569, train error 1.00,  val loss 0.356403, percent error 9.10\n",
            "Epoch    73, train loss 0.037767, train error 0.80,  val loss 0.346741, percent error 9.40\n",
            "Epoch    74, train loss 0.036473, train error 0.75,  val loss 0.351240, percent error 9.30\n",
            "Epoch    75, train loss 0.037793, train error 0.88,  val loss 0.357231, percent error 9.20\n",
            "Epoch    76, train loss 0.038037, train error 0.90,  val loss 0.352454, percent error 9.30\n",
            "Epoch    77, train loss 0.035872, train error 0.65,  val loss 0.349789, percent error 9.30\n",
            "Epoch    78, train loss 0.036971, train error 0.78,  val loss 0.361738, percent error 9.40\n",
            "Epoch    79, train loss 0.034621, train error 0.78,  val loss 0.359146, percent error 9.20\n",
            "Epoch    80, train loss 0.034084, train error 0.70,  val loss 0.358331, percent error 9.50\n",
            "Epoch    81, train loss 0.034236, train error 0.60,  val loss 0.355895, percent error 9.20\n",
            "Epoch    82, train loss 0.034384, train error 0.68,  val loss 0.358187, percent error 9.30\n",
            "Epoch    83, train loss 0.033447, train error 0.55,  val loss 0.356383, percent error 9.40\n",
            "Epoch    84, train loss 0.033264, train error 0.62,  val loss 0.360596, percent error 9.40\n",
            "Epoch    85, train loss 0.033169, train error 0.65,  val loss 0.360040, percent error 9.40\n",
            "Epoch    86, train loss 0.033046, train error 0.65,  val loss 0.358895, percent error 9.40\n",
            "Epoch    87, train loss 0.033097, train error 0.70,  val loss 0.360525, percent error 9.20\n",
            "Epoch    88, train loss 0.032701, train error 0.60,  val loss 0.362355, percent error 8.90\n",
            "Epoch    89, train loss 0.032660, train error 0.62,  val loss 0.364217, percent error 8.90\n",
            "Epoch    90, train loss 0.032130, train error 0.50,  val loss 0.357362, percent error 9.30\n",
            "Epoch    91, train loss 0.032091, train error 0.60,  val loss 0.362483, percent error 9.10\n",
            "Epoch    92, train loss 0.032186, train error 0.62,  val loss 0.368848, percent error 9.10\n",
            "Epoch    93, train loss 0.032094, train error 0.50,  val loss 0.359365, percent error 9.10\n",
            "Epoch    94, train loss 0.031266, train error 0.55,  val loss 0.361657, percent error 9.30\n",
            "Epoch    95, train loss 0.031528, train error 0.57,  val loss 0.361518, percent error 9.20\n",
            "Epoch    96, train loss 0.031283, train error 0.53,  val loss 0.362677, percent error 9.20\n",
            "Epoch    97, train loss 0.031267, train error 0.53,  val loss 0.365447, percent error 9.20\n",
            "Epoch    98, train loss 0.030809, train error 0.47,  val loss 0.363323, percent error 9.20\n",
            "Epoch    99, train loss 0.030432, train error 0.53,  val loss 0.364702, percent error 9.30\n"
          ]
        },
        {
          "data": {
            "image/png": "[encoded data removed]",
            "text/plain": [
              "<Figure size 640x480 with 1 Axes>"
            ]
          },
          "metadata": {},
          "output_type": "display_data"
        }
      ],
      "source": [
        "# choose cross entropy loss function (equation 5.24 in the loss notes)\n",
        "loss_function = nn.CrossEntropyLoss()\n",
        "# construct SGD optimizer and initialize learning rate and momentum\n",
        "optimizer = torch.optim.SGD(model.parameters(), lr = 0.05, momentum=0.9)\n",
        "# object that decreases learning rate by half every 20 epochs\n",
        "scheduler = StepLR(optimizer, step_size=20, gamma=0.5)\n",
        "# create 100 dummy data points and store in data loader class\n",
        "x_train = torch.tensor(train_data_x.transpose().astype('float32'))\n",
        "y_train = torch.tensor(train_data_y.astype('long')).long()\n",
        "x_val= torch.tensor(val_data_x.transpose().astype('float32'))\n",
        "y_val = torch.tensor(val_data_y.astype('long')).long()\n",
        "\n",
        "# load the data into a class that creates the batches\n",
        "data_loader = DataLoader(TensorDataset(x_train,y_train), batch_size=100, shuffle=True, worker_init_fn=np.random.seed(1))\n",
        "\n",
        "# Initialize model weights\n",
        "model.apply(weights_init)\n",
        "\n",
        "# loop over the dataset n_epoch times\n",
        "n_epoch = 100\n",
        "# store the loss and the % correct at each epoch\n",
        "losses_train = np.zeros((n_epoch))\n",
        "errors_train = np.zeros((n_epoch))\n",
        "losses_val = np.zeros((n_epoch))\n",
        "errors_val = np.zeros((n_epoch))\n",
        "\n",
        "for epoch in range(n_epoch):\n",
        "  # loop over batches\n",
        "  for i, data in enumerate(data_loader):\n",
        "    # retrieve inputs and labels for this batch\n",
        "    x_batch, y_batch = data\n",
        "    # zero the parameter gradients\n",
        "    optimizer.zero_grad()\n",
        "    # forward pass -- calculate model output\n",
        "    pred = model(x_batch[:,None,:])\n",
        "    # compute the loss\n",
        "    loss = loss_function(pred, y_batch)\n",
        "    # backward pass\n",
        "    loss.backward()\n",
        "    # SGD update\n",
        "    optimizer.step()\n",
        "\n",
        "  # Run whole dataset to get statistics -- normally wouldn't do this\n",
        "  pred_train = model(x_train[:,None,:])\n",
        "  pred_val = model(x_val[:,None,:])\n",
        "  _, predicted_train_class = torch.max(pred_train.data, 1)\n",
        "  _, predicted_val_class = torch.max(pred_val.data, 1)\n",
        "  errors_train[epoch] = 100 - 100 * (predicted_train_class == y_train).float().sum() / len(y_train)\n",
        "  errors_val[epoch]= 100 - 100 * (predicted_val_class == y_val).float().sum() / len(y_val)\n",
        "  losses_train[epoch] = loss_function(pred_train, y_train).item()\n",
        "  losses_val[epoch]= loss_function(pred_val, y_val).item()\n",
        "  print(f'Epoch {epoch:5d}, train loss {losses_train[epoch]:.6f}, train error {errors_train[epoch]:3.2f},  val loss {losses_val[epoch]:.6f}, percent error {errors_val[epoch]:3.2f}')\n",
        "\n",
        "  # tell scheduler to consider updating learning rate\n",
        "  scheduler.step()\n",
        "\n",
        "# Plot the results\n",
        "fig, ax = plt.subplots()\n",
        "ax.plot(errors_train,'r-',label='train')\n",
        "ax.plot(errors_val,'b-',label='validation')\n",
        "ax.set_ylim(0,100); ax.set_xlim(0,n_epoch)\n",
        "ax.set_xlabel('Epoch'); ax.set_ylabel('Error')\n",
        "ax.set_title('Part I: Validation Result %3.2f'%(errors_val[-1]))\n",
        "ax.legend()\n",
        "plt.show()"
      ]
    },
    {
      "cell_type": "code",
      "execution_count": null,
      "metadata": {},
      "outputs": [],
      "source": []
    }
  ],
  "metadata": {
    "colab": {
      "authorship_tag": "ABX9TyNb46PJB/CC1pcHGfjpUUZg",
      "include_colab_link": true,
      "provenance": []
    },
    "kernelspec": {
      "display_name": "cuda_2025",
      "language": "python",
      "name": "python3"
    },
    "language_info": {
      "codemirror_mode": {
        "name": "ipython",
        "version": 3
      },
      "file_extension": ".py",
      "mimetype": "text/x-python",
      "name": "python",
      "nbconvert_exporter": "python",
      "pygments_lexer": "ipython3",
      "version": "3.9.21"
    }
  },
  "nbformat": 4,
  "nbformat_minor": 0
}
