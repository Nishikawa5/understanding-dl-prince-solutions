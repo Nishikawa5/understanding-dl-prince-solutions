{
  "cells": [
    {
      "cell_type": "markdown",
      "metadata": {
        "colab_type": "text",
        "id": "view-in-github"
      },
      "source": [
        "<a href=\"https://colab.research.google.com/github/udlbook/udlbook/blob/main/Notebooks/Chap20/20_4_Adversarial_Attacks.ipynb\" target=\"_parent\"><img src=\"https://colab.research.google.com/assets/colab-badge.svg\" alt=\"Open In Colab\"/></a>"
      ]
    },
    {
      "cell_type": "markdown",
      "metadata": {
        "id": "t9vk9Elugvmi"
      },
      "source": [
        "# **Notebook 20.4: Adversarial attacks**\n",
        "\n",
        "This notebook builds uses the network for classification of MNIST from Notebook 10.5.  The code is adapted from https://nextjournal.com/gkoehler/pytorch-mnist, and uses the fast gradient sign attack of [Goodfellow et al. (2015)](https://arxiv.org/abs/1412.6572).  Having trained, the network, we search for adversarial examples -- inputs which look very similar to class A, but are mistakenly classified as class B.  We do this by starting with a correctly classified example and perturbing it according to the gradients of the network so that the output changes.\n",
        "\n",
        "Work through the cells below, running each cell in turn. In various places you will see the words \"TODO\". Follow the instructions at these places and make predictions about what is going to happen or write code to complete the functions.\n",
        "\n",
        "Contact me at udlbookmail@gmail.com if you find any mistakes or have any suggestions.\n"
      ]
    },
    {
      "cell_type": "code",
      "execution_count": 14,
      "metadata": {
        "id": "YrXWAH7sUWvU"
      },
      "outputs": [],
      "source": [
        "import torch\n",
        "import torchvision\n",
        "import torch.nn as nn\n",
        "import torch.nn.functional as F\n",
        "import torch.optim as optim\n",
        "import matplotlib.pyplot as plt\n",
        "import random\n",
        "\n",
        "import numpy as np"
      ]
    },
    {
      "cell_type": "code",
      "execution_count": 2,
      "metadata": {
        "id": "wScBGXXFVadm"
      },
      "outputs": [],
      "source": [
        "# Run this once to load the train and test data straight into a dataloader class\n",
        "# that will provide the batches\n",
        "batch_size_train = 64\n",
        "batch_size_test = 1000\n",
        "train_loader = torch.utils.data.DataLoader(\n",
        "  torchvision.datasets.MNIST('/files/', train=True, download=True,\n",
        "                             transform=torchvision.transforms.Compose([\n",
        "                               torchvision.transforms.ToTensor(),\n",
        "                               torchvision.transforms.Normalize(\n",
        "                                 (0.1307,), (0.3081,))\n",
        "                             ])),\n",
        "  batch_size=batch_size_train, shuffle=True)\n",
        "\n",
        "test_loader = torch.utils.data.DataLoader(\n",
        "  torchvision.datasets.MNIST('/files/', train=False, download=True,\n",
        "                             transform=torchvision.transforms.Compose([\n",
        "                               torchvision.transforms.ToTensor(),\n",
        "                               torchvision.transforms.Normalize(\n",
        "                                 (0.1307,), (0.3081,))\n",
        "                             ])),\n",
        "  batch_size=batch_size_test, shuffle=True)"
      ]
    },
    {
      "cell_type": "code",
      "execution_count": 3,
      "metadata": {
        "id": "8bKADvLHbiV5"
      },
      "outputs": [
        {
          "data": {
            "image/png": "[encoded data removed]",
            "text/plain": [
              "<Figure size 640x480 with 6 Axes>"
            ]
          },
          "metadata": {},
          "output_type": "display_data"
        }
      ],
      "source": [
        "# Let's draw some of the training data\n",
        "examples = enumerate(test_loader)\n",
        "batch_idx, (example_data, example_targets) = next(examples)\n",
        "\n",
        "fig = plt.figure()\n",
        "for i in range(6):\n",
        "  plt.subplot(2,3,i+1)\n",
        "  plt.tight_layout()\n",
        "  plt.imshow(example_data[i][0], cmap='gray', interpolation='none')\n",
        "  plt.title(\"Ground Truth: {}\".format(example_targets[i]))\n",
        "  plt.xticks([])\n",
        "  plt.yticks([])\n",
        "plt.show()"
      ]
    },
    {
      "cell_type": "markdown",
      "metadata": {
        "id": "_sFvRDGrl4qe"
      },
      "source": [
        "Define the network.  This is a more typical way to define a network than the sequential structure.  We define a class for the network, and define the parameters in the constructor.  Then we use a function called forward to actually run the network.  It's easy to see how you might use residual connections in this format."
      ]
    },
    {
      "cell_type": "code",
      "execution_count": 4,
      "metadata": {
        "id": "EQkvw2KOPVl7"
      },
      "outputs": [],
      "source": [
        "from os import X_OK\n",
        "\n",
        "class Net(nn.Module):\n",
        "    def __init__(self):\n",
        "        super(Net, self).__init__()\n",
        "        self.conv1 = nn.Conv2d(1, 10, kernel_size=5)\n",
        "        self.conv2 = nn.Conv2d(10, 20, kernel_size=5)\n",
        "        self.drop = nn.Dropout2d()\n",
        "        self.fc1 = nn.Linear(320, 50)\n",
        "        self.fc2 = nn.Linear(50, 10)\n",
        "\n",
        "    def forward(self, x):\n",
        "        x = self.conv1(x)\n",
        "        x = F.max_pool2d(x,2)\n",
        "        x = F.relu(x)\n",
        "        x = self.conv2(x)\n",
        "        x = self.drop(x)\n",
        "        x = F.max_pool2d(x,2)\n",
        "        x = F.relu(x)\n",
        "        x = x.flatten(1)\n",
        "        x = F.relu(self.fc1(x))\n",
        "        x = self.fc2(x)\n",
        "        x = F.log_softmax(x)\n",
        "        return x"
      ]
    },
    {
      "cell_type": "code",
      "execution_count": 5,
      "metadata": {
        "id": "qWZtkCZcU_dg"
      },
      "outputs": [],
      "source": [
        "# He initialization of weights\n",
        "def weights_init(layer_in):\n",
        "  if isinstance(layer_in, nn.Linear):\n",
        "    nn.init.kaiming_uniform_(layer_in.weight)\n",
        "    layer_in.bias.data.fill_(0.0)"
      ]
    },
    {
      "cell_type": "code",
      "execution_count": 6,
      "metadata": {
        "id": "FslroPJJffrh"
      },
      "outputs": [],
      "source": [
        "# Create network\n",
        "model = Net()\n",
        "# Initialize model weights\n",
        "model.apply(weights_init)\n",
        "# Define optimizer\n",
        "optimizer = optim.SGD(model.parameters(), lr=0.01, momentum=0.5)"
      ]
    },
    {
      "cell_type": "code",
      "execution_count": 7,
      "metadata": {
        "id": "xKQd9PzkQ766"
      },
      "outputs": [],
      "source": [
        "# Main training routine\n",
        "def train(epoch):\n",
        "  model.train()\n",
        "  # Get each\n",
        "  for batch_idx, (data, target) in enumerate(train_loader):\n",
        "    optimizer.zero_grad()\n",
        "    output = model(data)\n",
        "    loss = F.nll_loss(output, target)\n",
        "    loss.backward()\n",
        "    optimizer.step()\n",
        "    # Store results\n",
        "    if batch_idx % 10 == 0:\n",
        "      print('Train Epoch: {} [{}/{}]\\tLoss: {:.6f}'.format(\n",
        "        epoch, batch_idx * len(data), len(train_loader.dataset), loss.item()))"
      ]
    },
    {
      "cell_type": "code",
      "execution_count": 8,
      "metadata": {
        "id": "Byn-f7qWRLxX"
      },
      "outputs": [],
      "source": [
        "# Run on test data\n",
        "def test():\n",
        "  model.eval()\n",
        "  test_loss = 0\n",
        "  correct = 0\n",
        "  with torch.no_grad():\n",
        "    for data, target in test_loader:\n",
        "      output = model(data)\n",
        "      test_loss += F.nll_loss(output, target, size_average=False).item()\n",
        "      pred = output.data.max(1, keepdim=True)[1]\n",
        "      correct += pred.eq(target.data.view_as(pred)).sum()\n",
        "  test_loss /= len(test_loader.dataset)\n",
        "  print('\\nTest set: Avg. loss: {:.4f}, Accuracy: {}/{} ({:.0f}%)\\n'.format(\n",
        "    test_loss, correct, len(test_loader.dataset),\n",
        "    100. * correct / len(test_loader.dataset)))"
      ]
    },
    {
      "cell_type": "code",
      "execution_count": 9,
      "metadata": {
        "id": "YgLaex1pfhqz"
      },
      "outputs": [
        {
          "name": "stderr",
          "output_type": "stream",
          "text": [
            "C:\\Users\\pichau\\AppData\\Local\\Temp\\ipykernel_21960\\237405460.py:23: UserWarning: Implicit dimension choice for log_softmax has been deprecated. Change the call to include dim=X as an argument.\n",
            "  x = F.log_softmax(x)\n",
            "c:\\Users\\pichau\\anaconda3\\envs\\cuda_2025\\lib\\site-packages\\torch\\nn\\_reduction.py:51: UserWarning: size_average and reduce args will be deprecated, please use reduction='sum' instead.\n",
            "  warnings.warn(warning.format(ret))\n"
          ]
        },
        {
          "name": "stdout",
          "output_type": "stream",
          "text": [
            "\n",
            "Test set: Avg. loss: 2.4651, Accuracy: 655/10000 (7%)\n",
            "\n",
            "Train Epoch: 1 [0/60000]\tLoss: 2.630526\n",
            "Train Epoch: 1 [640/60000]\tLoss: 2.231435\n",
            "Train Epoch: 1 [1280/60000]\tLoss: 2.123436\n",
            "Train Epoch: 1 [1920/60000]\tLoss: 2.022369\n",
            "Train Epoch: 1 [2560/60000]\tLoss: 1.827141\n",
            "Train Epoch: 1 [3200/60000]\tLoss: 1.832357\n",
            "Train Epoch: 1 [3840/60000]\tLoss: 1.371657\n",
            "Train Epoch: 1 [4480/60000]\tLoss: 1.237566\n",
            "Train Epoch: 1 [5120/60000]\tLoss: 1.200728\n",
            "Train Epoch: 1 [5760/60000]\tLoss: 0.904304\n",
            "Train Epoch: 1 [6400/60000]\tLoss: 0.861640\n",
            "Train Epoch: 1 [7040/60000]\tLoss: 0.937392\n",
            "Train Epoch: 1 [7680/60000]\tLoss: 0.678851\n",
            "Train Epoch: 1 [8320/60000]\tLoss: 0.734058\n",
            "Train Epoch: 1 [8960/60000]\tLoss: 0.755976\n",
            "Train Epoch: 1 [9600/60000]\tLoss: 0.953729\n",
            "Train Epoch: 1 [10240/60000]\tLoss: 0.684825\n",
            "Train Epoch: 1 [10880/60000]\tLoss: 0.688193\n",
            "Train Epoch: 1 [11520/60000]\tLoss: 0.612858\n",
            "Train Epoch: 1 [12160/60000]\tLoss: 0.517708\n",
            "Train Epoch: 1 [12800/60000]\tLoss: 0.669397\n",
            "Train Epoch: 1 [13440/60000]\tLoss: 0.525465\n",
            "Train Epoch: 1 [14080/60000]\tLoss: 0.475078\n",
            "Train Epoch: 1 [14720/60000]\tLoss: 0.386738\n",
            "Train Epoch: 1 [15360/60000]\tLoss: 0.408190\n",
            "Train Epoch: 1 [16000/60000]\tLoss: 0.446669\n",
            "Train Epoch: 1 [16640/60000]\tLoss: 0.837548\n",
            "Train Epoch: 1 [17280/60000]\tLoss: 0.464373\n",
            "Train Epoch: 1 [17920/60000]\tLoss: 0.539060\n",
            "Train Epoch: 1 [18560/60000]\tLoss: 0.597406\n",
            "Train Epoch: 1 [19200/60000]\tLoss: 0.367350\n",
            "Train Epoch: 1 [19840/60000]\tLoss: 0.402417\n",
            "Train Epoch: 1 [20480/60000]\tLoss: 0.394681\n",
            "Train Epoch: 1 [21120/60000]\tLoss: 0.307176\n",
            "Train Epoch: 1 [21760/60000]\tLoss: 0.358797\n",
            "Train Epoch: 1 [22400/60000]\tLoss: 0.245497\n",
            "Train Epoch: 1 [23040/60000]\tLoss: 0.470745\n",
            "Train Epoch: 1 [23680/60000]\tLoss: 0.416085\n",
            "Train Epoch: 1 [24320/60000]\tLoss: 0.361100\n",
            "Train Epoch: 1 [24960/60000]\tLoss: 0.352076\n",
            "Train Epoch: 1 [25600/60000]\tLoss: 0.341344\n",
            "Train Epoch: 1 [26240/60000]\tLoss: 0.573662\n",
            "Train Epoch: 1 [26880/60000]\tLoss: 0.791717\n",
            "Train Epoch: 1 [27520/60000]\tLoss: 0.167140\n",
            "Train Epoch: 1 [28160/60000]\tLoss: 0.326755\n",
            "Train Epoch: 1 [28800/60000]\tLoss: 0.718187\n",
            "Train Epoch: 1 [29440/60000]\tLoss: 0.389048\n",
            "Train Epoch: 1 [30080/60000]\tLoss: 0.482545\n",
            "Train Epoch: 1 [30720/60000]\tLoss: 0.483646\n",
            "Train Epoch: 1 [31360/60000]\tLoss: 0.476421\n",
            "Train Epoch: 1 [32000/60000]\tLoss: 0.140813\n",
            "Train Epoch: 1 [32640/60000]\tLoss: 0.326636\n",
            "Train Epoch: 1 [33280/60000]\tLoss: 0.217125\n",
            "Train Epoch: 1 [33920/60000]\tLoss: 0.382006\n",
            "Train Epoch: 1 [34560/60000]\tLoss: 0.415392\n",
            "Train Epoch: 1 [35200/60000]\tLoss: 0.301203\n",
            "Train Epoch: 1 [35840/60000]\tLoss: 0.319179\n",
            "Train Epoch: 1 [36480/60000]\tLoss: 0.274143\n",
            "Train Epoch: 1 [37120/60000]\tLoss: 0.460742\n",
            "Train Epoch: 1 [37760/60000]\tLoss: 0.121643\n",
            "Train Epoch: 1 [38400/60000]\tLoss: 0.262260\n",
            "Train Epoch: 1 [39040/60000]\tLoss: 0.221388\n",
            "Train Epoch: 1 [39680/60000]\tLoss: 0.206892\n",
            "Train Epoch: 1 [40320/60000]\tLoss: 0.365044\n",
            "Train Epoch: 1 [40960/60000]\tLoss: 0.246425\n",
            "Train Epoch: 1 [41600/60000]\tLoss: 0.499742\n",
            "Train Epoch: 1 [42240/60000]\tLoss: 0.282609\n",
            "Train Epoch: 1 [42880/60000]\tLoss: 0.156407\n",
            "Train Epoch: 1 [43520/60000]\tLoss: 0.504214\n",
            "Train Epoch: 1 [44160/60000]\tLoss: 0.167604\n",
            "Train Epoch: 1 [44800/60000]\tLoss: 0.302370\n",
            "Train Epoch: 1 [45440/60000]\tLoss: 0.264743\n",
            "Train Epoch: 1 [46080/60000]\tLoss: 0.258854\n",
            "Train Epoch: 1 [46720/60000]\tLoss: 0.147643\n",
            "Train Epoch: 1 [47360/60000]\tLoss: 0.265400\n",
            "Train Epoch: 1 [48000/60000]\tLoss: 0.314605\n",
            "Train Epoch: 1 [48640/60000]\tLoss: 0.295246\n",
            "Train Epoch: 1 [49280/60000]\tLoss: 0.298617\n",
            "Train Epoch: 1 [49920/60000]\tLoss: 0.274545\n",
            "Train Epoch: 1 [50560/60000]\tLoss: 0.143568\n",
            "Train Epoch: 1 [51200/60000]\tLoss: 0.150251\n",
            "Train Epoch: 1 [51840/60000]\tLoss: 0.192041\n",
            "Train Epoch: 1 [52480/60000]\tLoss: 0.347809\n",
            "Train Epoch: 1 [53120/60000]\tLoss: 0.258494\n",
            "Train Epoch: 1 [53760/60000]\tLoss: 0.292593\n",
            "Train Epoch: 1 [54400/60000]\tLoss: 0.112617\n",
            "Train Epoch: 1 [55040/60000]\tLoss: 0.284606\n",
            "Train Epoch: 1 [55680/60000]\tLoss: 0.208329\n",
            "Train Epoch: 1 [56320/60000]\tLoss: 0.241277\n",
            "Train Epoch: 1 [56960/60000]\tLoss: 0.326131\n",
            "Train Epoch: 1 [57600/60000]\tLoss: 0.312093\n",
            "Train Epoch: 1 [58240/60000]\tLoss: 0.497228\n",
            "Train Epoch: 1 [58880/60000]\tLoss: 0.177422\n",
            "Train Epoch: 1 [59520/60000]\tLoss: 0.303281\n",
            "\n",
            "Test set: Avg. loss: 0.1388, Accuracy: 9592/10000 (96%)\n",
            "\n",
            "Train Epoch: 2 [0/60000]\tLoss: 0.192390\n",
            "Train Epoch: 2 [640/60000]\tLoss: 0.176058\n",
            "Train Epoch: 2 [1280/60000]\tLoss: 0.325164\n",
            "Train Epoch: 2 [1920/60000]\tLoss: 0.304423\n",
            "Train Epoch: 2 [2560/60000]\tLoss: 0.250767\n",
            "Train Epoch: 2 [3200/60000]\tLoss: 0.119070\n",
            "Train Epoch: 2 [3840/60000]\tLoss: 0.256613\n",
            "Train Epoch: 2 [4480/60000]\tLoss: 0.461815\n",
            "Train Epoch: 2 [5120/60000]\tLoss: 0.199304\n",
            "Train Epoch: 2 [5760/60000]\tLoss: 0.198598\n",
            "Train Epoch: 2 [6400/60000]\tLoss: 0.213224\n",
            "Train Epoch: 2 [7040/60000]\tLoss: 0.386732\n",
            "Train Epoch: 2 [7680/60000]\tLoss: 0.370603\n",
            "Train Epoch: 2 [8320/60000]\tLoss: 0.313061\n",
            "Train Epoch: 2 [8960/60000]\tLoss: 0.207114\n",
            "Train Epoch: 2 [9600/60000]\tLoss: 0.393986\n",
            "Train Epoch: 2 [10240/60000]\tLoss: 0.218854\n",
            "Train Epoch: 2 [10880/60000]\tLoss: 0.197477\n",
            "Train Epoch: 2 [11520/60000]\tLoss: 0.241294\n",
            "Train Epoch: 2 [12160/60000]\tLoss: 0.286471\n",
            "Train Epoch: 2 [12800/60000]\tLoss: 0.318102\n",
            "Train Epoch: 2 [13440/60000]\tLoss: 0.238683\n",
            "Train Epoch: 2 [14080/60000]\tLoss: 0.172492\n",
            "Train Epoch: 2 [14720/60000]\tLoss: 0.228301\n",
            "Train Epoch: 2 [15360/60000]\tLoss: 0.209414\n",
            "Train Epoch: 2 [16000/60000]\tLoss: 0.183347\n",
            "Train Epoch: 2 [16640/60000]\tLoss: 0.375182\n",
            "Train Epoch: 2 [17280/60000]\tLoss: 0.164775\n",
            "Train Epoch: 2 [17920/60000]\tLoss: 0.121171\n",
            "Train Epoch: 2 [18560/60000]\tLoss: 0.083896\n",
            "Train Epoch: 2 [19200/60000]\tLoss: 0.133573\n",
            "Train Epoch: 2 [19840/60000]\tLoss: 0.143137\n",
            "Train Epoch: 2 [20480/60000]\tLoss: 0.174942\n",
            "Train Epoch: 2 [21120/60000]\tLoss: 0.164908\n",
            "Train Epoch: 2 [21760/60000]\tLoss: 0.262051\n",
            "Train Epoch: 2 [22400/60000]\tLoss: 0.156035\n",
            "Train Epoch: 2 [23040/60000]\tLoss: 0.125488\n",
            "Train Epoch: 2 [23680/60000]\tLoss: 0.391842\n",
            "Train Epoch: 2 [24320/60000]\tLoss: 0.181920\n",
            "Train Epoch: 2 [24960/60000]\tLoss: 0.237246\n",
            "Train Epoch: 2 [25600/60000]\tLoss: 0.110110\n",
            "Train Epoch: 2 [26240/60000]\tLoss: 0.169592\n",
            "Train Epoch: 2 [26880/60000]\tLoss: 0.250304\n",
            "Train Epoch: 2 [27520/60000]\tLoss: 0.112463\n",
            "Train Epoch: 2 [28160/60000]\tLoss: 0.122260\n",
            "Train Epoch: 2 [28800/60000]\tLoss: 0.185624\n",
            "Train Epoch: 2 [29440/60000]\tLoss: 0.116512\n",
            "Train Epoch: 2 [30080/60000]\tLoss: 0.106225\n",
            "Train Epoch: 2 [30720/60000]\tLoss: 0.319956\n",
            "Train Epoch: 2 [31360/60000]\tLoss: 0.192950\n",
            "Train Epoch: 2 [32000/60000]\tLoss: 0.131471\n",
            "Train Epoch: 2 [32640/60000]\tLoss: 0.223273\n",
            "Train Epoch: 2 [33280/60000]\tLoss: 0.290073\n",
            "Train Epoch: 2 [33920/60000]\tLoss: 0.129937\n",
            "Train Epoch: 2 [34560/60000]\tLoss: 0.308243\n",
            "Train Epoch: 2 [35200/60000]\tLoss: 0.151720\n",
            "Train Epoch: 2 [35840/60000]\tLoss: 0.063472\n",
            "Train Epoch: 2 [36480/60000]\tLoss: 0.110097\n",
            "Train Epoch: 2 [37120/60000]\tLoss: 0.281497\n",
            "Train Epoch: 2 [37760/60000]\tLoss: 0.338687\n",
            "Train Epoch: 2 [38400/60000]\tLoss: 0.214206\n",
            "Train Epoch: 2 [39040/60000]\tLoss: 0.210329\n",
            "Train Epoch: 2 [39680/60000]\tLoss: 0.376464\n",
            "Train Epoch: 2 [40320/60000]\tLoss: 0.255756\n",
            "Train Epoch: 2 [40960/60000]\tLoss: 0.088400\n",
            "Train Epoch: 2 [41600/60000]\tLoss: 0.260491\n",
            "Train Epoch: 2 [42240/60000]\tLoss: 0.275196\n",
            "Train Epoch: 2 [42880/60000]\tLoss: 0.156440\n",
            "Train Epoch: 2 [43520/60000]\tLoss: 0.433377\n",
            "Train Epoch: 2 [44160/60000]\tLoss: 0.257294\n",
            "Train Epoch: 2 [44800/60000]\tLoss: 0.286426\n",
            "Train Epoch: 2 [45440/60000]\tLoss: 0.173347\n",
            "Train Epoch: 2 [46080/60000]\tLoss: 0.119751\n",
            "Train Epoch: 2 [46720/60000]\tLoss: 0.151810\n",
            "Train Epoch: 2 [47360/60000]\tLoss: 0.314307\n",
            "Train Epoch: 2 [48000/60000]\tLoss: 0.165414\n",
            "Train Epoch: 2 [48640/60000]\tLoss: 0.146473\n",
            "Train Epoch: 2 [49280/60000]\tLoss: 0.109301\n",
            "Train Epoch: 2 [49920/60000]\tLoss: 0.201156\n",
            "Train Epoch: 2 [50560/60000]\tLoss: 0.150354\n",
            "Train Epoch: 2 [51200/60000]\tLoss: 0.114376\n",
            "Train Epoch: 2 [51840/60000]\tLoss: 0.204777\n",
            "Train Epoch: 2 [52480/60000]\tLoss: 0.085389\n",
            "Train Epoch: 2 [53120/60000]\tLoss: 0.153340\n",
            "Train Epoch: 2 [53760/60000]\tLoss: 0.173807\n",
            "Train Epoch: 2 [54400/60000]\tLoss: 0.202346\n",
            "Train Epoch: 2 [55040/60000]\tLoss: 0.188819\n",
            "Train Epoch: 2 [55680/60000]\tLoss: 0.113243\n",
            "Train Epoch: 2 [56320/60000]\tLoss: 0.183994\n",
            "Train Epoch: 2 [56960/60000]\tLoss: 0.315177\n",
            "Train Epoch: 2 [57600/60000]\tLoss: 0.126826\n",
            "Train Epoch: 2 [58240/60000]\tLoss: 0.167237\n",
            "Train Epoch: 2 [58880/60000]\tLoss: 0.038627\n",
            "Train Epoch: 2 [59520/60000]\tLoss: 0.212428\n",
            "\n",
            "Test set: Avg. loss: 0.0889, Accuracy: 9724/10000 (97%)\n",
            "\n",
            "Train Epoch: 3 [0/60000]\tLoss: 0.229870\n",
            "Train Epoch: 3 [640/60000]\tLoss: 0.142790\n",
            "Train Epoch: 3 [1280/60000]\tLoss: 0.278810\n",
            "Train Epoch: 3 [1920/60000]\tLoss: 0.146501\n",
            "Train Epoch: 3 [2560/60000]\tLoss: 0.477842\n",
            "Train Epoch: 3 [3200/60000]\tLoss: 0.235462\n",
            "Train Epoch: 3 [3840/60000]\tLoss: 0.085274\n",
            "Train Epoch: 3 [4480/60000]\tLoss: 0.180854\n",
            "Train Epoch: 3 [5120/60000]\tLoss: 0.067661\n",
            "Train Epoch: 3 [5760/60000]\tLoss: 0.123345\n",
            "Train Epoch: 3 [6400/60000]\tLoss: 0.110196\n",
            "Train Epoch: 3 [7040/60000]\tLoss: 0.122438\n",
            "Train Epoch: 3 [7680/60000]\tLoss: 0.241843\n",
            "Train Epoch: 3 [8320/60000]\tLoss: 0.513070\n",
            "Train Epoch: 3 [8960/60000]\tLoss: 0.152409\n",
            "Train Epoch: 3 [9600/60000]\tLoss: 0.193681\n",
            "Train Epoch: 3 [10240/60000]\tLoss: 0.270012\n",
            "Train Epoch: 3 [10880/60000]\tLoss: 0.220139\n",
            "Train Epoch: 3 [11520/60000]\tLoss: 0.058898\n",
            "Train Epoch: 3 [12160/60000]\tLoss: 0.113338\n",
            "Train Epoch: 3 [12800/60000]\tLoss: 0.042977\n",
            "Train Epoch: 3 [13440/60000]\tLoss: 0.087173\n",
            "Train Epoch: 3 [14080/60000]\tLoss: 0.091112\n",
            "Train Epoch: 3 [14720/60000]\tLoss: 0.165253\n",
            "Train Epoch: 3 [15360/60000]\tLoss: 0.104910\n",
            "Train Epoch: 3 [16000/60000]\tLoss: 0.061138\n",
            "Train Epoch: 3 [16640/60000]\tLoss: 0.368310\n",
            "Train Epoch: 3 [17280/60000]\tLoss: 0.133552\n",
            "Train Epoch: 3 [17920/60000]\tLoss: 0.185348\n",
            "Train Epoch: 3 [18560/60000]\tLoss: 0.277975\n",
            "Train Epoch: 3 [19200/60000]\tLoss: 0.086578\n",
            "Train Epoch: 3 [19840/60000]\tLoss: 0.057193\n",
            "Train Epoch: 3 [20480/60000]\tLoss: 0.121202\n",
            "Train Epoch: 3 [21120/60000]\tLoss: 0.177221\n",
            "Train Epoch: 3 [21760/60000]\tLoss: 0.189953\n",
            "Train Epoch: 3 [22400/60000]\tLoss: 0.204165\n",
            "Train Epoch: 3 [23040/60000]\tLoss: 0.114454\n",
            "Train Epoch: 3 [23680/60000]\tLoss: 0.204055\n",
            "Train Epoch: 3 [24320/60000]\tLoss: 0.075689\n",
            "Train Epoch: 3 [24960/60000]\tLoss: 0.071219\n",
            "Train Epoch: 3 [25600/60000]\tLoss: 0.145633\n",
            "Train Epoch: 3 [26240/60000]\tLoss: 0.192638\n",
            "Train Epoch: 3 [26880/60000]\tLoss: 0.078519\n",
            "Train Epoch: 3 [27520/60000]\tLoss: 0.149562\n",
            "Train Epoch: 3 [28160/60000]\tLoss: 0.089323\n",
            "Train Epoch: 3 [28800/60000]\tLoss: 0.140700\n",
            "Train Epoch: 3 [29440/60000]\tLoss: 0.226672\n",
            "Train Epoch: 3 [30080/60000]\tLoss: 0.198961\n",
            "Train Epoch: 3 [30720/60000]\tLoss: 0.070740\n",
            "Train Epoch: 3 [31360/60000]\tLoss: 0.233230\n",
            "Train Epoch: 3 [32000/60000]\tLoss: 0.085323\n",
            "Train Epoch: 3 [32640/60000]\tLoss: 0.074141\n",
            "Train Epoch: 3 [33280/60000]\tLoss: 0.145565\n",
            "Train Epoch: 3 [33920/60000]\tLoss: 0.216736\n",
            "Train Epoch: 3 [34560/60000]\tLoss: 0.283753\n",
            "Train Epoch: 3 [35200/60000]\tLoss: 0.124150\n",
            "Train Epoch: 3 [35840/60000]\tLoss: 0.206903\n",
            "Train Epoch: 3 [36480/60000]\tLoss: 0.086536\n",
            "Train Epoch: 3 [37120/60000]\tLoss: 0.120778\n",
            "Train Epoch: 3 [37760/60000]\tLoss: 0.099935\n",
            "Train Epoch: 3 [38400/60000]\tLoss: 0.101590\n",
            "Train Epoch: 3 [39040/60000]\tLoss: 0.223363\n",
            "Train Epoch: 3 [39680/60000]\tLoss: 0.210613\n",
            "Train Epoch: 3 [40320/60000]\tLoss: 0.229546\n",
            "Train Epoch: 3 [40960/60000]\tLoss: 0.219655\n",
            "Train Epoch: 3 [41600/60000]\tLoss: 0.122158\n",
            "Train Epoch: 3 [42240/60000]\tLoss: 0.143476\n",
            "Train Epoch: 3 [42880/60000]\tLoss: 0.118867\n",
            "Train Epoch: 3 [43520/60000]\tLoss: 0.049737\n",
            "Train Epoch: 3 [44160/60000]\tLoss: 0.234445\n",
            "Train Epoch: 3 [44800/60000]\tLoss: 0.146528\n",
            "Train Epoch: 3 [45440/60000]\tLoss: 0.071356\n",
            "Train Epoch: 3 [46080/60000]\tLoss: 0.300360\n",
            "Train Epoch: 3 [46720/60000]\tLoss: 0.042128\n",
            "Train Epoch: 3 [47360/60000]\tLoss: 0.124737\n",
            "Train Epoch: 3 [48000/60000]\tLoss: 0.131713\n",
            "Train Epoch: 3 [48640/60000]\tLoss: 0.145340\n",
            "Train Epoch: 3 [49280/60000]\tLoss: 0.133600\n",
            "Train Epoch: 3 [49920/60000]\tLoss: 0.177698\n",
            "Train Epoch: 3 [50560/60000]\tLoss: 0.167307\n",
            "Train Epoch: 3 [51200/60000]\tLoss: 0.146993\n",
            "Train Epoch: 3 [51840/60000]\tLoss: 0.091167\n",
            "Train Epoch: 3 [52480/60000]\tLoss: 0.093902\n",
            "Train Epoch: 3 [53120/60000]\tLoss: 0.098065\n",
            "Train Epoch: 3 [53760/60000]\tLoss: 0.147907\n",
            "Train Epoch: 3 [54400/60000]\tLoss: 0.332989\n",
            "Train Epoch: 3 [55040/60000]\tLoss: 0.097951\n",
            "Train Epoch: 3 [55680/60000]\tLoss: 0.069644\n",
            "Train Epoch: 3 [56320/60000]\tLoss: 0.124235\n",
            "Train Epoch: 3 [56960/60000]\tLoss: 0.090937\n",
            "Train Epoch: 3 [57600/60000]\tLoss: 0.145523\n",
            "Train Epoch: 3 [58240/60000]\tLoss: 0.134029\n",
            "Train Epoch: 3 [58880/60000]\tLoss: 0.080465\n",
            "Train Epoch: 3 [59520/60000]\tLoss: 0.133793\n",
            "\n",
            "Test set: Avg. loss: 0.0760, Accuracy: 9759/10000 (98%)\n",
            "\n"
          ]
        }
      ],
      "source": [
        "# Get initial performance\n",
        "test()\n",
        "# Train for three epochs\n",
        "n_epochs = 3\n",
        "for epoch in range(1, n_epochs + 1):\n",
        "  train(epoch)\n",
        "  test()"
      ]
    },
    {
      "cell_type": "code",
      "execution_count": 10,
      "metadata": {
        "id": "o7fRUAy9Se1B"
      },
      "outputs": [
        {
          "name": "stderr",
          "output_type": "stream",
          "text": [
            "C:\\Users\\pichau\\AppData\\Local\\Temp\\ipykernel_21960\\237405460.py:23: UserWarning: Implicit dimension choice for log_softmax has been deprecated. Change the call to include dim=X as an argument.\n",
            "  x = F.log_softmax(x)\n"
          ]
        },
        {
          "data": {
            "image/png": "[encoded data removed]",
            "text/plain": [
              "<Figure size 640x480 with 6 Axes>"
            ]
          },
          "metadata": {},
          "output_type": "display_data"
        }
      ],
      "source": [
        "# Run network on data we got before and show predictions\n",
        "output = model(example_data)\n",
        "\n",
        "fig = plt.figure()\n",
        "for i in range(6):\n",
        "  plt.subplot(2,3,i+1)\n",
        "  plt.tight_layout()\n",
        "  plt.imshow(example_data[i][0], cmap='gray', interpolation='none')\n",
        "  plt.title(\"Prediction: {}\".format(\n",
        "    output.data.max(1, keepdim=True)[1][i].item()))\n",
        "  plt.xticks([])\n",
        "  plt.yticks([])\n",
        "plt.show()"
      ]
    },
    {
      "cell_type": "markdown",
      "metadata": {
        "id": "EabuoMdP32Hd"
      },
      "source": [
        "This is the code that does the adversarial attack. It is adapted from [here](https://pytorch.org/tutorials/beginner/fgsm_tutorial.html).   It is an example of the fast gradient sign method (FGSM), which modifies the data by\n",
        "\n",
        "\n",
        "\n",
        "*   Calculating the derivative $\\partial L/\\partial \\mathbf{x}$ of the loss $L$ with respect to the input data $\\mathbf{x}$.\n",
        "*   Finds the sign of the gradient at each point (making a tensor the same size as $\\mathbf{x}$ with a one where it was positive and minus one where it was negative.  \n",
        "*   Multiplying this vector by $\\epsilon$ and adding it back to the original data\n",
        "\n",
        "\n"
      ]
    },
    {
      "cell_type": "code",
      "execution_count": 17,
      "metadata": {
        "id": "gAX7tnld46q1"
      },
      "outputs": [],
      "source": [
        "# FGSM attack code.\n",
        "def fgsm_attack(x, epsilon, dLdx):\n",
        "    # TODO -- write this function\n",
        "    # Get the sign of the gradient\n",
        "    # Add epsilon times the size of gradient to x\n",
        "    # Replace this line\n",
        "    sign_grad = np.sign(dLdx)\n",
        "    x_modified = x + sign_grad * epsilon\n",
        "\n",
        "    # Return the perturbed image\n",
        "    return x_modified"
      ]
    },
    {
      "cell_type": "code",
      "execution_count": 18,
      "metadata": {
        "id": "AuNTYWboufbm"
      },
      "outputs": [
        {
          "name": "stderr",
          "output_type": "stream",
          "text": [
            "C:\\Users\\pichau\\AppData\\Local\\Temp\\ipykernel_21960\\237405460.py:23: UserWarning: Implicit dimension choice for log_softmax has been deprecated. Change the call to include dim=X as an argument.\n",
            "  x = F.log_softmax(x)\n",
            "C:\\Users\\pichau\\AppData\\Local\\Temp\\ipykernel_21960\\3234052454.py:7: DeprecationWarning: __array_wrap__ must accept context and return_scalar arguments (positionally) in the future. (Deprecated NumPy 2.0)\n",
            "  sign_grad = np.sign(dLdx)\n"
          ]
        },
        {
          "data": {
            "image/png": "[encoded data removed]",
            "text/plain": [
              "<Figure size 640x480 with 2 Axes>"
            ]
          },
          "metadata": {},
          "output_type": "display_data"
        },
        {
          "data": {
            "image/png": "[encoded data removed]",
            "text/plain": [
              "<Figure size 640x480 with 2 Axes>"
            ]
          },
          "metadata": {},
          "output_type": "display_data"
        },
        {
          "data": {
            "image/png": "[encoded data removed]",
            "text/plain": [
              "<Figure size 640x480 with 2 Axes>"
            ]
          },
          "metadata": {},
          "output_type": "display_data"
        }
      ],
      "source": [
        "no_examples = 3\n",
        "epsilon = 0.5\n",
        "for i in range(no_examples):\n",
        "  # Reset gradients\n",
        "  optimizer.zero_grad()\n",
        "\n",
        "  # Get the i'th data example\n",
        "  x = example_data[i,:,:,:]\n",
        "  # Add an extra dimension back to the beginning\n",
        "  x= x[None, :,:,:]\n",
        "  x.requires_grad = True\n",
        "  # Get the i'th target\n",
        "  y = torch.ones(1, dtype=torch.long) * example_targets[i]\n",
        "\n",
        "  # Run the model\n",
        "  output = model(x)\n",
        "  # Compute the loss\n",
        "  loss = F.nll_loss(output, y)\n",
        "  # Back propagate\n",
        "  loss.backward()\n",
        "\n",
        "  # Collect ``datagrad``\n",
        "  dLdx = x.grad.data\n",
        "\n",
        "  # Call FGSM Attack\n",
        "  x_prime = fgsm_attack(x, epsilon, dLdx)\n",
        "\n",
        "  # Re-classify the perturbed image\n",
        "  output_prime = model(x_prime)\n",
        "\n",
        "  x = x.detach().numpy()\n",
        "  fig = plt.figure()\n",
        "  plt.subplot(1,2,1)\n",
        "  plt.tight_layout()\n",
        "  plt.imshow(x[0][0], cmap='gray', interpolation='none')\n",
        "  plt.title(\"Original Prediction: {}\".format(\n",
        "    output.data.max(1, keepdim=True)[1][0].item()))\n",
        "  plt.xticks([])\n",
        "  plt.yticks([])\n",
        "\n",
        "  plt.subplot(1,2,2)\n",
        "  plt.tight_layout()\n",
        "  plt.imshow(x_prime[0][0].detach().numpy(), cmap='gray', interpolation='none')\n",
        "  plt.title(\"Perturbed Prediction: {}\".format(\n",
        "    output_prime.data.max(1, keepdim=True)[1][0].item()))\n",
        "  plt.xticks([])\n",
        "  plt.yticks([])\n",
        "\n",
        "plt.show()"
      ]
    },
    {
      "cell_type": "markdown",
      "metadata": {
        "id": "vFXWK826HPQ8"
      },
      "source": [
        "Although we have only added a small amount of noise, the model is fooled into thinking that these images come from a different class.\n",
        "\n",
        "TODO -- Modify the attack so that it iteratively perturbs the data. i.e., so we take a small step epsilon, then re-calculate the gradient and take another small step according to the new gradient signs."
      ]
    },
    {
      "cell_type": "code",
      "execution_count": 21,
      "metadata": {},
      "outputs": [],
      "source": [
        "def modified_iterative_attack(x_orig, model, target_label, optimizer, epsilon, alpha, num_iterations):\n",
        "    \"\"\"\n",
        "    Iterative FGSM attack.\n",
        "    \n",
        "    Args:\n",
        "        x_orig: Original input tensor\n",
        "        model: The neural network model\n",
        "        target_label: Target label tensor\n",
        "        optimizer: The optimizer (for zero_grad())\n",
        "        epsilon: Maximum perturbation bound\n",
        "        alpha: Step size per iteration\n",
        "        num_iterations: Number of iterations\n",
        "    \"\"\"\n",
        "    \n",
        "    x_adv = x_orig.clone().detach()\n",
        "    \n",
        "    for i in range(num_iterations):\n",
        "        # Reset gradients\n",
        "        optimizer.zero_grad()\n",
        "        x_adv.requires_grad = True\n",
        "        \n",
        "        # Run the model\n",
        "        output = model(x_adv)\n",
        "        \n",
        "        # Compute the loss\n",
        "        loss = F.nll_loss(output, target_label)\n",
        "        \n",
        "        # Back propagate\n",
        "        loss.backward()\n",
        "        \n",
        "        # Collect gradient\n",
        "        dLdx = x_adv.grad.data\n",
        "        \n",
        "        # Apply FGSM step with step size alpha\n",
        "        sign_grad = torch.sign(dLdx)\n",
        "        x_adv = x_adv + alpha * sign_grad\n",
        "        \n",
        "        # Ensure perturbation stays within epsilon bound\n",
        "        perturbation = x_adv - x_orig\n",
        "        perturbation = torch.clamp(perturbation, -epsilon, epsilon)\n",
        "        x_adv = x_orig + perturbation\n",
        "        \n",
        "        # Clip to valid input range [0,1] if needed\n",
        "        x_adv = torch.clamp(x_adv, 0, 1)\n",
        "        \n",
        "        # Detach for next iteration\n",
        "        x_adv = x_adv.detach()\n",
        "    \n",
        "    return x_adv"
      ]
    },
    {
      "cell_type": "code",
      "execution_count": 23,
      "metadata": {},
      "outputs": [
        {
          "name": "stderr",
          "output_type": "stream",
          "text": [
            "C:\\Users\\pichau\\AppData\\Local\\Temp\\ipykernel_21960\\237405460.py:23: UserWarning: Implicit dimension choice for log_softmax has been deprecated. Change the call to include dim=X as an argument.\n",
            "  x = F.log_softmax(x)\n"
          ]
        },
        {
          "data": {
            "image/png": "[encoded data removed]",
            "text/plain": [
              "<Figure size 640x480 with 2 Axes>"
            ]
          },
          "metadata": {},
          "output_type": "display_data"
        },
        {
          "data": {
            "image/png": "[encoded data removed]",
            "text/plain": [
              "<Figure size 640x480 with 2 Axes>"
            ]
          },
          "metadata": {},
          "output_type": "display_data"
        },
        {
          "data": {
            "image/png": "[encoded data removed]",
            "text/plain": [
              "<Figure size 640x480 with 2 Axes>"
            ]
          },
          "metadata": {},
          "output_type": "display_data"
        }
      ],
      "source": [
        "no_examples = 3\n",
        "epsilon = 0.5\n",
        "alpha = 0.05  # Step size for each iteration\n",
        "num_iterations = 10  # Number of iterations\n",
        "\n",
        "for i in range(no_examples):\n",
        "    # Get the i'th data example\n",
        "    x = example_data[i,:,:,:]\n",
        "    # Add an extra dimension back to the beginning\n",
        "    x = x[None, :,:,:]\n",
        "    # Get the i'th target\n",
        "    y = torch.ones(1, dtype=torch.long) * example_targets[i]\n",
        "    # Iterative FGSM Attack\n",
        "    x_prime = modified_iterative_attack(x, model, y, optimizer, epsilon, alpha, num_iterations)\n",
        "    \n",
        "    # Re-classify the original and perturbed image\n",
        "    output = model(x)\n",
        "    output_prime = model(x_prime)\n",
        "    \n",
        "    x = x.detach().numpy()\n",
        "    fig = plt.figure()\n",
        "    plt.subplot(1,2,1)\n",
        "    plt.tight_layout()\n",
        "    plt.imshow(x[0][0], cmap='gray', interpolation='none')\n",
        "    plt.title(\"Original Prediction: {}\".format(\n",
        "        output.data.max(1, keepdim=True)[1][0].item()))\n",
        "    plt.xticks([])\n",
        "    plt.yticks([])\n",
        "    \n",
        "    plt.subplot(1,2,2)\n",
        "    plt.tight_layout()\n",
        "    plt.imshow(x_prime[0][0].detach().numpy(), cmap='gray', interpolation='none')\n",
        "    plt.title(\"Perturbed Prediction: {}\".format(\n",
        "        output_prime.data.max(1, keepdim=True)[1][0].item()))\n",
        "    plt.xticks([])\n",
        "    plt.yticks([])\n",
        "\n",
        "plt.show()"
      ]
    },
    {
      "cell_type": "code",
      "execution_count": null,
      "metadata": {},
      "outputs": [],
      "source": []
    }
  ],
  "metadata": {
    "colab": {
      "authorship_tag": "ABX9TyP9amtzXsNWqkmiPUQgxzKV",
      "include_colab_link": true,
      "provenance": []
    },
    "kernelspec": {
      "display_name": "cuda_2025",
      "language": "python",
      "name": "python3"
    },
    "language_info": {
      "codemirror_mode": {
        "name": "ipython",
        "version": 3
      },
      "file_extension": ".py",
      "mimetype": "text/x-python",
      "name": "python",
      "nbconvert_exporter": "python",
      "pygments_lexer": "ipython3",
      "version": "3.9.21"
    }
  },
  "nbformat": 4,
  "nbformat_minor": 0
}
