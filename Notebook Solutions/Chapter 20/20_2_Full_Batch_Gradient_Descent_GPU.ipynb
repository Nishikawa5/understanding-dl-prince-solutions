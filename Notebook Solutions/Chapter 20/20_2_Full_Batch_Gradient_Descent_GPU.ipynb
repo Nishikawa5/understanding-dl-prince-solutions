{
  "cells": [
    {
      "cell_type": "markdown",
      "metadata": {
        "colab_type": "text",
        "id": "view-in-github"
      },
      "source": [
        "<a href=\"https://colab.research.google.com/github/udlbook/udlbook/blob/main/Notebooks/Chap20/20_2_Full_Batch_Gradient_Descent_GPU.ipynb\" target=\"_parent\"><img src=\"https://colab.research.google.com/assets/colab-badge.svg\" alt=\"Open In Colab\"/></a>"
      ]
    },
    {
      "cell_type": "markdown",
      "metadata": {
        "id": "t9vk9Elugvmi"
      },
      "source": [
        "# **Notebook 20.2: Full Batch Gradient Descent**\n",
        "\n",
        "This notebook investigates training a network with full batch gradient descent as in figure 20.2.  This is the GPU version (notebook takes a long time to run).  If you are using Colab then you need to go change the runtime type to GPU on the Runtime menu.  Even then, you may run out of time.  If that's the case, you'll need to download the Python file and run locally.\n",
        "\n",
        "Work through the cells below, running each cell in turn. In various places you will see the words \"TODO\". Follow the instructions at these places and make predictions about what is going to happen or write code to complete the functions.\n",
        "\n",
        "Contact me at udlbookmail@gmail.com if you find any mistakes or have any suggestions.\n",
        "\n"
      ]
    },
    {
      "cell_type": "code",
      "execution_count": null,
      "metadata": {
        "id": "D5yLObtZCi9J"
      },
      "outputs": [],
      "source": [
        "# Run this if you're in a Colab to install MNIST 1D repository\n",
        "!pip install git+https://github.com/greydanus/mnist1d"
      ]
    },
    {
      "cell_type": "code",
      "execution_count": 1,
      "metadata": {
        "id": "YrXWAH7sUWvU"
      },
      "outputs": [
        {
          "name": "stdout",
          "output_type": "stream",
          "text": [
            "Using: cuda\n"
          ]
        }
      ],
      "source": [
        "import numpy as np\n",
        "import os\n",
        "import torch, torch.nn as nn\n",
        "from torch.utils.data import TensorDataset, DataLoader\n",
        "from torch.optim.lr_scheduler import StepLR\n",
        "import matplotlib.pyplot as plt\n",
        "import mnist1d\n",
        "import random\n",
        "from IPython.display import display, clear_output\n",
        "\n",
        "\n",
        "# Try attaching to GPU\n",
        "DEVICE = str(torch.device('cuda' if torch.cuda.is_available() else 'cpu'))\n",
        "print('Using:', DEVICE)"
      ]
    },
    {
      "cell_type": "code",
      "execution_count": 2,
      "metadata": {
        "id": "twI72ZCrCt5z"
      },
      "outputs": [
        {
          "name": "stdout",
          "output_type": "stream",
          "text": [
            "Did or could not load data from ./mnist1d_data.pkl. Rebuilding dataset...\n",
            "Examples in training set: 4000\n",
            "Length of each example: 40\n"
          ]
        }
      ],
      "source": [
        "args = mnist1d.data.get_dataset_args()\n",
        "data = mnist1d.data.get_dataset(args, path='./mnist1d_data.pkl', download=False, regenerate=False)\n",
        "\n",
        "# The training and test input and outputs are in\n",
        "# data['x'], data['y']\n",
        "print(\"Examples in training set: {}\".format(len(data['y'])))\n",
        "print(\"Length of each example: {}\".format(data['x'].shape[-1]))"
      ]
    },
    {
      "cell_type": "markdown",
      "metadata": {
        "id": "_sFvRDGrl4qe"
      },
      "source": [
        "Define the network"
      ]
    },
    {
      "cell_type": "code",
      "execution_count": 8,
      "metadata": {
        "id": "FslroPJJffrh"
      },
      "outputs": [],
      "source": [
        "# Data is length forty, and there are 10 classes\n",
        "D_i = 40\n",
        "D_o = 10\n",
        "\n",
        "# create model with one hidden layer and 298 hidden units\n",
        "model_1_layer = nn.Sequential(\n",
        "nn.Linear(D_i, 298),\n",
        "nn.ReLU(),\n",
        "nn.Linear(298, D_o))\n",
        "\n",
        "\n",
        "# TODO -- create model with three hidden layers and 100 hidden units per layer\n",
        "# Replace this line\n",
        "model_2_layer = nn.Sequential(\n",
        "    nn.Linear(D_i, 100),\n",
        "    nn.ReLU(),\n",
        "    nn.Linear(100, 100),\n",
        "    nn.ReLU(),    \n",
        "    nn.Linear(100, 100),\n",
        "    nn.ReLU(),\n",
        "    nn.Linear(100, D_o),\n",
        ")\n",
        "\n",
        "# TODO -- Create model with three hidden layers and 75 hidden units per layer\n",
        "# Replace this line\n",
        "model_3_layer = nn.Sequential(\n",
        "    nn.Linear(D_i, 75),\n",
        "    nn.ReLU(),\n",
        "    nn.Linear(75, 75),\n",
        "    nn.ReLU(),    \n",
        "    nn.Linear(75, 75),\n",
        "    nn.ReLU(),\n",
        "    nn.Linear(75, D_o),\n",
        ")\n",
        "\n",
        "# TODO create model with four hidden layers and 63 hidden units per layer\n",
        "# Replace this line\n",
        "model_4_layer = nn.Sequential(\n",
        "    nn.Linear(D_i, 63),\n",
        "    nn.ReLU(),\n",
        "    nn.Linear(63, 63),\n",
        "    nn.ReLU(),    \n",
        "    nn.Linear(63, 63),\n",
        "    nn.ReLU(),\n",
        "    nn.Linear(63, D_o),\n",
        ")"
      ]
    },
    {
      "cell_type": "code",
      "execution_count": 9,
      "metadata": {
        "id": "YgLaex1pfhqz"
      },
      "outputs": [],
      "source": [
        "# He initialization of weights\n",
        "def weights_init(layer_in):\n",
        "  if isinstance(layer_in, nn.Linear):\n",
        "    nn.init.kaiming_uniform_(layer_in.weight)\n",
        "    layer_in.bias.data.fill_(0.0)"
      ]
    },
    {
      "cell_type": "code",
      "execution_count": 10,
      "metadata": {
        "id": "NYw8I_3mmX5c"
      },
      "outputs": [],
      "source": [
        "def train_model(model, train_data_x, train_data_y, n_epoch, DEVICE):\n",
        "  print(\"This is going to take a long time!\")\n",
        "  # choose cross entropy loss function (equation 5.24 in the loss notes)\n",
        "  loss_function = nn.CrossEntropyLoss()\n",
        "  # construct SGD optimizer and initialize learning rate to small value and momentum to 0\n",
        "  optimizer = torch.optim.SGD(model.parameters(), lr = 0.0025, momentum=0.0)\n",
        "  # create 100 dummy data points and store in data loader class\n",
        "  x_train = torch.tensor(train_data_x.transpose(), dtype=torch.float32, device=DEVICE)\n",
        "  y_train = torch.tensor(train_data_y, dtype=torch.long, device=DEVICE)\n",
        "\n",
        "  # load the data into a class that creates the batches -- full batch as there are 4000 examples\n",
        "  data_loader = DataLoader(TensorDataset(x_train,y_train), batch_size=4000, shuffle=False, worker_init_fn=np.random.seed(1))\n",
        "\n",
        "  # Initialize model weights\n",
        "  model.apply(weights_init)\n",
        "\n",
        "  # store the errors percentage at each point\n",
        "  errors_train = np.zeros((n_epoch))\n",
        "\n",
        "  for epoch in range(n_epoch):\n",
        "    # loop over batches\n",
        "    for i, data in enumerate(data_loader):\n",
        "      # retrieve inputs and labels for this batch\n",
        "      x_batch, y_batch = data\n",
        "      # zero the parameter gradients\n",
        "      optimizer.zero_grad()\n",
        "      # forward pass -- calculate model output\n",
        "      pred = model(x_batch)\n",
        "      # compute the loss\n",
        "      loss = loss_function(pred, y_batch)\n",
        "      # Store the errors\n",
        "      _, predicted_train_class = torch.max(pred.data, 1)\n",
        "      errors_train[epoch] = 100 - 100 * (predicted_train_class == y_train).float().sum() / len(y_train)\n",
        "      # backward pass\n",
        "      loss.backward()\n",
        "      # SGD update\n",
        "      optimizer.step()\n",
        "\n",
        "      if epoch % 10 == 0:\n",
        "        clear_output(wait=True)\n",
        "        display(\"Epoch %d, errors_train %3.3f\"%(epoch, errors_train[epoch]))\n",
        "\n",
        "  return errors_train"
      ]
    },
    {
      "cell_type": "code",
      "execution_count": 11,
      "metadata": {
        "id": "4FE3HQ_vedXO"
      },
      "outputs": [
        {
          "name": "stdout",
          "output_type": "stream",
          "text": [
            "Train data: 4000 examples (columns), each of which has 40 dimensions (rows)\n"
          ]
        }
      ],
      "source": [
        "# Load in the data\n",
        "train_data_x = data['x'].transpose()\n",
        "train_data_y = data['y']\n",
        "# Print out sizes\n",
        "print(\"Train data: %d examples (columns), each of which has %d dimensions (rows)\"%((train_data_x.shape[1],train_data_x.shape[0])))"
      ]
    },
    {
      "cell_type": "code",
      "execution_count": 13,
      "metadata": {
        "id": "b56wdODqemF1"
      },
      "outputs": [
        {
          "data": {
            "text/plain": [
              "'Epoch 1990, errors_train 65.875'"
            ]
          },
          "metadata": {},
          "output_type": "display_data"
        }
      ],
      "source": [
        "# Train the four models\n",
        "model_4_layer = model_4_layer.to(DEVICE)\n",
        "errors_four_layers = train_model(model_4_layer, train_data_x, train_data_y, n_epoch=2000, DEVICE=DEVICE)\n"
      ]
    },
    {
      "cell_type": "code",
      "execution_count": 14,
      "metadata": {
        "id": "63WsEgDCmbB4"
      },
      "outputs": [
        {
          "data": {
            "text/plain": [
              "'Epoch 1990, errors_train 65.975'"
            ]
          },
          "metadata": {},
          "output_type": "display_data"
        }
      ],
      "source": [
        "model_3_layer = model_3_layer.to(DEVICE)\n",
        "errors_three_layers = train_model(model_3_layer, train_data_x, train_data_y, n_epoch=2000, DEVICE=DEVICE)\n"
      ]
    },
    {
      "cell_type": "code",
      "execution_count": 15,
      "metadata": {
        "id": "3TfS5DaZmdCN"
      },
      "outputs": [
        {
          "data": {
            "text/plain": [
              "'Epoch 1990, errors_train 63.225'"
            ]
          },
          "metadata": {},
          "output_type": "display_data"
        }
      ],
      "source": [
        "model_2_layer = model_2_layer.to(DEVICE)\n",
        "errors_two_layers = train_model(model_2_layer, train_data_x, train_data_y, n_epoch=2000, DEVICE=DEVICE)\n"
      ]
    },
    {
      "cell_type": "code",
      "execution_count": 16,
      "metadata": {
        "id": "3f9Z6Mh4meeA"
      },
      "outputs": [
        {
          "data": {
            "text/plain": [
              "'Epoch 4990, errors_train 54.625'"
            ]
          },
          "metadata": {},
          "output_type": "display_data"
        }
      ],
      "source": [
        "model_1_layer = model_1_layer.to(DEVICE)\n",
        "errors_one_layer = train_model(model_1_layer, train_data_x, train_data_y, n_epoch=5000, DEVICE=DEVICE)"
      ]
    },
    {
      "cell_type": "code",
      "execution_count": 17,
      "metadata": {
        "id": "pYL0YMI5oNSR"
      },
      "outputs": [
        {
          "data": {
            "image/png": "[encoded data removed]",
            "text/plain": [
              "<Figure size 640x480 with 1 Axes>"
            ]
          },
          "metadata": {},
          "output_type": "display_data"
        }
      ],
      "source": [
        "# Plot the results\n",
        "# Indeed, would take a long time. I won't be able to do the full experiment with 200000 and 500000 epochs.\n",
        "fig, ax = plt.subplots()\n",
        "ax.plot(errors_one_layer,'r-',label='one layer')\n",
        "ax.plot(errors_two_layers,'g-',label='two layers')\n",
        "ax.plot(errors_three_layers,'b-',label='three layers')\n",
        "ax.plot(errors_four_layers,'m-',label='four layers')\n",
        "ax.set_ylim(0,100)\n",
        "ax.set_xlabel('Epoch'); ax.set_ylabel('Percent error')\n",
        "ax.legend()\n",
        "plt.show()"
      ]
    },
    {
      "cell_type": "code",
      "execution_count": null,
      "metadata": {
        "id": "iJem05Y03mZB"
      },
      "outputs": [],
      "source": []
    }
  ],
  "metadata": {
    "accelerator": "GPU",
    "colab": {
      "authorship_tag": "ABX9TyOG/5A+P053/x1IfFg52z4V",
      "gpuType": "T4",
      "include_colab_link": true,
      "provenance": []
    },
    "kernelspec": {
      "display_name": "cuda_2025",
      "language": "python",
      "name": "python3"
    },
    "language_info": {
      "codemirror_mode": {
        "name": "ipython",
        "version": 3
      },
      "file_extension": ".py",
      "mimetype": "text/x-python",
      "name": "python",
      "nbconvert_exporter": "python",
      "pygments_lexer": "ipython3",
      "version": "3.9.21"
    }
  },
  "nbformat": 4,
  "nbformat_minor": 0
}
