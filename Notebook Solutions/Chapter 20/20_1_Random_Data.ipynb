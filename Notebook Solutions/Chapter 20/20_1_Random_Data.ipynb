{
  "cells": [
    {
      "cell_type": "markdown",
      "metadata": {
        "colab_type": "text",
        "id": "view-in-github"
      },
      "source": [
        "<a href=\"https://colab.research.google.com/github/udlbook/udlbook/blob/main/Notebooks/Chap20/20_1_Random_Data.ipynb\" target=\"_parent\"><img src=\"https://colab.research.google.com/assets/colab-badge.svg\" alt=\"Open In Colab\"/></a>"
      ]
    },
    {
      "cell_type": "markdown",
      "metadata": {
        "id": "t9vk9Elugvmi"
      },
      "source": [
        "# **Notebook 20.1: Random Data**\n",
        "\n",
        "This notebook investigates training the network with random data, as illustrated in figure 20.1.\n",
        "\n",
        "Work through the cells below, running each cell in turn. In various places you will see the words \"TODO\". Follow the instructions at these places and make predictions about what is going to happen or write code to complete the functions.\n",
        "\n",
        "Contact me at udlbookmail@gmail.com if you find any mistakes or have any suggestions.\n",
        "\n"
      ]
    },
    {
      "cell_type": "code",
      "execution_count": 1,
      "metadata": {
        "id": "D5yLObtZCi9J"
      },
      "outputs": [
        {
          "name": "stdout",
          "output_type": "stream",
          "text": [
            "Collecting git+https://github.com/greydanus/mnist1d\n",
            "  Cloning https://github.com/greydanus/mnist1d to /tmp/pip-req-build-06tjizb6\n",
            "  Running command git clone --filter=blob:none --quiet https://github.com/greydanus/mnist1d /tmp/pip-req-build-06tjizb6\n",
            "  Resolved https://github.com/greydanus/mnist1d to commit 7878d96082abd200c546a07a4101fa90b30fdf7e\n",
            "  Installing build dependencies ... \u001b[?25ldone\n",
            "\u001b[?25h  Getting requirements to build wheel ... \u001b[?25ldone\n",
            "\u001b[?25h  Preparing metadata (pyproject.toml) ... \u001b[?25ldone\n",
            "\u001b[?25hRequirement already satisfied: requests in /home/carni1/miniconda3/envs/idls23/lib/python3.8/site-packages (from mnist1d==0.0.2.post16) (2.32.3)\n",
            "Requirement already satisfied: numpy in /home/carni1/miniconda3/envs/idls23/lib/python3.8/site-packages (from mnist1d==0.0.2.post16) (1.24.3)\n",
            "Requirement already satisfied: matplotlib in /home/carni1/miniconda3/envs/idls23/lib/python3.8/site-packages (from mnist1d==0.0.2.post16) (3.7.2)\n",
            "Requirement already satisfied: scipy in /home/carni1/miniconda3/envs/idls23/lib/python3.8/site-packages (from mnist1d==0.0.2.post16) (1.10.1)\n",
            "Requirement already satisfied: contourpy>=1.0.1 in /home/carni1/miniconda3/envs/idls23/lib/python3.8/site-packages (from matplotlib->mnist1d==0.0.2.post16) (1.0.5)\n",
            "Requirement already satisfied: cycler>=0.10 in /home/carni1/miniconda3/envs/idls23/lib/python3.8/site-packages (from matplotlib->mnist1d==0.0.2.post16) (0.11.0)\n",
            "Requirement already satisfied: fonttools>=4.22.0 in /home/carni1/miniconda3/envs/idls23/lib/python3.8/site-packages (from matplotlib->mnist1d==0.0.2.post16) (4.51.0)\n",
            "Requirement already satisfied: kiwisolver>=1.0.1 in /home/carni1/miniconda3/envs/idls23/lib/python3.8/site-packages (from matplotlib->mnist1d==0.0.2.post16) (1.4.4)\n",
            "Requirement already satisfied: packaging>=20.0 in /home/carni1/miniconda3/envs/idls23/lib/python3.8/site-packages (from matplotlib->mnist1d==0.0.2.post16) (24.1)\n",
            "Requirement already satisfied: pillow>=6.2.0 in /home/carni1/miniconda3/envs/idls23/lib/python3.8/site-packages (from matplotlib->mnist1d==0.0.2.post16) (10.4.0)\n",
            "Requirement already satisfied: pyparsing<3.1,>=2.3.1 in /home/carni1/miniconda3/envs/idls23/lib/python3.8/site-packages (from matplotlib->mnist1d==0.0.2.post16) (3.0.9)\n",
            "Requirement already satisfied: python-dateutil>=2.7 in /home/carni1/miniconda3/envs/idls23/lib/python3.8/site-packages (from matplotlib->mnist1d==0.0.2.post16) (2.9.0.post0)\n",
            "Requirement already satisfied: importlib-resources>=3.2.0 in /home/carni1/miniconda3/envs/idls23/lib/python3.8/site-packages (from matplotlib->mnist1d==0.0.2.post16) (6.4.0)\n",
            "Requirement already satisfied: charset-normalizer<4,>=2 in /home/carni1/miniconda3/envs/idls23/lib/python3.8/site-packages (from requests->mnist1d==0.0.2.post16) (3.3.2)\n",
            "Requirement already satisfied: idna<4,>=2.5 in /home/carni1/miniconda3/envs/idls23/lib/python3.8/site-packages (from requests->mnist1d==0.0.2.post16) (3.7)\n",
            "Requirement already satisfied: urllib3<3,>=1.21.1 in /home/carni1/miniconda3/envs/idls23/lib/python3.8/site-packages (from requests->mnist1d==0.0.2.post16) (2.2.3)\n",
            "Requirement already satisfied: certifi>=2017.4.17 in /home/carni1/miniconda3/envs/idls23/lib/python3.8/site-packages (from requests->mnist1d==0.0.2.post16) (2024.8.30)\n",
            "Requirement already satisfied: zipp>=3.1.0 in /home/carni1/miniconda3/envs/idls23/lib/python3.8/site-packages (from importlib-resources>=3.2.0->matplotlib->mnist1d==0.0.2.post16) (3.21.0)\n",
            "Requirement already satisfied: six>=1.5 in /home/carni1/miniconda3/envs/idls23/lib/python3.8/site-packages (from python-dateutil>=2.7->matplotlib->mnist1d==0.0.2.post16) (1.16.0)\n"
          ]
        }
      ],
      "source": [
        "# Run this if you're in a Colab to install MNIST 1D repository\n",
        "!pip install git+https://github.com/greydanus/mnist1d"
      ]
    },
    {
      "cell_type": "code",
      "execution_count": 1,
      "metadata": {
        "id": "YrXWAH7sUWvU"
      },
      "outputs": [],
      "source": [
        "import numpy as np\n",
        "import os\n",
        "import torch, torch.nn as nn\n",
        "from torch.utils.data import TensorDataset, DataLoader\n",
        "from torch.optim.lr_scheduler import StepLR\n",
        "import matplotlib.pyplot as plt\n",
        "import mnist1d\n",
        "import random\n",
        "from IPython.display import display, clear_output"
      ]
    },
    {
      "cell_type": "code",
      "execution_count": 2,
      "metadata": {
        "id": "twI72ZCrCt5z"
      },
      "outputs": [
        {
          "name": "stdout",
          "output_type": "stream",
          "text": [
            "Successfully loaded data from ./mnist1d_data.pkl\n",
            "Examples in training set: 4000\n",
            "Examples in test set: 1000\n",
            "Length of each example: 40\n"
          ]
        }
      ],
      "source": [
        "args = mnist1d.data.get_dataset_args()\n",
        "data = mnist1d.data.get_dataset(args, path='./mnist1d_data.pkl', download=False, regenerate=False)\n",
        "\n",
        "# The training and test input and outputs are in\n",
        "# data['x'], data['y'], data['x_test'], and data['y_test']\n",
        "print(\"Examples in training set: {}\".format(len(data['y'])))\n",
        "print(\"Examples in test set: {}\".format(len(data['y_test'])))\n",
        "print(\"Length of each example: {}\".format(data['x'].shape[-1]))"
      ]
    },
    {
      "cell_type": "markdown",
      "metadata": {
        "id": "_sFvRDGrl4qe"
      },
      "source": [
        "Define the network"
      ]
    },
    {
      "cell_type": "code",
      "execution_count": 3,
      "metadata": {
        "id": "FslroPJJffrh"
      },
      "outputs": [],
      "source": [
        "D_i = 40    # Input dimensions\n",
        "D_k = 300   # Hidden dimensions\n",
        "D_o = 10    # Output dimensions\n",
        "\n",
        "model = nn.Sequential(\n",
        "nn.Linear(D_i, D_k),\n",
        "nn.ReLU(),\n",
        "nn.Linear(D_k, D_k),\n",
        "nn.ReLU(),\n",
        "nn.Linear(D_k, D_k),\n",
        "nn.ReLU(),\n",
        "nn.Linear(D_k, D_k),\n",
        "nn.ReLU(),\n",
        "nn.Linear(D_k, D_o))"
      ]
    },
    {
      "cell_type": "code",
      "execution_count": 4,
      "metadata": {
        "id": "YgLaex1pfhqz"
      },
      "outputs": [],
      "source": [
        "# He initialization of weights\n",
        "def weights_init(layer_in):\n",
        "  if isinstance(layer_in, nn.Linear):\n",
        "    nn.init.kaiming_uniform_(layer_in.weight)\n",
        "    layer_in.bias.data.fill_(0.0)"
      ]
    },
    {
      "cell_type": "code",
      "execution_count": 5,
      "metadata": {
        "id": "NYw8I_3mmX5c"
      },
      "outputs": [],
      "source": [
        "def train_model(train_data_x, train_data_y, n_epoch):\n",
        "  # choose cross entropy loss function (equation 5.24 in the loss notes)\n",
        "  loss_function = nn.CrossEntropyLoss()\n",
        "  # construct SGD optimizer and initialize learning rate and momentum\n",
        "  optimizer = torch.optim.SGD(model.parameters(), lr = 0.02, momentum=0.9)\n",
        "  # object that decreases learning rate by half every 20 epochs\n",
        "  scheduler = StepLR(optimizer, step_size=20, gamma=0.5)\n",
        "  # create 100 dummy data points and store in data loader class\n",
        "  x_train = torch.tensor(train_data_x.transpose().astype('float32'))\n",
        "  y_train = torch.tensor(train_data_y.astype('long'))\n",
        "\n",
        "  # load the data into a class that creates the batches\n",
        "  data_loader = DataLoader(TensorDataset(x_train,y_train), batch_size=100, shuffle=True, worker_init_fn=np.random.seed(1))\n",
        "\n",
        "  # Initialize model weights\n",
        "  model.apply(weights_init)\n",
        "\n",
        "  # store the loss and the % correct at each epoch\n",
        "  losses_train = np.zeros((n_epoch))\n",
        "\n",
        "  for epoch in range(n_epoch):\n",
        "    # loop over batches\n",
        "    for i, data in enumerate(data_loader):\n",
        "      # retrieve inputs and labels for this batch\n",
        "      x_batch, y_batch = data\n",
        "      # zero the parameter gradients\n",
        "      optimizer.zero_grad()\n",
        "      # forward pass -- calculate model output\n",
        "      pred = model(x_batch)\n",
        "      # compute the loss\n",
        "      loss = loss_function(pred, y_batch)\n",
        "      # backward pass\n",
        "      loss.backward()\n",
        "      # SGD update\n",
        "      optimizer.step()\n",
        "\n",
        "    # Run whole dataset to get statistics -- normally wouldn't do this\n",
        "    pred_train = model(x_train)\n",
        "    _, predicted_train_class = torch.max(pred_train.data, 1)\n",
        "    losses_train[epoch] = loss_function(pred_train, y_train).item()\n",
        "    if epoch % 5 == 0:\n",
        "        clear_output(wait=True)\n",
        "        display(\"Epoch %d, train loss %3.3f\"%(epoch, losses_train[epoch]))\n",
        "\n",
        "    # tell scheduler to consider updating learning rate\n",
        "    scheduler.step()\n",
        "\n",
        "  return losses_train"
      ]
    },
    {
      "cell_type": "code",
      "execution_count": 6,
      "metadata": {
        "id": "4FE3HQ_vedXO"
      },
      "outputs": [
        {
          "name": "stdout",
          "output_type": "stream",
          "text": [
            "Train data: 4000 examples (columns), each of which has 40 dimensions (rows)\n"
          ]
        }
      ],
      "source": [
        "# Load in the data\n",
        "train_data_x = data['x'].transpose()\n",
        "train_data_y = data['y']\n",
        "# Print out sizes\n",
        "print(\"Train data: %d examples (columns), each of which has %d dimensions (rows)\"%((train_data_x.shape[1],train_data_x.shape[0])))"
      ]
    },
    {
      "cell_type": "code",
      "execution_count": 7,
      "metadata": {
        "id": "b56wdODqemF1"
      },
      "outputs": [
        {
          "data": {
            "text/plain": [
              "'Epoch 55, train loss 0.002'"
            ]
          },
          "metadata": {},
          "output_type": "display_data"
        },
        {
          "data": {
            "image/png": "[encoded data removed]",
            "text/plain": [
              "<Figure size 432x288 with 1 Axes>"
            ]
          },
          "metadata": {
            "needs_background": "light"
          },
          "output_type": "display_data"
        }
      ],
      "source": [
        "# Compute loss for proper data  and plot\n",
        "n_epoch = 60\n",
        "loss_true_labels = train_model(train_data_x, train_data_y, n_epoch)\n",
        "# Plot the results\n",
        "fig, ax = plt.subplots()\n",
        "ax.plot(loss_true_labels,'r-',label='true_labels')\n",
        "# ax.set_ylim(0,0.7); ax.set_xlim(0,n_epoch)\n",
        "ax.set_xlabel('Epoch'); ax.set_ylabel('Loss')\n",
        "ax.legend()\n",
        "plt.show()"
      ]
    },
    {
      "cell_type": "code",
      "execution_count": 8,
      "metadata": {
        "id": "SbPCiiUKgTLw"
      },
      "outputs": [],
      "source": [
        "# TODO -- Randomize the input data (train_data_x), but retain overall mean and variance\n",
        "# Replace this line\n",
        "global_mean = np.mean(train_data_x)\n",
        "global_std = np.std(train_data_x)\n",
        "\n",
        "# Generate completely random data with the same global statistics\n",
        "train_data_x_randomized = np.random.normal(global_mean, global_std, size=train_data_x.shape)"
      ]
    },
    {
      "cell_type": "code",
      "execution_count": 9,
      "metadata": {
        "id": "y7CcCJvvjLnn"
      },
      "outputs": [
        {
          "data": {
            "text/plain": [
              "'Epoch 55, train loss 0.002'"
            ]
          },
          "metadata": {},
          "output_type": "display_data"
        },
        {
          "data": {
            "image/png": "[encoded data removed]",
            "text/plain": [
              "<Figure size 432x288 with 1 Axes>"
            ]
          },
          "metadata": {
            "needs_background": "light"
          },
          "output_type": "display_data"
        }
      ],
      "source": [
        "# Compute loss for true labels and plot\n",
        "n_epoch = 60\n",
        "loss_randomized_data = train_model(train_data_x_randomized, train_data_y, n_epoch)\n",
        "# Plot the results\n",
        "fig, ax = plt.subplots()\n",
        "ax.plot(loss_true_labels,'r-',label='true_labels')\n",
        "ax.plot(loss_randomized_data,'b-',label='random_data')\n",
        "# ax.set_ylim(0,0.7); ax.set_xlim(0,n_epoch)\n",
        "ax.set_xlabel('Epoch'); ax.set_ylabel('Loss')\n",
        "ax.legend()\n",
        "plt.show()"
      ]
    },
    {
      "cell_type": "code",
      "execution_count": 12,
      "metadata": {
        "id": "ojaMTrzKj_74"
      },
      "outputs": [],
      "source": [
        "# TODO -- Permute the labels\n",
        "# Replace this line:\n",
        "train_data_y_permuted = np.random.permutation(train_data_y)"
      ]
    },
    {
      "cell_type": "code",
      "execution_count": 13,
      "metadata": {
        "id": "LaYCSjyMo9LQ"
      },
      "outputs": [
        {
          "data": {
            "text/plain": [
              "'Epoch 55, train loss 0.003'"
            ]
          },
          "metadata": {},
          "output_type": "display_data"
        },
        {
          "data": {
            "image/png": "[encoded data removed]",
            "text/plain": [
              "<Figure size 432x288 with 1 Axes>"
            ]
          },
          "metadata": {
            "needs_background": "light"
          },
          "output_type": "display_data"
        }
      ],
      "source": [
        "# Compute loss for true labels and plot\n",
        "n_epoch = 60\n",
        "loss_permuted_labels = train_model(train_data_x, train_data_y_permuted, n_epoch)\n",
        "# Plot the results\n",
        "fig, ax = plt.subplots()\n",
        "ax.plot(loss_true_labels,'r-',label='true_labels')\n",
        "ax.plot(loss_randomized_data,'b-',label='random_data')\n",
        "ax.plot(loss_permuted_labels,'g-',label='random_labels')\n",
        "# ax.set_ylim(0,0.7); ax.set_xlim(0,n_epoch)\n",
        "ax.set_xlabel('Epoch'); ax.set_ylabel('Loss')\n",
        "ax.legend()\n",
        "plt.show()"
      ]
    },
    {
      "cell_type": "code",
      "execution_count": null,
      "metadata": {},
      "outputs": [],
      "source": []
    }
  ],
  "metadata": {
    "colab": {
      "authorship_tag": "ABX9TyNgBRvfIlngVobKuLE6leM+",
      "include_colab_link": true,
      "provenance": []
    },
    "kernelspec": {
      "display_name": "idls23",
      "language": "python",
      "name": "python3"
    },
    "language_info": {
      "codemirror_mode": {
        "name": "ipython",
        "version": 3
      },
      "file_extension": ".py",
      "mimetype": "text/x-python",
      "name": "python",
      "nbconvert_exporter": "python",
      "pygments_lexer": "ipython3",
      "version": "3.8.19"
    }
  },
  "nbformat": 4,
  "nbformat_minor": 0
}
