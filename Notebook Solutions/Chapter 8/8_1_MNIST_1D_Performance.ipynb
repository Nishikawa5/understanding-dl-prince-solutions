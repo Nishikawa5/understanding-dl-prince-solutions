{
  "cells": [
    {
      "cell_type": "markdown",
      "metadata": {
        "colab_type": "text",
        "id": "view-in-github"
      },
      "source": [
        "<a href=\"https://colab.research.google.com/github/udlbook/udlbook/blob/main/Notebooks/Chap08/8_1_MNIST_1D_Performance.ipynb\" target=\"_parent\"><img src=\"https://colab.research.google.com/assets/colab-badge.svg\" alt=\"Open In Colab\"/></a>"
      ]
    },
    {
      "cell_type": "markdown",
      "metadata": {
        "id": "L6chybAVFJW2"
      },
      "source": [
        "# **Notebook 8.1: MNIST_1D_Performance**\n",
        "\n",
        "This notebook runs a simple neural network on the MNIST1D dataset as in figure 8.2a. It uses code from https://github.com/greydanus/mnist1d to generate the data.\n",
        "\n",
        "Work through the cells below, running each cell in turn. In various places you will see the words \"TO DO\". Follow the instructions at these places and make predictions about what is going to happen or write code to complete the functions.\n",
        "\n",
        "Contact me at udlbookmail@gmail.com if you find any mistakes or have any suggestions."
      ]
    },
    {
      "cell_type": "code",
      "execution_count": 1,
      "metadata": {
        "id": "ifVjS4cTOqKz"
      },
      "outputs": [
        {
          "name": "stdout",
          "output_type": "stream",
          "text": [
            "Collecting git+https://github.com/greydanus/mnist1d\n",
            "  Cloning https://github.com/greydanus/mnist1d to c:\\users\\pichau\\appdata\\local\\temp\\pip-req-build-tu6f86mz\n",
            "  Resolved https://github.com/greydanus/mnist1d to commit 7878d96082abd200c546a07a4101fa90b30fdf7e\n",
            "  Installing build dependencies: started\n",
            "  Installing build dependencies: finished with status 'done'\n",
            "  Getting requirements to build wheel: started\n",
            "  Getting requirements to build wheel: finished with status 'done'\n",
            "  Preparing metadata (pyproject.toml): started\n",
            "  Preparing metadata (pyproject.toml): finished with status 'done'\n",
            "Requirement already satisfied: requests in c:\\users\\pichau\\anaconda3\\lib\\site-packages (from mnist1d==0.0.2.post16) (2.31.0)\n",
            "Requirement already satisfied: numpy in c:\\users\\pichau\\anaconda3\\lib\\site-packages (from mnist1d==0.0.2.post16) (1.26.0)\n",
            "Requirement already satisfied: matplotlib in c:\\users\\pichau\\anaconda3\\lib\\site-packages (from mnist1d==0.0.2.post16) (3.8.4)\n",
            "Requirement already satisfied: scipy in c:\\users\\pichau\\appdata\\roaming\\python\\python311\\site-packages (from mnist1d==0.0.2.post16) (1.10.1)\n",
            "Requirement already satisfied: contourpy>=1.0.1 in c:\\users\\pichau\\anaconda3\\lib\\site-packages (from matplotlib->mnist1d==0.0.2.post16) (1.2.0)\n",
            "Requirement already satisfied: cycler>=0.10 in c:\\users\\pichau\\anaconda3\\lib\\site-packages (from matplotlib->mnist1d==0.0.2.post16) (0.11.0)\n",
            "Requirement already satisfied: fonttools>=4.22.0 in c:\\users\\pichau\\anaconda3\\lib\\site-packages (from matplotlib->mnist1d==0.0.2.post16) (4.51.0)\n",
            "Requirement already satisfied: kiwisolver>=1.3.1 in c:\\users\\pichau\\anaconda3\\lib\\site-packages (from matplotlib->mnist1d==0.0.2.post16) (1.4.4)\n",
            "Requirement already satisfied: packaging>=20.0 in c:\\users\\pichau\\anaconda3\\lib\\site-packages (from matplotlib->mnist1d==0.0.2.post16) (23.2)\n",
            "Requirement already satisfied: pillow>=8 in c:\\users\\pichau\\anaconda3\\lib\\site-packages (from matplotlib->mnist1d==0.0.2.post16) (10.3.0)\n",
            "Requirement already satisfied: pyparsing>=2.3.1 in c:\\users\\pichau\\anaconda3\\lib\\site-packages (from matplotlib->mnist1d==0.0.2.post16) (3.0.9)\n",
            "Requirement already satisfied: python-dateutil>=2.7 in c:\\users\\pichau\\anaconda3\\lib\\site-packages (from matplotlib->mnist1d==0.0.2.post16) (2.9.0.post0)\n",
            "Requirement already satisfied: charset-normalizer<4,>=2 in c:\\users\\pichau\\anaconda3\\lib\\site-packages (from requests->mnist1d==0.0.2.post16) (2.0.4)\n",
            "Requirement already satisfied: idna<4,>=2.5 in c:\\users\\pichau\\anaconda3\\lib\\site-packages (from requests->mnist1d==0.0.2.post16) (3.7)\n",
            "Requirement already satisfied: urllib3<3,>=1.21.1 in c:\\users\\pichau\\anaconda3\\lib\\site-packages (from requests->mnist1d==0.0.2.post16) (2.2.1)\n",
            "Requirement already satisfied: certifi>=2017.4.17 in c:\\users\\pichau\\anaconda3\\lib\\site-packages (from requests->mnist1d==0.0.2.post16) (2024.7.4)\n",
            "Requirement already satisfied: six>=1.5 in c:\\users\\pichau\\anaconda3\\lib\\site-packages (from python-dateutil>=2.7->matplotlib->mnist1d==0.0.2.post16) (1.16.0)\n",
            "Building wheels for collected packages: mnist1d\n",
            "  Building wheel for mnist1d (pyproject.toml): started\n",
            "  Building wheel for mnist1d (pyproject.toml): finished with status 'done'\n",
            "  Created wheel for mnist1d: filename=mnist1d-0.0.2.post16-py3-none-any.whl size=14720 sha256=d596395d17854c2ad9fbe94eb8e3ec0f7345012b3c4b6219e21ec5d4bfd133f0\n",
            "  Stored in directory: C:\\Users\\pichau\\AppData\\Local\\Temp\\pip-ephem-wheel-cache-vbgwjky8\\wheels\\d6\\38\\42\\3d2112bc7d915f6195254ac85eb761d922d1b18f52817aa8e2\n",
            "Successfully built mnist1d\n",
            "Installing collected packages: mnist1d\n",
            "Successfully installed mnist1d-0.0.2.post16\n",
            "Note: you may need to restart the kernel to use updated packages.\n"
          ]
        },
        {
          "name": "stderr",
          "output_type": "stream",
          "text": [
            "  Running command git clone --filter=blob:none --quiet https://github.com/greydanus/mnist1d 'C:\\Users\\pichau\\AppData\\Local\\Temp\\pip-req-build-tu6f86mz'\n"
          ]
        }
      ],
      "source": [
        "# Run this if you're in a Colab to install MNIST 1D repository\n",
        "%pip install git+https://github.com/greydanus/mnist1d"
      ]
    },
    {
      "cell_type": "code",
      "execution_count": 14,
      "metadata": {
        "id": "qyE7G1StPIqO"
      },
      "outputs": [],
      "source": [
        "import torch, torch.nn as nn\n",
        "from torch.utils.data import TensorDataset, DataLoader\n",
        "from torch.optim.lr_scheduler import StepLR\n",
        "import numpy as np\n",
        "import matplotlib.pyplot as plt\n",
        "import mnist1d"
      ]
    },
    {
      "cell_type": "markdown",
      "metadata": {
        "id": "F7LNq72SP6jO"
      },
      "source": [
        "Let's generate a training and test dataset using the MNIST1D code.  The dataset gets saved as a .pkl file so it doesn't have to be regenerated each time."
      ]
    },
    {
      "cell_type": "code",
      "execution_count": 15,
      "metadata": {
        "id": "YLxf7dJfPaqw"
      },
      "outputs": [
        {
          "name": "stdout",
          "output_type": "stream",
          "text": [
            "Successfully loaded data from ./mnist1d_data.pkl\n",
            "Examples in training set: 4000\n",
            "Examples in test set: 1000\n",
            "Length of each example: 40\n"
          ]
        }
      ],
      "source": [
        "args = mnist1d.data.get_dataset_args()\n",
        "data = mnist1d.data.get_dataset(args, path='./mnist1d_data.pkl', download=False, regenerate=False)\n",
        "\n",
        "# The training and test input and outputs are in\n",
        "# data['x'], data['y'], data['x_test'], and data['y_test']\n",
        "print(\"Examples in training set: {}\".format(len(data['y'])))\n",
        "print(\"Examples in test set: {}\".format(len(data['y_test'])))\n",
        "print(\"Length of each example: {}\".format(data['x'].shape[-1]))"
      ]
    },
    {
      "cell_type": "code",
      "execution_count": 16,
      "metadata": {
        "id": "FxaB5vc0uevl"
      },
      "outputs": [
        {
          "name": "stdout",
          "output_type": "stream",
          "text": [
            "Initializing layer\n",
            "Initializing layer\n",
            "Initializing layer\n",
            "Initializing layer\n",
            "Initializing layer\n",
            "Initializing layer\n",
            "Initializing layer\n",
            "Initializing layer\n"
          ]
        },
        {
          "data": {
            "text/plain": [
              "Sequential(\n",
              "  (0): Linear(in_features=40, out_features=100, bias=True)\n",
              "  (1): ReLU()\n",
              "  (2): Linear(in_features=100, out_features=100, bias=True)\n",
              "  (3): ReLU()\n",
              "  (4): Linear(in_features=100, out_features=100, bias=True)\n",
              "  (5): ReLU()\n",
              "  (6): Linear(in_features=100, out_features=10, bias=True)\n",
              ")"
            ]
          },
          "execution_count": 16,
          "metadata": {},
          "output_type": "execute_result"
        }
      ],
      "source": [
        "D_i = 40    # Input dimensions\n",
        "D_k = 100   # Hidden dimensions\n",
        "D_o = 10    # Output dimensions\n",
        "# TO DO:\n",
        "# Define a model with two hidden layers of size 100\n",
        "# And ReLU activations between them\n",
        "model = torch.nn.Sequential(\n",
        "    torch.nn.Linear(D_i, D_k),\n",
        "    nn.ReLU(),\n",
        "    nn.Linear(D_k, D_k),\n",
        "    nn.ReLU(),\n",
        "    nn.Linear(D_k, D_k),\n",
        "    nn.ReLU(),\n",
        "    nn.Linear(D_k, D_o)\n",
        ")\n",
        "\n",
        "\n",
        "def weights_init(layer_in):\n",
        "    # TO DO:\n",
        "    # Initialize the parameters with He initialization\n",
        "    print(\"Initializing layer\")\n",
        "    if isinstance(layer_in, nn.Linear):\n",
        "        nn.init.kaiming_normal_(layer_in.weight)\n",
        "        layer_in.bias.data.fill_(0.0)\n",
        "\n",
        "\n",
        "# Call the function you just defined\n",
        "model.apply(weights_init)\n"
      ]
    },
    {
      "cell_type": "code",
      "execution_count": 25,
      "metadata": {
        "id": "_rX6N3VyyQTY"
      },
      "outputs": [
        {
          "name": "stdout",
          "output_type": "stream",
          "text": [
            "Initializing layer\n",
            "Initializing layer\n",
            "Initializing layer\n",
            "Initializing layer\n",
            "Initializing layer\n",
            "Initializing layer\n",
            "Initializing layer\n",
            "Initializing layer\n",
            "Epoch     0, train loss 1.645516, train error 63.83,  test loss 1.747604, test error 70.80\n",
            "Epoch     1, train loss 1.356633, train error 52.05,  test loss 1.508476, test error 61.10\n",
            "Epoch     2, train loss 1.134446, train error 42.20,  test loss 1.336173, test error 53.10\n",
            "Epoch     3, train loss 0.967428, train error 36.03,  test loss 1.221658, test error 46.00\n",
            "Epoch     4, train loss 0.909318, train error 33.62,  test loss 1.258731, test error 47.50\n",
            "Epoch     5, train loss 0.811276, train error 30.35,  test loss 1.211508, test error 43.90\n",
            "Epoch     6, train loss 0.668980, train error 24.45,  test loss 1.148670, test error 43.00\n",
            "Epoch     7, train loss 0.586555, train error 21.05,  test loss 1.122031, test error 41.20\n",
            "Epoch     8, train loss 0.478855, train error 17.32,  test loss 1.104749, test error 41.10\n",
            "Epoch     9, train loss 0.417911, train error 13.72,  test loss 1.130409, test error 40.30\n",
            "Epoch    10, train loss 0.273282, train error 7.97,  test loss 1.058956, test error 35.80\n",
            "Epoch    11, train loss 0.209646, train error 5.18,  test loss 1.031290, test error 34.20\n",
            "Epoch    12, train loss 0.174759, train error 4.38,  test loss 1.048363, test error 35.50\n",
            "Epoch    13, train loss 0.151439, train error 3.57,  test loss 1.163458, test error 37.00\n",
            "Epoch    14, train loss 0.128795, train error 2.93,  test loss 1.155197, test error 36.70\n",
            "Epoch    15, train loss 0.100677, train error 1.57,  test loss 1.168915, test error 37.00\n",
            "Epoch    16, train loss 0.074384, train error 0.60,  test loss 1.207758, test error 33.40\n",
            "Epoch    17, train loss 0.063196, train error 0.18,  test loss 1.234666, test error 35.50\n",
            "Epoch    18, train loss 0.055550, train error 0.50,  test loss 1.298249, test error 35.60\n",
            "Epoch    19, train loss 0.045757, train error 0.22,  test loss 1.282677, test error 36.50\n",
            "Epoch    20, train loss 0.034103, train error 0.00,  test loss 1.306909, test error 34.80\n",
            "Epoch    21, train loss 0.030165, train error 0.00,  test loss 1.331334, test error 35.50\n",
            "Epoch    22, train loss 0.028405, train error 0.00,  test loss 1.349184, test error 36.00\n",
            "Epoch    23, train loss 0.025838, train error 0.00,  test loss 1.360043, test error 35.70\n",
            "Epoch    24, train loss 0.024364, train error 0.00,  test loss 1.378155, test error 35.80\n",
            "Epoch    25, train loss 0.022673, train error 0.00,  test loss 1.393168, test error 35.80\n",
            "Epoch    26, train loss 0.021225, train error 0.00,  test loss 1.406193, test error 35.80\n",
            "Epoch    27, train loss 0.020279, train error 0.00,  test loss 1.426438, test error 35.80\n",
            "Epoch    28, train loss 0.019451, train error 0.00,  test loss 1.428956, test error 35.90\n",
            "Epoch    29, train loss 0.017899, train error 0.00,  test loss 1.448447, test error 35.90\n",
            "Epoch    30, train loss 0.017366, train error 0.00,  test loss 1.449434, test error 36.00\n",
            "Epoch    31, train loss 0.016895, train error 0.00,  test loss 1.458652, test error 36.00\n",
            "Epoch    32, train loss 0.016488, train error 0.00,  test loss 1.466635, test error 36.10\n",
            "Epoch    33, train loss 0.016068, train error 0.00,  test loss 1.468255, test error 35.90\n",
            "Epoch    34, train loss 0.015714, train error 0.00,  test loss 1.474657, test error 35.90\n",
            "Epoch    35, train loss 0.015316, train error 0.00,  test loss 1.483345, test error 35.70\n",
            "Epoch    36, train loss 0.015002, train error 0.00,  test loss 1.485412, test error 36.20\n",
            "Epoch    37, train loss 0.014634, train error 0.00,  test loss 1.491927, test error 36.30\n",
            "Epoch    38, train loss 0.014313, train error 0.00,  test loss 1.496747, test error 35.80\n",
            "Epoch    39, train loss 0.014048, train error 0.00,  test loss 1.502554, test error 36.20\n",
            "Epoch    40, train loss 0.013838, train error 0.00,  test loss 1.504970, test error 36.00\n",
            "Epoch    41, train loss 0.013690, train error 0.00,  test loss 1.506342, test error 35.90\n",
            "Epoch    42, train loss 0.013544, train error 0.00,  test loss 1.510836, test error 36.10\n",
            "Epoch    43, train loss 0.013396, train error 0.00,  test loss 1.512366, test error 36.00\n",
            "Epoch    44, train loss 0.013255, train error 0.00,  test loss 1.514222, test error 36.10\n",
            "Epoch    45, train loss 0.013121, train error 0.00,  test loss 1.516632, test error 36.10\n",
            "Epoch    46, train loss 0.012990, train error 0.00,  test loss 1.518904, test error 36.00\n",
            "Epoch    47, train loss 0.012861, train error 0.00,  test loss 1.521326, test error 35.90\n",
            "Epoch    48, train loss 0.012732, train error 0.00,  test loss 1.524618, test error 36.10\n",
            "Epoch    49, train loss 0.012602, train error 0.00,  test loss 1.526841, test error 36.10\n"
          ]
        }
      ],
      "source": [
        "# choose cross entropy loss function (equation 5.24)\n",
        "loss_function = torch.nn.CrossEntropyLoss()\n",
        "# construct SGD optimizer and initialize learning rate and momentum\n",
        "optimizer = torch.optim.SGD(model.parameters(), lr = 0.05, momentum=0.9)\n",
        "# object that decreases learning rate by half every 10 epochs\n",
        "scheduler = StepLR(optimizer, step_size=10, gamma=0.5)\n",
        "x_train = torch.tensor(data['x'], dtype=torch.float32)\n",
        "y_train = torch.tensor(data['y'].transpose(), dtype=torch.int64)\n",
        "x_test= torch.tensor(data['x_test'], dtype=torch.float32)\n",
        "y_test = torch.tensor(data['y_test'], dtype=torch.int64)\n",
        "\n",
        "# load the data into a class that creates the batches\n",
        "data_loader = DataLoader(TensorDataset(x_train,y_train), batch_size=100, shuffle=True, worker_init_fn=np.random.seed(1))\n",
        "\n",
        "# Initialize model weights\n",
        "model.apply(weights_init)\n",
        "\n",
        "# loop over the dataset n_epoch times\n",
        "n_epoch = 50\n",
        "# store the loss and the % correct at each epoch\n",
        "losses_train = np.zeros((n_epoch))\n",
        "errors_train = np.zeros((n_epoch))\n",
        "losses_test = np.zeros((n_epoch))\n",
        "errors_test = np.zeros((n_epoch))\n",
        "\n",
        "for epoch in range(n_epoch):\n",
        "  # loop over batches\n",
        "  for i, batch in enumerate(data_loader):\n",
        "    # retrieve inputs and labels for this batch\n",
        "    x_batch, y_batch = batch\n",
        "    # zero the parameter gradients\n",
        "    optimizer.zero_grad()\n",
        "    # forward pass -- calculate model output\n",
        "    pred = model(x_batch)\n",
        "    # compute the loss\n",
        "    loss = loss_function(pred, y_batch)\n",
        "    # backward pass\n",
        "    loss.backward()\n",
        "    # SGD update\n",
        "    optimizer.step()\n",
        "\n",
        "  # Run whole dataset to get statistics -- normally wouldn't do this\n",
        "  pred_train = model(x_train)\n",
        "  pred_test = model(x_test)\n",
        "  _, predicted_train_class = torch.max(pred_train.data, 1)\n",
        "  _, predicted_test_class = torch.max(pred_test.data, 1)\n",
        "  errors_train[epoch] = 100 - 100 * (predicted_train_class == y_train).float().sum() / len(y_train)\n",
        "  errors_test[epoch]= 100 - 100 * (predicted_test_class == y_test).float().sum() / len(y_test)\n",
        "  losses_train[epoch] = loss_function(pred_train, y_train).item()\n",
        "  losses_test[epoch]= loss_function(pred_test, y_test).item()\n",
        "  print(f'Epoch {epoch:5d}, train loss {losses_train[epoch]:.6f}, train error {errors_train[epoch]:3.2f},  test loss {losses_test[epoch]:.6f}, test error {errors_test[epoch]:3.2f}')\n",
        "\n",
        "  # tell scheduler to consider updating learning rate\n",
        "  scheduler.step()"
      ]
    },
    {
      "cell_type": "code",
      "execution_count": 26,
      "metadata": {
        "id": "yI-l6kA_EH9G"
      },
      "outputs": [
        {
          "data": {
            "image/png": "[encoded data removed]",
            "text/plain": [
              "<Figure size 640x480 with 1 Axes>"
            ]
          },
          "metadata": {},
          "output_type": "display_data"
        },
        {
          "data": {
            "image/png": "[encoded data removed]",
            "text/plain": [
              "<Figure size 640x480 with 1 Axes>"
            ]
          },
          "metadata": {},
          "output_type": "display_data"
        },
        {
          "ename": "",
          "evalue": "",
          "output_type": "error",
          "traceback": [
            "\u001b[1;31mThe Kernel crashed while executing code in the current cell or a previous cell. \n",
            "\u001b[1;31mPlease review the code in the cell(s) to identify a possible cause of the failure. \n",
            "\u001b[1;31mClick <a href='https://aka.ms/vscodeJupyterKernelCrash'>here</a> for more info. \n",
            "\u001b[1;31mView Jupyter <a href='command:jupyter.viewOutput'>log</a> for further details."
          ]
        }
      ],
      "source": [
        "# Plot the results\n",
        "fig, ax = plt.subplots()\n",
        "ax.plot(errors_train,'r-',label='train')\n",
        "ax.plot(errors_test,'b-',label='test')\n",
        "ax.set_ylim(0,100); ax.set_xlim(0,n_epoch)\n",
        "ax.set_xlabel('Epoch'); ax.set_ylabel('Error')\n",
        "ax.set_title('TrainError %3.2f, Test Error %3.2f'%(errors_train[-1],errors_test[-1]))\n",
        "ax.legend()\n",
        "plt.show()\n",
        "\n",
        "# Plot the results\n",
        "fig, ax = plt.subplots()\n",
        "ax.plot(losses_train,'r-',label='train')\n",
        "ax.plot(losses_test,'b-',label='test')\n",
        "ax.set_xlim(0,n_epoch)\n",
        "ax.set_xlabel('Epoch'); ax.set_ylabel('Loss')\n",
        "ax.set_title('Train loss %3.2f, Test loss %3.2f'%(losses_train[-1],losses_test[-1]))\n",
        "ax.legend()\n",
        "plt.show()"
      ]
    },
    {
      "cell_type": "markdown",
      "metadata": {
        "id": "q-yT6re6GZS4"
      },
      "source": [
        "**TO DO**\n",
        "\n",
        "Play with the model -- try changing the number of layers, hidden units, learning rate, batch size, momentum or anything else you like.  See if you can improve the test results.\n",
        "\n",
        "Is it a good idea to optimize the hyperparameters in this way?  Will the final result be a good estimate of the true test performance?"
      ]
    }
  ],
  "metadata": {
    "accelerator": "GPU",
    "colab": {
      "authorship_tag": "ABX9TyOuKMUcKfOIhIL2qTX9jJCy",
      "gpuType": "T4",
      "include_colab_link": true,
      "provenance": []
    },
    "kernelspec": {
      "display_name": "base",
      "language": "python",
      "name": "python3"
    },
    "language_info": {
      "codemirror_mode": {
        "name": "ipython",
        "version": 3
      },
      "file_extension": ".py",
      "mimetype": "text/x-python",
      "name": "python",
      "nbconvert_exporter": "python",
      "pygments_lexer": "ipython3",
      "version": "3.11.5"
    }
  },
  "nbformat": 4,
  "nbformat_minor": 0
}
